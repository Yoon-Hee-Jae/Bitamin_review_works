{
  "nbformat": 4,
  "nbformat_minor": 0,
  "metadata": {
    "colab": {
      "provenance": [],
      "collapsed_sections": []
    },
    "kernelspec": {
      "name": "python3",
      "display_name": "Python 3"
    },
    "language_info": {
      "name": "python"
    }
  },
  "cells": [
    {
      "cell_type": "markdown",
      "source": [
        "KNN 복습"
      ],
      "metadata": {
        "id": "SY4sO00a9Lhe"
      }
    },
    {
      "cell_type": "code",
      "execution_count": 46,
      "metadata": {
        "id": "M27UIbcA8nOO"
      },
      "outputs": [],
      "source": [
        "import pandas as pd\n",
        "import numpy as np\n",
        "import matplotlib.pyplot as plt\n",
        "import seaborn as sns\n",
        "import warnings\n",
        "warnings.filterwarnings('ignore')\n",
        "from google.colab import files\n",
        "from sklearn.datasets import load_diabetes"
      ]
    },
    {
      "cell_type": "code",
      "source": [
        "diabetes = load_diabetes()"
      ],
      "metadata": {
        "id": "r85LQfx6RJ2n"
      },
      "execution_count": 47,
      "outputs": []
    },
    {
      "cell_type": "code",
      "source": [
        "X = diabetes.data\n",
        "y = diabetes.target"
      ],
      "metadata": {
        "id": "tA2LqMloRLsW"
      },
      "execution_count": 52,
      "outputs": []
    },
    {
      "cell_type": "code",
      "source": [
        "from sklearn.model_selection import train_test_split\n",
        "from sklearn.neighbors import KNeighborsRegressor"
      ],
      "metadata": {
        "id": "qChy7thnRxKA"
      },
      "execution_count": null,
      "outputs": []
    },
    {
      "cell_type": "code",
      "source": [
        "#훈련 셋, 테스트 셋 나누기 (random_state = 77, 70:30)\n",
        "X_train, X_test, y_train, y_test = train_test_split(X, y, random_state = 77, test_size = 0.3)"
      ],
      "metadata": {
        "id": "kUqcHHLARLpY"
      },
      "execution_count": 54,
      "outputs": []
    },
    {
      "cell_type": "code",
      "source": [
        "#knn 적용 (K=2, n_jobs = -1), 학습 결과와 테스트 결과 확인\n",
        "model = KNeighborsRegressor(n_neighbors = 2, n_jobs = -1).fit(X_train, y_train)\n",
        "print('학습결과:',model.score(X_train,y_train))\n",
        "print('테스트결과:',model.score(X_test,y_test))"
      ],
      "metadata": {
        "colab": {
          "base_uri": "https://localhost:8080/"
        },
        "id": "_Q40HqwJSlj2",
        "outputId": "ecb79d85-93ae-4421-a857-83b0401ae84d"
      },
      "execution_count": 56,
      "outputs": [
        {
          "output_type": "stream",
          "name": "stdout",
          "text": [
            "0.7440088688183109\n",
            "0.22298199492234472\n"
          ]
        }
      ]
    },
    {
      "cell_type": "code",
      "source": [
        "k = np.arange(1,20)\n",
        "train_result = np.zeros(len(k))\n",
        "test_result = np.zeros(len(k))\n",
        "for i, j in enumerate(k):\n",
        "  model = KNeighborsRegressor(n_neighbors = j, n_jobs = -1).fit(X_train, y_train)\n",
        "  train_result[i] = model.score(X_train, y_train)\n",
        "  test_result[i] = model.score(X_test, y_test)\n",
        "print('학습 결과 최대:', train_result.max())\n",
        "print('학습 결과 최대의 k값', k[np.where(train_result == train_result.max())])\n",
        "print('테스트 결과 최대:', test_result.max())\n",
        "print('테스트 결과 최대의 k값', k[np.where(test_result == test_result.max())])\n"
      ],
      "metadata": {
        "colab": {
          "base_uri": "https://localhost:8080/"
        },
        "id": "Ltp0aH4QS5bv",
        "outputId": "0efb2ea5-d7e9-4e6f-86f3-5f27ec59d56f"
      },
      "execution_count": 59,
      "outputs": [
        {
          "output_type": "stream",
          "name": "stdout",
          "text": [
            "학습 결과 최대: 1.0\n",
            "학습 결과 최대의 k값 [1]\n",
            "테스트 결과 최대: 0.4628069065111493\n",
            "테스트 결과 최대의 k값 [17]\n"
          ]
        }
      ]
    },
    {
      "cell_type": "markdown",
      "source": [
        "다항회귀 복습"
      ],
      "metadata": {
        "id": "cBBDs1XdIpWb"
      }
    },
    {
      "cell_type": "code",
      "source": [
        "from sklearn.linear_model import Ridge, Lasso\n",
        "diabetes = load_diabetes()\n",
        "X = diabetes.data\n",
        "y = diabetes.target"
      ],
      "metadata": {
        "id": "DNNp_khFlqnq"
      },
      "execution_count": 17,
      "outputs": []
    },
    {
      "cell_type": "code",
      "source": [
        "#alpha에 증가에 따른 가중치 계수 확인\n",
        "alpha = [0.001,0.01,0.1,1,10]\n",
        "data = []\n",
        "for i, a in enumerate(alpha):\n",
        "    ridge = Ridge(alpha=a).fit(X, y)\n",
        "    data.append(pd.Series(np.hstack([ridge.intercept_, ridge.coef_])))\n",
        "\n",
        "df_ridge = pd.DataFrame(data, index=alpha).T\n",
        "df_ridge"
      ],
      "metadata": {
        "colab": {
          "base_uri": "https://localhost:8080/",
          "height": 394
        },
        "id": "XFfIKJY8ory7",
        "outputId": "950b1e42-18a0-4d25-8d2c-76da83196ba7"
      },
      "execution_count": 18,
      "outputs": [
        {
          "output_type": "execute_result",
          "data": {
            "text/plain": [
              "        0.001       0.010       0.100       1.000       10.000\n",
              "0   152.133484  152.133484  152.133484  152.133484  152.133484\n",
              "1    -9.551414   -7.199457    1.307349   29.465746   19.812822\n",
              "2  -239.090354 -234.552930 -207.194814  -83.154885   -0.918458\n",
              "3   520.363367  520.583136  489.691080  306.351627   75.416167\n",
              "4   323.828627  320.523356  301.769437  201.629434   55.025419\n",
              "5  -712.328205 -380.607066  -83.466074    5.909369   19.924600\n",
              "6   413.383794  150.483752  -70.828096  -29.515927   13.948686\n",
              "7    65.811629  -78.591232 -188.680164 -152.040465  -47.553816\n",
              "8   167.513774  130.313059  115.712703  117.311715   48.259420\n",
              "9   720.944468  592.349587  443.814054  262.944995   70.144068\n",
              "10   68.122100   71.133768   86.748539  111.878718   44.213876"
            ],
            "text/html": [
              "\n",
              "  <div id=\"df-e79f5f1b-9626-4cf0-9237-5e22bbebbfa7\">\n",
              "    <div class=\"colab-df-container\">\n",
              "      <div>\n",
              "<style scoped>\n",
              "    .dataframe tbody tr th:only-of-type {\n",
              "        vertical-align: middle;\n",
              "    }\n",
              "\n",
              "    .dataframe tbody tr th {\n",
              "        vertical-align: top;\n",
              "    }\n",
              "\n",
              "    .dataframe thead th {\n",
              "        text-align: right;\n",
              "    }\n",
              "</style>\n",
              "<table border=\"1\" class=\"dataframe\">\n",
              "  <thead>\n",
              "    <tr style=\"text-align: right;\">\n",
              "      <th></th>\n",
              "      <th>0.001</th>\n",
              "      <th>0.010</th>\n",
              "      <th>0.100</th>\n",
              "      <th>1.000</th>\n",
              "      <th>10.000</th>\n",
              "    </tr>\n",
              "  </thead>\n",
              "  <tbody>\n",
              "    <tr>\n",
              "      <th>0</th>\n",
              "      <td>152.133484</td>\n",
              "      <td>152.133484</td>\n",
              "      <td>152.133484</td>\n",
              "      <td>152.133484</td>\n",
              "      <td>152.133484</td>\n",
              "    </tr>\n",
              "    <tr>\n",
              "      <th>1</th>\n",
              "      <td>-9.551414</td>\n",
              "      <td>-7.199457</td>\n",
              "      <td>1.307349</td>\n",
              "      <td>29.465746</td>\n",
              "      <td>19.812822</td>\n",
              "    </tr>\n",
              "    <tr>\n",
              "      <th>2</th>\n",
              "      <td>-239.090354</td>\n",
              "      <td>-234.552930</td>\n",
              "      <td>-207.194814</td>\n",
              "      <td>-83.154885</td>\n",
              "      <td>-0.918458</td>\n",
              "    </tr>\n",
              "    <tr>\n",
              "      <th>3</th>\n",
              "      <td>520.363367</td>\n",
              "      <td>520.583136</td>\n",
              "      <td>489.691080</td>\n",
              "      <td>306.351627</td>\n",
              "      <td>75.416167</td>\n",
              "    </tr>\n",
              "    <tr>\n",
              "      <th>4</th>\n",
              "      <td>323.828627</td>\n",
              "      <td>320.523356</td>\n",
              "      <td>301.769437</td>\n",
              "      <td>201.629434</td>\n",
              "      <td>55.025419</td>\n",
              "    </tr>\n",
              "    <tr>\n",
              "      <th>5</th>\n",
              "      <td>-712.328205</td>\n",
              "      <td>-380.607066</td>\n",
              "      <td>-83.466074</td>\n",
              "      <td>5.909369</td>\n",
              "      <td>19.924600</td>\n",
              "    </tr>\n",
              "    <tr>\n",
              "      <th>6</th>\n",
              "      <td>413.383794</td>\n",
              "      <td>150.483752</td>\n",
              "      <td>-70.828096</td>\n",
              "      <td>-29.515927</td>\n",
              "      <td>13.948686</td>\n",
              "    </tr>\n",
              "    <tr>\n",
              "      <th>7</th>\n",
              "      <td>65.811629</td>\n",
              "      <td>-78.591232</td>\n",
              "      <td>-188.680164</td>\n",
              "      <td>-152.040465</td>\n",
              "      <td>-47.553816</td>\n",
              "    </tr>\n",
              "    <tr>\n",
              "      <th>8</th>\n",
              "      <td>167.513774</td>\n",
              "      <td>130.313059</td>\n",
              "      <td>115.712703</td>\n",
              "      <td>117.311715</td>\n",
              "      <td>48.259420</td>\n",
              "    </tr>\n",
              "    <tr>\n",
              "      <th>9</th>\n",
              "      <td>720.944468</td>\n",
              "      <td>592.349587</td>\n",
              "      <td>443.814054</td>\n",
              "      <td>262.944995</td>\n",
              "      <td>70.144068</td>\n",
              "    </tr>\n",
              "    <tr>\n",
              "      <th>10</th>\n",
              "      <td>68.122100</td>\n",
              "      <td>71.133768</td>\n",
              "      <td>86.748539</td>\n",
              "      <td>111.878718</td>\n",
              "      <td>44.213876</td>\n",
              "    </tr>\n",
              "  </tbody>\n",
              "</table>\n",
              "</div>\n",
              "      <button class=\"colab-df-convert\" onclick=\"convertToInteractive('df-e79f5f1b-9626-4cf0-9237-5e22bbebbfa7')\"\n",
              "              title=\"Convert this dataframe to an interactive table.\"\n",
              "              style=\"display:none;\">\n",
              "        \n",
              "  <svg xmlns=\"http://www.w3.org/2000/svg\" height=\"24px\"viewBox=\"0 0 24 24\"\n",
              "       width=\"24px\">\n",
              "    <path d=\"M0 0h24v24H0V0z\" fill=\"none\"/>\n",
              "    <path d=\"M18.56 5.44l.94 2.06.94-2.06 2.06-.94-2.06-.94-.94-2.06-.94 2.06-2.06.94zm-11 1L8.5 8.5l.94-2.06 2.06-.94-2.06-.94L8.5 2.5l-.94 2.06-2.06.94zm10 10l.94 2.06.94-2.06 2.06-.94-2.06-.94-.94-2.06-.94 2.06-2.06.94z\"/><path d=\"M17.41 7.96l-1.37-1.37c-.4-.4-.92-.59-1.43-.59-.52 0-1.04.2-1.43.59L10.3 9.45l-7.72 7.72c-.78.78-.78 2.05 0 2.83L4 21.41c.39.39.9.59 1.41.59.51 0 1.02-.2 1.41-.59l7.78-7.78 2.81-2.81c.8-.78.8-2.07 0-2.86zM5.41 20L4 18.59l7.72-7.72 1.47 1.35L5.41 20z\"/>\n",
              "  </svg>\n",
              "      </button>\n",
              "      \n",
              "  <style>\n",
              "    .colab-df-container {\n",
              "      display:flex;\n",
              "      flex-wrap:wrap;\n",
              "      gap: 12px;\n",
              "    }\n",
              "\n",
              "    .colab-df-convert {\n",
              "      background-color: #E8F0FE;\n",
              "      border: none;\n",
              "      border-radius: 50%;\n",
              "      cursor: pointer;\n",
              "      display: none;\n",
              "      fill: #1967D2;\n",
              "      height: 32px;\n",
              "      padding: 0 0 0 0;\n",
              "      width: 32px;\n",
              "    }\n",
              "\n",
              "    .colab-df-convert:hover {\n",
              "      background-color: #E2EBFA;\n",
              "      box-shadow: 0px 1px 2px rgba(60, 64, 67, 0.3), 0px 1px 3px 1px rgba(60, 64, 67, 0.15);\n",
              "      fill: #174EA6;\n",
              "    }\n",
              "\n",
              "    [theme=dark] .colab-df-convert {\n",
              "      background-color: #3B4455;\n",
              "      fill: #D2E3FC;\n",
              "    }\n",
              "\n",
              "    [theme=dark] .colab-df-convert:hover {\n",
              "      background-color: #434B5C;\n",
              "      box-shadow: 0px 1px 3px 1px rgba(0, 0, 0, 0.15);\n",
              "      filter: drop-shadow(0px 1px 2px rgba(0, 0, 0, 0.3));\n",
              "      fill: #FFFFFF;\n",
              "    }\n",
              "  </style>\n",
              "\n",
              "      <script>\n",
              "        const buttonEl =\n",
              "          document.querySelector('#df-e79f5f1b-9626-4cf0-9237-5e22bbebbfa7 button.colab-df-convert');\n",
              "        buttonEl.style.display =\n",
              "          google.colab.kernel.accessAllowed ? 'block' : 'none';\n",
              "\n",
              "        async function convertToInteractive(key) {\n",
              "          const element = document.querySelector('#df-e79f5f1b-9626-4cf0-9237-5e22bbebbfa7');\n",
              "          const dataTable =\n",
              "            await google.colab.kernel.invokeFunction('convertToInteractive',\n",
              "                                                     [key], {});\n",
              "          if (!dataTable) return;\n",
              "\n",
              "          const docLinkHtml = 'Like what you see? Visit the ' +\n",
              "            '<a target=\"_blank\" href=https://colab.research.google.com/notebooks/data_table.ipynb>data table notebook</a>'\n",
              "            + ' to learn more about interactive tables.';\n",
              "          element.innerHTML = '';\n",
              "          dataTable['output_type'] = 'display_data';\n",
              "          await google.colab.output.renderOutput(dataTable, element);\n",
              "          const docLink = document.createElement('div');\n",
              "          docLink.innerHTML = docLinkHtml;\n",
              "          element.appendChild(docLink);\n",
              "        }\n",
              "      </script>\n",
              "    </div>\n",
              "  </div>\n",
              "  "
            ]
          },
          "metadata": {},
          "execution_count": 18
        }
      ]
    },
    {
      "cell_type": "code",
      "source": [
        "alpha = [0.001,0.01,0.1,1,10]\n",
        "\n",
        "data = []\n",
        "for i, a in enumerate(alpha):\n",
        "    lasso = Lasso(alpha=a).fit(X, y)\n",
        "    data.append(pd.Series(np.hstack([lasso.intercept_, lasso.coef_])))\n",
        "\n",
        "df_lasso = pd.DataFrame(data, index=alpha).T\n",
        "df_lasso"
      ],
      "metadata": {
        "colab": {
          "base_uri": "https://localhost:8080/",
          "height": 394
        },
        "id": "me2g0xs9o_zf",
        "outputId": "e9510488-43c8-4cca-d363-bf56b5c6b0cd"
      },
      "execution_count": 19,
      "outputs": [
        {
          "output_type": "execute_result",
          "data": {
            "text/plain": [
              "        0.001       0.010       0.100       1.000       10.000\n",
              "0   152.133484  152.133484  152.133484  152.133484  152.133484\n",
              "1    -8.998449   -1.306575   -0.000000    0.000000    0.000000\n",
              "2  -238.899740 -228.822331 -155.362882   -0.000000    0.000000\n",
              "3   520.261362  525.560658  517.182017  367.701852    0.000000\n",
              "4   323.429484  316.175320  275.082351    6.301904    0.000000\n",
              "5  -720.251734 -307.013677  -52.540269    0.000000    0.000000\n",
              "6   421.405141   89.321688   -0.000000    0.000000    0.000000\n",
              "7    66.734168 -105.081398 -210.159753   -0.000000   -0.000000\n",
              "8   164.448873  119.597989    0.000000    0.000000    0.000000\n",
              "9   725.340440  571.330871  483.914409  307.605700    0.000000\n",
              "10   67.475538   65.007316   33.672821    0.000000    0.000000"
            ],
            "text/html": [
              "\n",
              "  <div id=\"df-47a5022e-0bf7-4365-a2c4-47b2b0d5cb2c\">\n",
              "    <div class=\"colab-df-container\">\n",
              "      <div>\n",
              "<style scoped>\n",
              "    .dataframe tbody tr th:only-of-type {\n",
              "        vertical-align: middle;\n",
              "    }\n",
              "\n",
              "    .dataframe tbody tr th {\n",
              "        vertical-align: top;\n",
              "    }\n",
              "\n",
              "    .dataframe thead th {\n",
              "        text-align: right;\n",
              "    }\n",
              "</style>\n",
              "<table border=\"1\" class=\"dataframe\">\n",
              "  <thead>\n",
              "    <tr style=\"text-align: right;\">\n",
              "      <th></th>\n",
              "      <th>0.001</th>\n",
              "      <th>0.010</th>\n",
              "      <th>0.100</th>\n",
              "      <th>1.000</th>\n",
              "      <th>10.000</th>\n",
              "    </tr>\n",
              "  </thead>\n",
              "  <tbody>\n",
              "    <tr>\n",
              "      <th>0</th>\n",
              "      <td>152.133484</td>\n",
              "      <td>152.133484</td>\n",
              "      <td>152.133484</td>\n",
              "      <td>152.133484</td>\n",
              "      <td>152.133484</td>\n",
              "    </tr>\n",
              "    <tr>\n",
              "      <th>1</th>\n",
              "      <td>-8.998449</td>\n",
              "      <td>-1.306575</td>\n",
              "      <td>-0.000000</td>\n",
              "      <td>0.000000</td>\n",
              "      <td>0.000000</td>\n",
              "    </tr>\n",
              "    <tr>\n",
              "      <th>2</th>\n",
              "      <td>-238.899740</td>\n",
              "      <td>-228.822331</td>\n",
              "      <td>-155.362882</td>\n",
              "      <td>-0.000000</td>\n",
              "      <td>0.000000</td>\n",
              "    </tr>\n",
              "    <tr>\n",
              "      <th>3</th>\n",
              "      <td>520.261362</td>\n",
              "      <td>525.560658</td>\n",
              "      <td>517.182017</td>\n",
              "      <td>367.701852</td>\n",
              "      <td>0.000000</td>\n",
              "    </tr>\n",
              "    <tr>\n",
              "      <th>4</th>\n",
              "      <td>323.429484</td>\n",
              "      <td>316.175320</td>\n",
              "      <td>275.082351</td>\n",
              "      <td>6.301904</td>\n",
              "      <td>0.000000</td>\n",
              "    </tr>\n",
              "    <tr>\n",
              "      <th>5</th>\n",
              "      <td>-720.251734</td>\n",
              "      <td>-307.013677</td>\n",
              "      <td>-52.540269</td>\n",
              "      <td>0.000000</td>\n",
              "      <td>0.000000</td>\n",
              "    </tr>\n",
              "    <tr>\n",
              "      <th>6</th>\n",
              "      <td>421.405141</td>\n",
              "      <td>89.321688</td>\n",
              "      <td>-0.000000</td>\n",
              "      <td>0.000000</td>\n",
              "      <td>0.000000</td>\n",
              "    </tr>\n",
              "    <tr>\n",
              "      <th>7</th>\n",
              "      <td>66.734168</td>\n",
              "      <td>-105.081398</td>\n",
              "      <td>-210.159753</td>\n",
              "      <td>-0.000000</td>\n",
              "      <td>-0.000000</td>\n",
              "    </tr>\n",
              "    <tr>\n",
              "      <th>8</th>\n",
              "      <td>164.448873</td>\n",
              "      <td>119.597989</td>\n",
              "      <td>0.000000</td>\n",
              "      <td>0.000000</td>\n",
              "      <td>0.000000</td>\n",
              "    </tr>\n",
              "    <tr>\n",
              "      <th>9</th>\n",
              "      <td>725.340440</td>\n",
              "      <td>571.330871</td>\n",
              "      <td>483.914409</td>\n",
              "      <td>307.605700</td>\n",
              "      <td>0.000000</td>\n",
              "    </tr>\n",
              "    <tr>\n",
              "      <th>10</th>\n",
              "      <td>67.475538</td>\n",
              "      <td>65.007316</td>\n",
              "      <td>33.672821</td>\n",
              "      <td>0.000000</td>\n",
              "      <td>0.000000</td>\n",
              "    </tr>\n",
              "  </tbody>\n",
              "</table>\n",
              "</div>\n",
              "      <button class=\"colab-df-convert\" onclick=\"convertToInteractive('df-47a5022e-0bf7-4365-a2c4-47b2b0d5cb2c')\"\n",
              "              title=\"Convert this dataframe to an interactive table.\"\n",
              "              style=\"display:none;\">\n",
              "        \n",
              "  <svg xmlns=\"http://www.w3.org/2000/svg\" height=\"24px\"viewBox=\"0 0 24 24\"\n",
              "       width=\"24px\">\n",
              "    <path d=\"M0 0h24v24H0V0z\" fill=\"none\"/>\n",
              "    <path d=\"M18.56 5.44l.94 2.06.94-2.06 2.06-.94-2.06-.94-.94-2.06-.94 2.06-2.06.94zm-11 1L8.5 8.5l.94-2.06 2.06-.94-2.06-.94L8.5 2.5l-.94 2.06-2.06.94zm10 10l.94 2.06.94-2.06 2.06-.94-2.06-.94-.94-2.06-.94 2.06-2.06.94z\"/><path d=\"M17.41 7.96l-1.37-1.37c-.4-.4-.92-.59-1.43-.59-.52 0-1.04.2-1.43.59L10.3 9.45l-7.72 7.72c-.78.78-.78 2.05 0 2.83L4 21.41c.39.39.9.59 1.41.59.51 0 1.02-.2 1.41-.59l7.78-7.78 2.81-2.81c.8-.78.8-2.07 0-2.86zM5.41 20L4 18.59l7.72-7.72 1.47 1.35L5.41 20z\"/>\n",
              "  </svg>\n",
              "      </button>\n",
              "      \n",
              "  <style>\n",
              "    .colab-df-container {\n",
              "      display:flex;\n",
              "      flex-wrap:wrap;\n",
              "      gap: 12px;\n",
              "    }\n",
              "\n",
              "    .colab-df-convert {\n",
              "      background-color: #E8F0FE;\n",
              "      border: none;\n",
              "      border-radius: 50%;\n",
              "      cursor: pointer;\n",
              "      display: none;\n",
              "      fill: #1967D2;\n",
              "      height: 32px;\n",
              "      padding: 0 0 0 0;\n",
              "      width: 32px;\n",
              "    }\n",
              "\n",
              "    .colab-df-convert:hover {\n",
              "      background-color: #E2EBFA;\n",
              "      box-shadow: 0px 1px 2px rgba(60, 64, 67, 0.3), 0px 1px 3px 1px rgba(60, 64, 67, 0.15);\n",
              "      fill: #174EA6;\n",
              "    }\n",
              "\n",
              "    [theme=dark] .colab-df-convert {\n",
              "      background-color: #3B4455;\n",
              "      fill: #D2E3FC;\n",
              "    }\n",
              "\n",
              "    [theme=dark] .colab-df-convert:hover {\n",
              "      background-color: #434B5C;\n",
              "      box-shadow: 0px 1px 3px 1px rgba(0, 0, 0, 0.15);\n",
              "      filter: drop-shadow(0px 1px 2px rgba(0, 0, 0, 0.3));\n",
              "      fill: #FFFFFF;\n",
              "    }\n",
              "  </style>\n",
              "\n",
              "      <script>\n",
              "        const buttonEl =\n",
              "          document.querySelector('#df-47a5022e-0bf7-4365-a2c4-47b2b0d5cb2c button.colab-df-convert');\n",
              "        buttonEl.style.display =\n",
              "          google.colab.kernel.accessAllowed ? 'block' : 'none';\n",
              "\n",
              "        async function convertToInteractive(key) {\n",
              "          const element = document.querySelector('#df-47a5022e-0bf7-4365-a2c4-47b2b0d5cb2c');\n",
              "          const dataTable =\n",
              "            await google.colab.kernel.invokeFunction('convertToInteractive',\n",
              "                                                     [key], {});\n",
              "          if (!dataTable) return;\n",
              "\n",
              "          const docLinkHtml = 'Like what you see? Visit the ' +\n",
              "            '<a target=\"_blank\" href=https://colab.research.google.com/notebooks/data_table.ipynb>data table notebook</a>'\n",
              "            + ' to learn more about interactive tables.';\n",
              "          element.innerHTML = '';\n",
              "          dataTable['output_type'] = 'display_data';\n",
              "          await google.colab.output.renderOutput(dataTable, element);\n",
              "          const docLink = document.createElement('div');\n",
              "          docLink.innerHTML = docLinkHtml;\n",
              "          element.appendChild(docLink);\n",
              "        }\n",
              "      </script>\n",
              "    </div>\n",
              "  </div>\n",
              "  "
            ]
          },
          "metadata": {},
          "execution_count": 19
        }
      ]
    },
    {
      "cell_type": "code",
      "source": [
        "ax1 = plt.subplot(121)\n",
        "plt.semilogx(df_ridge.T)\n",
        "plt.xticks(alpha, labels=np.log10(alpha))\n",
        "plt.title(\"Ridge\")\n",
        "\n",
        "ax2 = plt.subplot(122)\n",
        "plt.semilogx(df_lasso.T)\n",
        "plt.xticks(alpha, labels=np.log10(alpha))\n",
        "plt.title(\"Lasso\")\n",
        "\n",
        "plt.show()"
      ],
      "metadata": {
        "colab": {
          "base_uri": "https://localhost:8080/",
          "height": 281
        },
        "id": "T9AXKvX15tc2",
        "outputId": "c73d7c52-3641-4bff-dbdc-8af70e94ab51"
      },
      "execution_count": 20,
      "outputs": [
        {
          "output_type": "display_data",
          "data": {
            "text/plain": [
              "<Figure size 432x288 with 2 Axes>"
            ],
            "image/png": "[encoded data removed]"
          },
          "metadata": {
            "needs_background": "light"
          }
        }
      ]
    },
    {
      "cell_type": "code",
      "source": [
        "files.upload()"
      ],
      "metadata": {
        "id": "JT2-gduL6b5b"
      },
      "execution_count": null,
      "outputs": []
    },
    {
      "cell_type": "code",
      "source": [
        "car = pd.read_csv('UK_car.csv')"
      ],
      "metadata": {
        "id": "IqGBth_8Bm-6"
      },
      "execution_count": 22,
      "outputs": []
    },
    {
      "cell_type": "code",
      "source": [
        "car.info()"
      ],
      "metadata": {
        "colab": {
          "base_uri": "https://localhost:8080/"
        },
        "id": "UhxJDXB9F4Ok",
        "outputId": "d313bbfe-b5b6-4d47-a092-5dfb138567f2"
      },
      "execution_count": 23,
      "outputs": [
        {
          "output_type": "stream",
          "name": "stdout",
          "text": [
            "<class 'pandas.core.frame.DataFrame'>\n",
            "RangeIndex: 99136 entries, 0 to 99135\n",
            "Data columns (total 9 columns):\n",
            " #   Column        Non-Null Count  Dtype  \n",
            "---  ------        --------------  -----  \n",
            " 0   brand         99136 non-null  object \n",
            " 1   model         99136 non-null  object \n",
            " 2   year          99136 non-null  int64  \n",
            " 3   price         99136 non-null  int64  \n",
            " 4   transmission  99136 non-null  object \n",
            " 5   mileage       99136 non-null  int64  \n",
            " 6   fuelType      99136 non-null  object \n",
            " 7   mpg           99136 non-null  float64\n",
            " 8   engineSize    99136 non-null  float64\n",
            "dtypes: float64(2), int64(3), object(4)\n",
            "memory usage: 6.8+ MB\n"
          ]
        }
      ]
    },
    {
      "cell_type": "code",
      "source": [
        "car = pd.get_dummies(car, columns=['brand', 'model', 'year', 'transmission','fuelType'])"
      ],
      "metadata": {
        "id": "jjGKTRgGGA1H"
      },
      "execution_count": 24,
      "outputs": []
    },
    {
      "cell_type": "code",
      "source": [
        "y_target = car['price']\n",
        "# 피처 데이터\n",
        "X_features = car.drop('price', axis=1)\n",
        "\n",
        "# test_split_split()으로 train,test set 분리 (70:30, random_state = 77)\n",
        "X_train, X_test, y_train, y_test = train_test_split(X_features, y_target, test_size=0.3, random_state=77)"
      ],
      "metadata": {
        "id": "sVUFQH06FdNV"
      },
      "execution_count": null,
      "outputs": []
    },
    {
      "cell_type": "code",
      "source": [
        "from sklearn.metrics import r2_score\n",
        "# LinearRegression() 모델로 학습\n",
        "linear_reg = LinearRegression()\n",
        "linear_reg.fit(X_train, y_train)\n",
        "# LinearRegression() 모델로 예측\n",
        "y_preds = linear_reg.predict(X_test)\n",
        "#mse, rmse, r^2 구하기\n",
        "mse = mean_squared_error(y_test, y_preds)\n",
        "rmse = np.sqrt(mse)\n",
        "r_square = r2_score(y_test, y_preds)\n",
        "\n",
        "print('MSE : {0:.3f}, RMSE : {1:.4f}'.format(mse, rmse))\n",
        "print('R_Square : {0:.3f}'.format(r_square))"
      ],
      "metadata": {
        "colab": {
          "base_uri": "https://localhost:8080/"
        },
        "id": "d1Z8shpSFhSe",
        "outputId": "e1661a85-57f7-43df-8011-672061e63b0e"
      },
      "execution_count": null,
      "outputs": [
        {
          "output_type": "stream",
          "name": "stdout",
          "text": [
            "MSE : 12525152.688, RMSE : 3539.0892\n",
            "R_Square : 0.872\n"
          ]
        }
      ]
    },
    {
      "cell_type": "code",
      "source": [
        "# Ridge() 모델로 학습\n",
        "ridge = Ridge(alpha=0.001)\n",
        "ridge.fit(X_train, y_train)\n",
        "# Ridge() 모델로 예측\n",
        "y_preds = ridge.predict(X_test)\n",
        "#mse, rmse, r^2 구하기\n",
        "mse = mean_squared_error(y_test, y_preds)\n",
        "rmse = np.sqrt(mse)\n",
        "r_square = r2_score(y_test, y_preds)\n",
        "\n",
        "print('MSE : {0:.3f}, RMSE : {1:.4f}'.format(mse, rmse))\n",
        "print('R_Square : {0:.3f}'.format(r2_score(y_test, y_preds)))"
      ],
      "metadata": {
        "colab": {
          "base_uri": "https://localhost:8080/"
        },
        "id": "w74hXcuVFojp",
        "outputId": "d3c7b729-7ef9-4154-ad1d-992fadc815b3"
      },
      "execution_count": null,
      "outputs": [
        {
          "output_type": "stream",
          "name": "stdout",
          "text": [
            "MSE : 12525244.287, RMSE : 3539.1022\n",
            "R_Square : 0.872\n"
          ]
        },
        {
          "output_type": "stream",
          "name": "stderr",
          "text": [
            "/usr/local/lib/python3.7/dist-packages/sklearn/linear_model/_ridge.py:157: LinAlgWarning: Ill-conditioned matrix (rcond=3.02384e-17): result may not be accurate.\n",
            "  return linalg.solve(A, Xy, sym_pos=True, overwrite_a=True).T\n"
          ]
        }
      ]
    },
    {
      "cell_type": "code",
      "source": [
        "# Lasso() 모델로 학습\n",
        "lasso = Lasso(alpha=0.0001)\n",
        "lasso.fit(X_train, y_train)\n",
        "# Lasso() 모델로 예측\n",
        "y_preds = lasso.predict(X_test)\n",
        "#mse, rmse, r^2 구하기\n",
        "mse = mean_squared_error(y_test, y_preds)\n",
        "rmse = np.sqrt(mse)\n",
        "r_square = r2_score(y_test, y_preds)\n",
        "\n",
        "print('MSE : {0:.3f}, RMSE : {1:.4f}'.format(mse, rmse))\n",
        "print('R_Square : {0:.3f}'.format(r_square))"
      ],
      "metadata": {
        "colab": {
          "base_uri": "https://localhost:8080/"
        },
        "id": "iDL4SFDwGquq",
        "outputId": "b26e5160-186a-4fb9-da22-9c97c1849625"
      },
      "execution_count": null,
      "outputs": [
        {
          "output_type": "stream",
          "name": "stdout",
          "text": [
            "MSE : 12524706.635, RMSE : 3539.0262\n",
            "R_Square : 0.872\n"
          ]
        },
        {
          "output_type": "stream",
          "name": "stderr",
          "text": [
            "/usr/local/lib/python3.7/dist-packages/sklearn/linear_model/_coordinate_descent.py:648: ConvergenceWarning: Objective did not converge. You might want to increase the number of iterations, check the scale of the features or consider increasing regularisation. Duality gap: 3.400e+11, tolerance: 6.696e+08\n",
            "  coef_, l1_reg, l2_reg, X, y, max_iter, tol, rng, random, positive\n"
          ]
        }
      ]
    },
    {
      "cell_type": "code",
      "source": [
        "# cross_val_score()함수로 K-Fold 검증, R_sqaure값 확인\n",
        "\n",
        "# alpha값 적용\n",
        "alphas = [0.001, 0.01, 0.1, 1,10]\n",
        "for alpha in alphas :\n",
        "    \n",
        "    ridge = Ridge(alpha=alpha)\n",
        "    ridge.fit(X_train, y_train)\n",
        "    # Ridge() 모델로 예측\n",
        "    y_preds = ridge.predict(X_test)\n",
        "    #mse, rmse, r^2 구하기\n",
        "    mse = mean_squared_error(y_test, y_preds)\n",
        "    rmse = np.sqrt(mse)\n",
        "    r_square = r2_score(y_test, y_preds)\n",
        "\n",
        "    # cross_val_score 값 출력\n",
        "    print('Ridge alpha : {0}, RMSE : {1:.4f}'.format(alpha, rmse))\n",
        "    print('Ridge alpha : {0}, r2_score : {1:.3f}'.format(alpha, r_square))\n",
        "\n",
        "print('---------------------------------------------')\n",
        "\n",
        "# alpha값 적용\n",
        "alphas = [0.001, 0.01, 0.1, 1,10]\n",
        "for alpha in alphas :\n",
        "    lasso = Lasso(alpha=alpha)\n",
        "\n",
        "    # Lasso() 모델로 학습\n",
        "    lasso = Lasso(alpha=alpha)\n",
        "    lasso.fit(X_train, y_train)\n",
        "    # Lasso() 모델로 예측\n",
        "    y_preds = lasso.predict(X_test)\n",
        "    #mse, rmse, r^2 구하기\n",
        "    mse = mean_squared_error(y_test, y_preds)\n",
        "    rmse = np.sqrt(mse)\n",
        "    r_square = r2_score(y_test, y_preds)\n",
        "\n",
        "    # cross_val_score 값 출력\n",
        "    print('Lasso alpha : {0}, RMSE : {1:.4f}'.format(alpha, rmse))\n",
        "    print('Lasso alpha : {0}, r2_score : {1:.3f}'.format(alpha, r_square))"
      ],
      "metadata": {
        "colab": {
          "base_uri": "https://localhost:8080/"
        },
        "id": "ZFEMQvQOGtc3",
        "outputId": "c5aa5502-e4f5-41d2-920f-4af729ac6c9f"
      },
      "execution_count": null,
      "outputs": [
        {
          "output_type": "stream",
          "name": "stderr",
          "text": [
            "/usr/local/lib/python3.7/dist-packages/sklearn/linear_model/_ridge.py:157: LinAlgWarning: Ill-conditioned matrix (rcond=3.02384e-17): result may not be accurate.\n",
            "  return linalg.solve(A, Xy, sym_pos=True, overwrite_a=True).T\n"
          ]
        },
        {
          "output_type": "stream",
          "name": "stdout",
          "text": [
            "Ridge alpha : 0.001, RMSE : 3539.1022\n",
            "Ridge alpha : 0.001, r2_score : 0.872\n",
            "Ridge alpha : 0.01, RMSE : 3539.2187\n",
            "Ridge alpha : 0.01, r2_score : 0.872\n",
            "Ridge alpha : 0.1, RMSE : 3540.3900\n",
            "Ridge alpha : 0.1, r2_score : 0.872\n",
            "Ridge alpha : 1, RMSE : 3552.1917\n",
            "Ridge alpha : 1, r2_score : 0.871\n",
            "Ridge alpha : 10, RMSE : 3645.2193\n",
            "Ridge alpha : 10, r2_score : 0.864\n",
            "---------------------------------------------\n"
          ]
        },
        {
          "output_type": "stream",
          "name": "stderr",
          "text": [
            "/usr/local/lib/python3.7/dist-packages/sklearn/linear_model/_coordinate_descent.py:648: ConvergenceWarning: Objective did not converge. You might want to increase the number of iterations, check the scale of the features or consider increasing regularisation. Duality gap: 4.076e+11, tolerance: 6.696e+08\n",
            "  coef_, l1_reg, l2_reg, X, y, max_iter, tol, rng, random, positive\n"
          ]
        },
        {
          "output_type": "stream",
          "name": "stdout",
          "text": [
            "Lasso alpha : 0.001, RMSE : 3539.0506\n",
            "Lasso alpha : 0.001, r2_score : 0.872\n"
          ]
        },
        {
          "output_type": "stream",
          "name": "stderr",
          "text": [
            "/usr/local/lib/python3.7/dist-packages/sklearn/linear_model/_coordinate_descent.py:648: ConvergenceWarning: Objective did not converge. You might want to increase the number of iterations, check the scale of the features or consider increasing regularisation. Duality gap: 4.029e+11, tolerance: 6.696e+08\n",
            "  coef_, l1_reg, l2_reg, X, y, max_iter, tol, rng, random, positive\n"
          ]
        },
        {
          "output_type": "stream",
          "name": "stdout",
          "text": [
            "Lasso alpha : 0.01, RMSE : 3539.3503\n",
            "Lasso alpha : 0.01, r2_score : 0.872\n"
          ]
        },
        {
          "output_type": "stream",
          "name": "stderr",
          "text": [
            "/usr/local/lib/python3.7/dist-packages/sklearn/linear_model/_coordinate_descent.py:648: ConvergenceWarning: Objective did not converge. You might want to increase the number of iterations, check the scale of the features or consider increasing regularisation. Duality gap: 3.300e+11, tolerance: 6.696e+08\n",
            "  coef_, l1_reg, l2_reg, X, y, max_iter, tol, rng, random, positive\n"
          ]
        },
        {
          "output_type": "stream",
          "name": "stdout",
          "text": [
            "Lasso alpha : 0.1, RMSE : 3542.6121\n",
            "Lasso alpha : 0.1, r2_score : 0.872\n"
          ]
        },
        {
          "output_type": "stream",
          "name": "stderr",
          "text": [
            "/usr/local/lib/python3.7/dist-packages/sklearn/linear_model/_coordinate_descent.py:648: ConvergenceWarning: Objective did not converge. You might want to increase the number of iterations, check the scale of the features or consider increasing regularisation. Duality gap: 3.102e+11, tolerance: 6.696e+08\n",
            "  coef_, l1_reg, l2_reg, X, y, max_iter, tol, rng, random, positive\n"
          ]
        },
        {
          "output_type": "stream",
          "name": "stdout",
          "text": [
            "Lasso alpha : 1, RMSE : 3592.9233\n",
            "Lasso alpha : 1, r2_score : 0.868\n",
            "Lasso alpha : 10, RMSE : 4177.4682\n",
            "Lasso alpha : 10, r2_score : 0.821\n"
          ]
        }
      ]
    },
    {
      "cell_type": "code",
      "source": [
        "from sklearn.linear_model import RidgeCV\n",
        "from sklearn.metrics import mean_absolute_error, r2_score\n",
        "\n",
        "alpha = [0.001, 0.01, 0.1, 1,10]\n",
        "# 최적의 alpha값을 찾아내기\n",
        "ridgecv = RidgeCV(alphas=alpha, cv=5)\n",
        "#fit과 predict 진행\n",
        "ridgecv.fit(X_train, y_train)\n",
        "y_pred = ridgecv.predict(X_test)\n",
        "#mae, r^2구하기\n",
        "mae = mean_absolute_error(y_test, y_pred)\n",
        "r2 = r2_score(y_test, y_pred)\n",
        "print(f'Test MAE: {mae:,.0f}')\n",
        "print(f'R2 Score: {r2:,.4f}')\n",
        "print(f'alpha: {ridgecv.alpha_}')"
      ],
      "metadata": {
        "colab": {
          "base_uri": "https://localhost:8080/"
        },
        "id": "T-mjGyA7JWt6",
        "outputId": "40ffd462-b8df-4f67-88b2-2e67c1d90641"
      },
      "execution_count": null,
      "outputs": [
        {
          "output_type": "stream",
          "name": "stdout",
          "text": [
            "Test MAE: 2,204\n",
            "R2 Score: 0.8709\n",
            "\n",
            "alpha: 1.0\n"
          ]
        }
      ]
    },
    {
      "cell_type": "code",
      "source": [
        "from sklearn.linear_model import LassoCV\n",
        "alpha = [0.001, 0.01, 0.1, 1,10]\n",
        "\n",
        "# 최적의 alpha값을 찾아내기\n",
        "lassocv = LassoCV(alphas=alpha, cv=5)\n",
        "#fit과 predict 진행\n",
        "lassocv.fit(X_train, y_train)\n",
        "y_pred = lassocv.predict(X_test)\n",
        "#mae, r^2구하기\n",
        "mae = mean_absolute_error(y_test, y_pred)\n",
        "r2 = r2_score(y_test, y_pred)\n",
        "\n",
        "print(f'Test MAE: {mae:,.0f}')\n",
        "print(f'R2 Score: {r2:,.4f}')\n",
        "print(f'alpha: {lassocv.alpha_}') # 최종 결정된 alpha값"
      ],
      "metadata": {
        "colab": {
          "base_uri": "https://localhost:8080/"
        },
        "id": "-gz5KNmSKB46",
        "outputId": "9673dd40-cc3a-4e93-9932-d186fa962e06"
      },
      "execution_count": null,
      "outputs": [
        {
          "output_type": "stream",
          "name": "stdout",
          "text": [
            "Test MAE: 2,203\n",
            "R2 Score: 0.8716\n",
            "alpha: 0.1\n"
          ]
        }
      ]
    },
    {
      "cell_type": "code",
      "source": [
        "# Ridge와 Lasso모델 결합한 결과\n",
        "ridge = Ridge(alpha=1)\n",
        "ridge.fit(X_train, y_train)\n",
        "\n",
        "lasso = Lasso(alpha=0.1)\n",
        "lasso.fit(X_train, y_train)\n",
        "ridge_pred = ridge.predict(X_test)\n",
        "lasso_pred = lasso.predict(X_test)\n",
        "#릿지에 0.7, 라쏘에 0.3 곱해줘서 mse,rmse구하기\n",
        "pred = 0.7*ridge_pred + 0.3*lasso_pred\n",
        "res_mse = mean_squared_error(y_test, pred)\n",
        "res_rmse = np.sqrt(res_mse)\n",
        "\n",
        "print('Ridge와 Lasso를 7:3 비율로 결합해 예측한 RMSE값 : ', np.round(res_rmse,4))"
      ],
      "metadata": {
        "colab": {
          "base_uri": "https://localhost:8080/"
        },
        "id": "g36jTc8-G5pf",
        "outputId": "c1219825-7ba0-4b4f-9015-b32a1b2f8e8f"
      },
      "execution_count": null,
      "outputs": [
        {
          "output_type": "stream",
          "name": "stdout",
          "text": [
            "Ridge와 Lasso를 7:3 비율로 결합해 예측한 RMSE값 :  3548.9911\n"
          ]
        }
      ]
    },
    {
      "cell_type": "code",
      "source": [
        "from sklearn.model_selection import cross_val_score, KFold\n",
        "neg_mse = cross_val_score(linear_reg, X_features, y_target, scoring='neg_mean_squared_error', cv=5)\n",
        "r2_score = cross_val_score(linear_reg, X_features, y_target, scoring='r2', cv=5)\n",
        "rmse = np.sqrt(-1*neg_mse)\n",
        "avg_rmse = np.mean(rmse)\n",
        "avg_r2_score = np.mean(r2_score)\n",
        "\n",
        "# cross_val_score 값 출력\n",
        "print('Linear_regression RMSE : {0:.3f}'.format(avg_rmse))"
      ],
      "metadata": {
        "colab": {
          "base_uri": "https://localhost:8080/"
        },
        "id": "m3rBcTUGG_1v",
        "outputId": "26b30229-01b8-4710-92c8-e07713fe3674"
      },
      "execution_count": null,
      "outputs": [
        {
          "output_type": "stream",
          "name": "stdout",
          "text": [
            "Linear_regression RMSE : 5778.247\n"
          ]
        }
      ]
    },
    {
      "cell_type": "code",
      "source": [
        "import plotly.graph_objects as go\n",
        "ridge_model = Ridge(alpha=1)\n",
        "ridge_model.fit(X_train, y_train)\n",
        "# 회귀 계수 값 시각화\n",
        "df = pd.DataFrame()\n",
        "coef = pd.Series(data=ridge_model.coef_, index=X_features.columns)\n",
        "df['coef'] = coef\n",
        "coef = coef.sort_values(ascending=True)\n",
        "fig = go.Figure(go.Bar(x=coef.values, y=coef.index, orientation='h'))\n",
        "fig.show()"
      ],
      "metadata": {
        "colab": {
          "base_uri": "https://localhost:8080/",
          "height": 542
        },
        "id": "yVdn-gWhIubu",
        "outputId": "4a389bbc-b1bb-4cbd-bf70-48b7b252f990"
      },
      "execution_count": null,
      "outputs": [
        {
          "output_type": "display_data",
          "data": {
            "text/html": [
              "<html>\n",
              "<head><meta charset=\"utf-8\" /></head>\n",
              "<body>\n",
              "    <div>            <script src=\"https://cdnjs.cloudflare.com/ajax/libs/mathjax/2.7.5/MathJax.js?config=TeX-AMS-MML_SVG\"></script><script type=\"text/javascript\">if (window.MathJax) {MathJax.Hub.Config({SVG: {font: \"STIX-Web\"}});}</script>                <script type=\"text/javascript\">window.PlotlyConfig = {MathJaxConfig: 'local'};</script>\n",
              "        <script src=\"https://cdn.plot.ly/plotly-2.8.3.min.js\"></script>                <div id=\"cfff1aeb-3d88-4e58-abd6-d21c9789e61f\" class=\"plotly-graph-div\" style=\"height:525px; width:100%;\"></div>            <script type=\"text/javascript\">                                    window.PLOTLYENV=window.PLOTLYENV || {};                                    if (document.getElementById(\"cfff1aeb-3d88-4e58-abd6-d21c9789e61f\")) {                    Plotly.newPlot(                        \"cfff1aeb-3d88-4e58-abd6-d21c9789e61f\",                        [{\"orientation\":\"h\",\"x\":[-10959.518287119474,-10677.334763213266,-10568.209597600988,-10498.498894135126,-10332.380692399449,-9445.061386632511,-9258.832768920325,-8909.02938934059,-8750.99606110617,-8467.310570639638,-8309.085989115461,-8144.719229272755,-8043.988203723916,-7883.076525922465,-7861.935646828436,-7623.6391901606685,-7441.259902772393,-7201.986816830283,-7079.179834793659,-7064.230183311573,-6988.250889959957,-6929.940438950005,-6787.618160186262,-6739.472172679231,-6648.548090469975,-6561.287018909901,-6467.867151876329,-6433.888314744025,-6349.474091303068,-6294.489479364187,-6197.597867917091,-5793.381006668253,-5780.532335369257,-5749.4210028687385,-5639.281871737185,-5433.702218206106,-5417.1265465553215,-5273.99567483994,-5247.13370955617,-4987.839092025507,-4886.41146855286,-4701.830371107603,-4663.413947737405,-4660.30980221567,-4642.362099035636,-4592.000537050721,-4564.254628044934,-4399.191342327168,-4238.597483969191,-4207.407491999143,-4144.397607871602,-3931.1056504180765,-3896.5044593005823,-3763.151713560221,-3690.1813225101023,-3635.6257750123596,-3617.720676426898,-3614.495141903908,-3556.042278087855,-3538.7210476524547,-3533.73928870883,-3509.732241413911,-3307.90491552,-3281.7198823057706,-3259.347638370082,-3130.518830072434,-3044.243742382281,-2990.231800310863,-2979.8515377003314,-2953.716062209321,-2916.830107464737,-2886.7720709532864,-2849.3060904774597,-2785.2443716295347,-2733.51613333797,-2697.476963762497,-2654.7903134458084,-2643.2254116962645,-2567.895069697519,-2554.8644252950985,-2553.8424559609634,-2527.76380413793,-2493.4201368959616,-2484.8868599364937,-2465.3241893060026,-2464.677998069685,-2419.08981154515,-2377.339744417709,-2377.022155744937,-2090.5425701963054,-2069.1162723831308,-2061.774693623127,-2035.0069820682618,-2016.370358362319,-2011.7981681784327,-2006.6410343685286,-1978.7630328646844,-1947.863880509413,-1924.9264855485021,-1907.9432312558959,-1895.916707594243,-1883.471592155916,-1809.9916879258028,-1740.697844202144,-1722.6598831270805,-1719.0164309396196,-1663.5254985304352,-1634.5949026969463,-1540.6783794236774,-1407.5032049477063,-1349.3993439380072,-1331.9393196499059,-1279.430174187886,-1265.8322892332028,-1252.0798657571008,-1237.4788861010845,-1188.986578823768,-1116.5857234843468,-1069.2948053447433,-1007.6171145837219,-937.4011589210904,-810.2179475839041,-777.6901444528654,-746.031247913239,-744.3487814137839,-698.7971483226894,-634.8973627102833,-631.5428568559237,-616.1500040345994,-615.6929239091774,-607.3048494679798,-604.154581761573,-593.0798493009787,-569.6306954387499,-544.3887581130172,-457.53671451499923,-437.7072390858138,-390.5321771465204,-378.95754278061395,-341.43115385806595,-306.3761945271549,-271.4751385526987,-247.99205259298807,-219.88449883538254,-207.8878111269086,-126.61754084477296,-13.49525299001226,-8.491824338306584,-0.0790996135260931,0.0,0.0,13.297366437960775,21.054863286085798,39.70867424777542,67.45883852653687,123.85589843012352,139.53708192967963,176.22177133817618,192.26094690730335,218.1297571332853,233.37677500023543,262.45944482339036,297.3512063242117,299.63283801416253,300.5511541925915,361.3908542017237,435.94642708049366,527.8189937025372,561.4342097644181,593.7546476071174,596.1386366163322,650.8933387173023,656.1814252736845,667.3520518470791,725.6474439929003,947.9692650946416,952.6257170069052,1050.4065033752356,1055.6480440277835,1086.849612877023,1219.548830514038,1259.7624757843084,1323.1769904926266,1388.3150503805473,1434.695331613788,1601.5177163950043,1788.1445263291826,1801.3948046145467,2027.7840278529566,2068.3576596602434,2202.7615404534463,2239.5276815194406,2255.8861609802725,2267.7891966588936,2555.440229834067,2649.3902409054763,2724.6724412447343,2941.0945498641936,3254.331052984852,3569.7780776241448,3577.8547556471235,3620.1242501154334,4164.5369000853825,4178.315035445832,4528.499606908859,4550.028051711369,4680.200471790158,5250.52971994684,5684.9754164933975,5700.076510917049,5707.307895884776,5816.047283106129,5932.238005147604,5989.489671538969,6076.972476159917,6279.028540407789,6924.243018995795,7003.992417767576,7349.637674284726,7602.9468092804245,8225.581235963129,8272.998913913734,8362.972375289957,8622.795942334451,8879.94133127973,9720.224241956686,10953.142503680881,11999.0014714656,12998.890546606694,13228.589286889182,13831.441898859099,14453.050815044726,15496.401903382846,15932.37920339837,16521.55666951455,20593.147882310674,27015.726576889047,27775.05714327606,28431.858329083978,37517.91971135139,46328.79220810567],\"y\":[\"model_A1\",\"year_1999\",\"model_1Series\",\"model_2Series\",\"model_CLK\",\"model_S5\",\"model_A3\",\"model_A4\",\"model_3Series\",\"model_4Series\",\"model_SLK\",\"model_6Series\",\"model_Q2\",\"model_A5\",\"model_M6\",\"model_X1\",\"model_Up\",\"model_RClass\",\"model_TT\",\"model_5Series\",\"model_Z4\",\"model_CLCClass\",\"model_BClass\",\"model_A6\",\"year_1998\",\"year_1996\",\"model_A7\",\"model_X2\",\"year_2000\",\"model_Q3\",\"model_Ka+\",\"model_Aygo\",\"model_S3\",\"model_Yaris\",\"model_Z3\",\"brand_Vauxhall\",\"year_2001\",\"model_GLAClass\",\"year_2002\",\"model_CaddyMaxiLife\",\"model_Jetta\",\"year_1997\",\"model_CaddyLife\",\"model_AClass\",\"model_Polo\",\"brand_Hyundai\",\"year_2004\",\"model_MClass\",\"model_CLClass\",\"model_GolfSV\",\"model_Camry\",\"brand_Skoda\",\"model_CLAClass\",\"model_Auris\",\"model_CC\",\"year_2003\",\"model_I10\",\"model_Corsa\",\"model_Corolla\",\"year_2006\",\"model_Viva\",\"model_CClass\",\"model_220\",\"model_Citigo\",\"brand_Ford\",\"model_IX20\",\"model_Verso\",\"year_2005\",\"model_Beetle\",\"model_KA\",\"model_Fabia\",\"model_S4\",\"model_Scirocco\",\"model_Scala\",\"model_GLClass\",\"model_B-MAX\",\"model_X-CLASS\",\"model_Avensis\",\"model_Adam\",\"model_Golf\",\"model_I800\",\"model_T-Cross\",\"model_I20\",\"model_A2\",\"model_CLSClass\",\"model_X3\",\"model_CrosslandX\",\"model_Passat\",\"model_A8\",\"model_Ioniq\",\"model_180\",\"model_Q5\",\"model_EClass\",\"model_Caddy\",\"model_Eos\",\"model_Mustang\",\"year_2007\",\"model_M3\",\"model_Meriva\",\"brand_Toyota\",\"model_Fiesta\",\"fuelType_Diesel\",\"model_Rapid\",\"model_Fusion\",\"model_S8\",\"model_RS7\",\"model_MokkaX\",\"model_Octavia\",\"model_UrbanCruiser\",\"transmission_Manual\",\"model_RAV4\",\"model_X4\",\"model_IQ\",\"model_C-MAX\",\"model_GT86\",\"year_2008\",\"model_Astra\",\"model_EcoSport\",\"model_CaddyMaxi\",\"model_Mondeo\",\"model_Vectra\",\"model_GTC\",\"model_I30\",\"model_Verso-S\",\"model_Terracan\",\"model_Fox\",\"model_T-Roc\",\"model_TransitTourneo\",\"model_Kadjar\",\"model_Kamiq\",\"model_Tigra\",\"model_GrandC-MAX\",\"fuelType_Electric\",\"model_Antara\",\"model_Sharan\",\"model_Roomster\",\"model_Veloster\",\"model_Focus\",\"year_2009\",\"brand_Volkswagen\",\"model_Hilux\",\"model_ComboLife\",\"transmission_Automatic\",\"model_RS3\",\"model_C-HR\",\"model_Streetka\",\"model_Prius\",\"mpg\",\"mileage\",\"model_Amica\",\"model_200\",\"model_Touran\",\"fuelType_Petrol\",\"model_Kuga\",\"model_Zafira\",\"model_Mokka\",\"model_Insignia\",\"model_I40\",\"model_Ranger\",\"model_ZafiraTourer\",\"model_SLCLASS\",\"model_YetiOutdoor\",\"model_Kona\",\"model_Yeti\",\"model_Arteon\",\"model_Cascada\",\"transmission_Semi-Auto\",\"model_7Series\",\"model_Tiguan\",\"model_TourneoConnect\",\"year_2010\",\"year_2011\",\"model_Agila\",\"fuelType_Other\",\"model_Escort\",\"model_Amarok\",\"model_Tucson\",\"year_2012\",\"model_Superb\",\"model_IX35\",\"transmission_Other\",\"model_GrandTourneoConnect\",\"model_Accent\",\"model_M2\",\"model_SQ5\",\"model_Getz\",\"fuelType_Hybrid\",\"model_Shuttle\",\"model_GrandlandX\",\"year_2013\",\"model_GLBClass\",\"model_Puma\",\"model_230\",\"model_Karoq\",\"model_S-MAX\",\"year_2014\",\"model_TiguanAllspace\",\"model_Galaxy\",\"model_M4\",\"year_2015\",\"model_TourneoCustom\",\"model_GLCClass\",\"model_Touareg\",\"brand_Benz\",\"model_X5\",\"model_PROACEVERSO\",\"year_2016\",\"model_Edge\",\"model_Kodiaq\",\"model_VClass\",\"model_Vivaro\",\"model_SantaFe\",\"year_2017\",\"model_Ampera\",\"model_Q7\",\"engineSize\",\"brand_BMW\",\"model_X6\",\"model_RS4\",\"year_2018\",\"model_GLEClass\",\"model_SQ7\",\"brand_Audi\",\"model_M5\",\"model_RS5\",\"year_1970\",\"year_2019\",\"model_SClass\",\"model_LandCruiser\",\"model_GLSClass\",\"model_RS6\",\"year_2020\",\"model_Caravelle\",\"model_Supra\",\"model_Q8\",\"model_8Series\",\"model_i8\",\"model_X7\",\"model_California\",\"model_GClass\",\"model_R8\"],\"type\":\"bar\"}],                        {\"template\":{\"data\":{\"bar\":[{\"error_x\":{\"color\":\"#2a3f5f\"},\"error_y\":{\"color\":\"#2a3f5f\"},\"marker\":{\"line\":{\"color\":\"#E5ECF6\",\"width\":0.5},\"pattern\":{\"fillmode\":\"overlay\",\"size\":10,\"solidity\":0.2}},\"type\":\"bar\"}],\"barpolar\":[{\"marker\":{\"line\":{\"color\":\"#E5ECF6\",\"width\":0.5},\"pattern\":{\"fillmode\":\"overlay\",\"size\":10,\"solidity\":0.2}},\"type\":\"barpolar\"}],\"carpet\":[{\"aaxis\":{\"endlinecolor\":\"#2a3f5f\",\"gridcolor\":\"white\",\"linecolor\":\"white\",\"minorgridcolor\":\"white\",\"startlinecolor\":\"#2a3f5f\"},\"baxis\":{\"endlinecolor\":\"#2a3f5f\",\"gridcolor\":\"white\",\"linecolor\":\"white\",\"minorgridcolor\":\"white\",\"startlinecolor\":\"#2a3f5f\"},\"type\":\"carpet\"}],\"choropleth\":[{\"colorbar\":{\"outlinewidth\":0,\"ticks\":\"\"},\"type\":\"choropleth\"}],\"contour\":[{\"colorbar\":{\"outlinewidth\":0,\"ticks\":\"\"},\"colorscale\":[[0.0,\"#0d0887\"],[0.1111111111111111,\"#46039f\"],[0.2222222222222222,\"#7201a8\"],[0.3333333333333333,\"#9c179e\"],[0.4444444444444444,\"#bd3786\"],[0.5555555555555556,\"#d8576b\"],[0.6666666666666666,\"#ed7953\"],[0.7777777777777778,\"#fb9f3a\"],[0.8888888888888888,\"#fdca26\"],[1.0,\"#f0f921\"]],\"type\":\"contour\"}],\"contourcarpet\":[{\"colorbar\":{\"outlinewidth\":0,\"ticks\":\"\"},\"type\":\"contourcarpet\"}],\"heatmap\":[{\"colorbar\":{\"outlinewidth\":0,\"ticks\":\"\"},\"colorscale\":[[0.0,\"#0d0887\"],[0.1111111111111111,\"#46039f\"],[0.2222222222222222,\"#7201a8\"],[0.3333333333333333,\"#9c179e\"],[0.4444444444444444,\"#bd3786\"],[0.5555555555555556,\"#d8576b\"],[0.6666666666666666,\"#ed7953\"],[0.7777777777777778,\"#fb9f3a\"],[0.8888888888888888,\"#fdca26\"],[1.0,\"#f0f921\"]],\"type\":\"heatmap\"}],\"heatmapgl\":[{\"colorbar\":{\"outlinewidth\":0,\"ticks\":\"\"},\"colorscale\":[[0.0,\"#0d0887\"],[0.1111111111111111,\"#46039f\"],[0.2222222222222222,\"#7201a8\"],[0.3333333333333333,\"#9c179e\"],[0.4444444444444444,\"#bd3786\"],[0.5555555555555556,\"#d8576b\"],[0.6666666666666666,\"#ed7953\"],[0.7777777777777778,\"#fb9f3a\"],[0.8888888888888888,\"#fdca26\"],[1.0,\"#f0f921\"]],\"type\":\"heatmapgl\"}],\"histogram\":[{\"marker\":{\"pattern\":{\"fillmode\":\"overlay\",\"size\":10,\"solidity\":0.2}},\"type\":\"histogram\"}],\"histogram2d\":[{\"colorbar\":{\"outlinewidth\":0,\"ticks\":\"\"},\"colorscale\":[[0.0,\"#0d0887\"],[0.1111111111111111,\"#46039f\"],[0.2222222222222222,\"#7201a8\"],[0.3333333333333333,\"#9c179e\"],[0.4444444444444444,\"#bd3786\"],[0.5555555555555556,\"#d8576b\"],[0.6666666666666666,\"#ed7953\"],[0.7777777777777778,\"#fb9f3a\"],[0.8888888888888888,\"#fdca26\"],[1.0,\"#f0f921\"]],\"type\":\"histogram2d\"}],\"histogram2dcontour\":[{\"colorbar\":{\"outlinewidth\":0,\"ticks\":\"\"},\"colorscale\":[[0.0,\"#0d0887\"],[0.1111111111111111,\"#46039f\"],[0.2222222222222222,\"#7201a8\"],[0.3333333333333333,\"#9c179e\"],[0.4444444444444444,\"#bd3786\"],[0.5555555555555556,\"#d8576b\"],[0.6666666666666666,\"#ed7953\"],[0.7777777777777778,\"#fb9f3a\"],[0.8888888888888888,\"#fdca26\"],[1.0,\"#f0f921\"]],\"type\":\"histogram2dcontour\"}],\"mesh3d\":[{\"colorbar\":{\"outlinewidth\":0,\"ticks\":\"\"},\"type\":\"mesh3d\"}],\"parcoords\":[{\"line\":{\"colorbar\":{\"outlinewidth\":0,\"ticks\":\"\"}},\"type\":\"parcoords\"}],\"pie\":[{\"automargin\":true,\"type\":\"pie\"}],\"scatter\":[{\"marker\":{\"colorbar\":{\"outlinewidth\":0,\"ticks\":\"\"}},\"type\":\"scatter\"}],\"scatter3d\":[{\"line\":{\"colorbar\":{\"outlinewidth\":0,\"ticks\":\"\"}},\"marker\":{\"colorbar\":{\"outlinewidth\":0,\"ticks\":\"\"}},\"type\":\"scatter3d\"}],\"scattercarpet\":[{\"marker\":{\"colorbar\":{\"outlinewidth\":0,\"ticks\":\"\"}},\"type\":\"scattercarpet\"}],\"scattergeo\":[{\"marker\":{\"colorbar\":{\"outlinewidth\":0,\"ticks\":\"\"}},\"type\":\"scattergeo\"}],\"scattergl\":[{\"marker\":{\"colorbar\":{\"outlinewidth\":0,\"ticks\":\"\"}},\"type\":\"scattergl\"}],\"scattermapbox\":[{\"marker\":{\"colorbar\":{\"outlinewidth\":0,\"ticks\":\"\"}},\"type\":\"scattermapbox\"}],\"scatterpolar\":[{\"marker\":{\"colorbar\":{\"outlinewidth\":0,\"ticks\":\"\"}},\"type\":\"scatterpolar\"}],\"scatterpolargl\":[{\"marker\":{\"colorbar\":{\"outlinewidth\":0,\"ticks\":\"\"}},\"type\":\"scatterpolargl\"}],\"scatterternary\":[{\"marker\":{\"colorbar\":{\"outlinewidth\":0,\"ticks\":\"\"}},\"type\":\"scatterternary\"}],\"surface\":[{\"colorbar\":{\"outlinewidth\":0,\"ticks\":\"\"},\"colorscale\":[[0.0,\"#0d0887\"],[0.1111111111111111,\"#46039f\"],[0.2222222222222222,\"#7201a8\"],[0.3333333333333333,\"#9c179e\"],[0.4444444444444444,\"#bd3786\"],[0.5555555555555556,\"#d8576b\"],[0.6666666666666666,\"#ed7953\"],[0.7777777777777778,\"#fb9f3a\"],[0.8888888888888888,\"#fdca26\"],[1.0,\"#f0f921\"]],\"type\":\"surface\"}],\"table\":[{\"cells\":{\"fill\":{\"color\":\"#EBF0F8\"},\"line\":{\"color\":\"white\"}},\"header\":{\"fill\":{\"color\":\"#C8D4E3\"},\"line\":{\"color\":\"white\"}},\"type\":\"table\"}]},\"layout\":{\"annotationdefaults\":{\"arrowcolor\":\"#2a3f5f\",\"arrowhead\":0,\"arrowwidth\":1},\"autotypenumbers\":\"strict\",\"coloraxis\":{\"colorbar\":{\"outlinewidth\":0,\"ticks\":\"\"}},\"colorscale\":{\"diverging\":[[0,\"#8e0152\"],[0.1,\"#c51b7d\"],[0.2,\"#de77ae\"],[0.3,\"#f1b6da\"],[0.4,\"#fde0ef\"],[0.5,\"#f7f7f7\"],[0.6,\"#e6f5d0\"],[0.7,\"#b8e186\"],[0.8,\"#7fbc41\"],[0.9,\"#4d9221\"],[1,\"#276419\"]],\"sequential\":[[0.0,\"#0d0887\"],[0.1111111111111111,\"#46039f\"],[0.2222222222222222,\"#7201a8\"],[0.3333333333333333,\"#9c179e\"],[0.4444444444444444,\"#bd3786\"],[0.5555555555555556,\"#d8576b\"],[0.6666666666666666,\"#ed7953\"],[0.7777777777777778,\"#fb9f3a\"],[0.8888888888888888,\"#fdca26\"],[1.0,\"#f0f921\"]],\"sequentialminus\":[[0.0,\"#0d0887\"],[0.1111111111111111,\"#46039f\"],[0.2222222222222222,\"#7201a8\"],[0.3333333333333333,\"#9c179e\"],[0.4444444444444444,\"#bd3786\"],[0.5555555555555556,\"#d8576b\"],[0.6666666666666666,\"#ed7953\"],[0.7777777777777778,\"#fb9f3a\"],[0.8888888888888888,\"#fdca26\"],[1.0,\"#f0f921\"]]},\"colorway\":[\"#636efa\",\"#EF553B\",\"#00cc96\",\"#ab63fa\",\"#FFA15A\",\"#19d3f3\",\"#FF6692\",\"#B6E880\",\"#FF97FF\",\"#FECB52\"],\"font\":{\"color\":\"#2a3f5f\"},\"geo\":{\"bgcolor\":\"white\",\"lakecolor\":\"white\",\"landcolor\":\"#E5ECF6\",\"showlakes\":true,\"showland\":true,\"subunitcolor\":\"white\"},\"hoverlabel\":{\"align\":\"left\"},\"hovermode\":\"closest\",\"mapbox\":{\"style\":\"light\"},\"paper_bgcolor\":\"white\",\"plot_bgcolor\":\"#E5ECF6\",\"polar\":{\"angularaxis\":{\"gridcolor\":\"white\",\"linecolor\":\"white\",\"ticks\":\"\"},\"bgcolor\":\"#E5ECF6\",\"radialaxis\":{\"gridcolor\":\"white\",\"linecolor\":\"white\",\"ticks\":\"\"}},\"scene\":{\"xaxis\":{\"backgroundcolor\":\"#E5ECF6\",\"gridcolor\":\"white\",\"gridwidth\":2,\"linecolor\":\"white\",\"showbackground\":true,\"ticks\":\"\",\"zerolinecolor\":\"white\"},\"yaxis\":{\"backgroundcolor\":\"#E5ECF6\",\"gridcolor\":\"white\",\"gridwidth\":2,\"linecolor\":\"white\",\"showbackground\":true,\"ticks\":\"\",\"zerolinecolor\":\"white\"},\"zaxis\":{\"backgroundcolor\":\"#E5ECF6\",\"gridcolor\":\"white\",\"gridwidth\":2,\"linecolor\":\"white\",\"showbackground\":true,\"ticks\":\"\",\"zerolinecolor\":\"white\"}},\"shapedefaults\":{\"line\":{\"color\":\"#2a3f5f\"}},\"ternary\":{\"aaxis\":{\"gridcolor\":\"white\",\"linecolor\":\"white\",\"ticks\":\"\"},\"baxis\":{\"gridcolor\":\"white\",\"linecolor\":\"white\",\"ticks\":\"\"},\"bgcolor\":\"#E5ECF6\",\"caxis\":{\"gridcolor\":\"white\",\"linecolor\":\"white\",\"ticks\":\"\"}},\"title\":{\"x\":0.05},\"xaxis\":{\"automargin\":true,\"gridcolor\":\"white\",\"linecolor\":\"white\",\"ticks\":\"\",\"title\":{\"standoff\":15},\"zerolinecolor\":\"white\",\"zerolinewidth\":2},\"yaxis\":{\"automargin\":true,\"gridcolor\":\"white\",\"linecolor\":\"white\",\"ticks\":\"\",\"title\":{\"standoff\":15},\"zerolinecolor\":\"white\",\"zerolinewidth\":2}}}},                        {\"responsive\": true}                    ).then(function(){\n",
              "                            \n",
              "var gd = document.getElementById('cfff1aeb-3d88-4e58-abd6-d21c9789e61f');\n",
              "var x = new MutationObserver(function (mutations, observer) {{\n",
              "        var display = window.getComputedStyle(gd).display;\n",
              "        if (!display || display === 'none') {{\n",
              "            console.log([gd, 'removed!']);\n",
              "            Plotly.purge(gd);\n",
              "            observer.disconnect();\n",
              "        }}\n",
              "}});\n",
              "\n",
              "// Listen for the removal of the full notebook cells\n",
              "var notebookContainer = gd.closest('#notebook-container');\n",
              "if (notebookContainer) {{\n",
              "    x.observe(notebookContainer, {childList: true});\n",
              "}}\n",
              "\n",
              "// Listen for the clearing of the current output cell\n",
              "var outputEl = gd.closest('.output');\n",
              "if (outputEl) {{\n",
              "    x.observe(outputEl, {childList: true});\n",
              "}}\n",
              "\n",
              "                        })                };                            </script>        </div>\n",
              "</body>\n",
              "</html>"
            ]
          },
          "metadata": {}
        }
      ]
    },
    {
      "cell_type": "code",
      "source": [
        "# Lasso : 최적 alpha값으로 setting\n",
        "lasso_model = Lasso(alpha=0.1)\n",
        "lasso_model.fit(X_train, y_train)\n",
        "# 회귀 계수 값 시각화\n",
        "df = pd.DataFrame()\n",
        "coef = pd.Series(data=lasso_model.coef_, index=X_features.columns)\n",
        "df['coef'] = coef\n",
        "coef = coef.sort_values(ascending=True)\n",
        "fig = go.Figure(go.Bar(x=coef.values, y=coef.index, orientation='h'))\n",
        "fig.show()"
      ],
      "metadata": {
        "colab": {
          "base_uri": "https://localhost:8080/",
          "height": 542
        },
        "id": "_OHuFtjgJADH",
        "outputId": "f5e958bb-27da-4766-ad9b-1a9e8f7b6488"
      },
      "execution_count": null,
      "outputs": [
        {
          "output_type": "display_data",
          "data": {
            "text/html": [
              "<html>\n",
              "<head><meta charset=\"utf-8\" /></head>\n",
              "<body>\n",
              "    <div>            <script src=\"https://cdnjs.cloudflare.com/ajax/libs/mathjax/2.7.5/MathJax.js?config=TeX-AMS-MML_SVG\"></script><script type=\"text/javascript\">if (window.MathJax) {MathJax.Hub.Config({SVG: {font: \"STIX-Web\"}});}</script>                <script type=\"text/javascript\">window.PlotlyConfig = {MathJaxConfig: 'local'};</script>\n",
              "        <script src=\"https://cdn.plot.ly/plotly-2.8.3.min.js\"></script>                <div id=\"b3174999-b41d-485e-9b5f-562a5b376449\" class=\"plotly-graph-div\" style=\"height:525px; width:100%;\"></div>            <script type=\"text/javascript\">                                    window.PLOTLYENV=window.PLOTLYENV || {};                                    if (document.getElementById(\"b3174999-b41d-485e-9b5f-562a5b376449\")) {                    Plotly.newPlot(                        \"b3174999-b41d-485e-9b5f-562a5b376449\",                        [{\"orientation\":\"h\",\"x\":[-16765.8506024631,-11325.626810665992,-10792.722886639396,-10631.00737773041,-10102.929998459484,-9909.699229964794,-9134.639575330693,-8306.37807023151,-8290.997240729792,-8123.127727671245,-7699.037746335041,-6677.5709540171465,-6629.476060638214,-6016.107601211721,-5969.427835307638,-5803.000331390683,-5679.856532746596,-5586.353623693231,-5176.2921863641595,-5072.757101943094,-4591.321832868215,-4340.351274164038,-4286.073783728691,-4268.818730326968,-4263.288349518432,-4201.636717674069,-4199.104958869254,-4155.223019806588,-4144.669993106827,-3990.1187454813476,-3907.099880086801,-3782.3858934497885,-3757.6882413847225,-3327.9080579341144,-3265.437137495962,-3244.07477500966,-3050.4104273867433,-2879.5457567378267,-2873.879397062983,-2761.5685760478505,-2647.5432798960805,-2647.19993216917,-2557.9858202194305,-2542.746089735812,-2514.772308024322,-2465.710411005619,-2445.6512947139117,-2425.8644820480395,-2353.155818354109,-2348.7744109059818,-2290.6362951405013,-2288.5046587089514,-2270.2596636528174,-2269.5172483925826,-2249.875055911125,-2209.5976445023516,-2179.1240262812944,-2160.4455605441435,-2125.9558940994266,-2076.270488516298,-2070.3679253382084,-1997.9615797432318,-1916.5903413511821,-1860.7575075899179,-1839.6831728797792,-1815.8822182044723,-1736.2221502698926,-1618.7036834554337,-1612.533587563047,-1571.7020654262353,-1538.2427451098467,-1506.334294564419,-1439.0039519972358,-1425.0196426917819,-1410.6524972973928,-1371.8080852472917,-1361.9851813984667,-1325.4990763457074,-1295.0397790894112,-1263.3067489777306,-1262.0876017587768,-1222.6279999026106,-1165.4822353480113,-1134.319193541782,-1063.3522444059108,-1042.645786251221,-968.9765092600869,-925.0188083157738,-924.4690963357016,-901.0217554355,-864.0409977172027,-759.0785700129063,-721.7963135264134,-707.0947773986576,-701.0267717331466,-686.8283257239924,-594.8879520985273,-541.0805688190358,-447.1507861431639,-444.19952609346416,-287.4632742410745,-181.27905390389685,-172.82707180606343,-153.61667137277414,-153.00974642439215,-137.53073879653422,-127.65351014641497,-26.24648717399172,-8.64105838172219,-0.22677807200186534,-0.07923344984215001,0.0,-0.0,-0.0,-0.0,-0.0,-0.0,0.0,0.0,-0.0,0.0,0.0,0.0,0.0,-0.0,0.0,0.0,-0.0,0.0,0.0,-0.0,-0.0,0.0,-0.0,0.0,-0.0,0.0,-0.0,0.0,0.0,0.0,-0.0,-0.0,0.0,0.0,0.0,-0.0,70.59128434110914,99.77584978445503,102.61750663990365,168.40592765871025,198.97642791233875,297.1800040379204,330.5873400829492,340.5649099836961,401.2782155649227,419.7151918017718,420.43035229400067,432.83891227850927,576.9184649106496,627.1808769353628,643.2487386966498,648.2435926980604,664.7470806119247,682.2744690040322,768.3839132597753,786.6721324673046,833.6322748260767,848.5234401938299,1051.6508830918135,1098.2335267118974,1101.781208981297,1242.6707694184718,1423.9256457336387,1455.9084789890612,1505.3199302208873,1730.9925314092748,1735.2666590845201,1795.9308970202983,2298.1444360303403,2359.3375923198387,2532.795393048002,2535.9490410517833,2646.8910536110798,2655.1237110354823,2765.9947669438734,2927.964430906535,2931.174774437425,2937.9297291573416,3019.848477847175,3270.8892976583834,3315.0905313650555,3813.32576900799,3877.2802608671423,3908.7571551702486,3996.38752211453,4050.2729657397595,4476.656714339834,4637.390320387068,4746.578740066093,4911.711511882272,5034.817758044746,5486.281842074292,5635.132025275103,5653.994499752629,5771.6286825360585,5919.5391230769565,6025.450012398119,6088.571763487636,6113.253387835666,6240.999051535847,6250.940531312085,6424.497285707955,6557.940124461282,6734.531588318666,6771.989743982777,7377.903052065643,8495.25479590752,9548.444667693626,9615.319428860026,10845.09314047456,11050.071514763269,11102.563694999553,12411.555193803693,13330.956908424216,13544.095768670373,14019.019121697092,14650.339263347783,14882.370989806566,15076.58244478372,16188.720494975454,17988.19883180527,18438.09122820894,19169.12080760365,21763.75472939238,27420.262282144602,32600.735238193076,34584.029949334225,34586.14260983077,44727.036379955425,53605.38057686517],\"y\":[\"year_1999\",\"year_1998\",\"year_2000\",\"year_1996\",\"year_2001\",\"year_2002\",\"year_2004\",\"model_CLK\",\"year_2006\",\"year_2003\",\"year_2005\",\"year_2007\",\"year_1997\",\"year_2008\",\"model_A1\",\"model_Ka+\",\"model_S5\",\"model_SLK\",\"year_2009\",\"model_Up\",\"model_RClass\",\"model_Aygo\",\"model_Yaris\",\"model_1Series\",\"model_A3\",\"year_2010\",\"model_2Series\",\"model_CLCClass\",\"year_2011\",\"model_BClass\",\"model_A4\",\"model_I10\",\"year_2012\",\"model_Corsa\",\"model_IX20\",\"model_Viva\",\"model_Q2\",\"model_A5\",\"model_Citigo\",\"year_2013\",\"model_I800\",\"model_I20\",\"model_CaddyMaxiLife\",\"model_KA\",\"model_Fabia\",\"model_GLAClass\",\"model_3Series\",\"model_Jetta\",\"brand_Vauxhall\",\"model_Scala\",\"model_B-MAX\",\"model_Auris\",\"model_Adam\",\"model_Polo\",\"model_Camry\",\"model_Ioniq\",\"year_2014\",\"model_4Series\",\"model_CrosslandX\",\"model_TT\",\"model_Corolla\",\"model_CaddyLife\",\"fuelType_Diesel\",\"model_AClass\",\"model_6Series\",\"model_GolfSV\",\"model_A6\",\"model_Meriva\",\"model_M6\",\"model_MClass\",\"model_Verso\",\"model_Fiesta\",\"model_A7\",\"model_CLClass\",\"model_Mustang\",\"model_MokkaX\",\"model_Rapid\",\"model_X1\",\"model_Q3\",\"model_CC\",\"year_2015\",\"model_Octavia\",\"transmission_Manual\",\"model_Avensis\",\"brand_Hyundai\",\"model_CLAClass\",\"brand_Skoda\",\"model_Fusion\",\"model_I30\",\"model_Astra\",\"model_C-MAX\",\"model_5Series\",\"model_EcoSport\",\"model_S3\",\"model_CClass\",\"model_Z4\",\"model_Mondeo\",\"model_Beetle\",\"model_GTC\",\"model_Scirocco\",\"brand_Ford\",\"model_GrandC-MAX\",\"model_Golf\",\"year_2016\",\"model_Kamiq\",\"model_T-Cross\",\"model_X2\",\"fuelType_Petrol\",\"mpg\",\"transmission_Automatic\",\"mileage\",\"model_Fox\",\"model_UrbanCruiser\",\"model_TransitTourneo\",\"model_Kadjar\",\"model_Tigra\",\"model_Terracan\",\"model_Eos\",\"model_Escort\",\"model_220\",\"brand_Toyota\",\"model_RS7\",\"model_Ranger\",\"model_GLClass\",\"model_Roomster\",\"model_Streetka\",\"model_Focus\",\"model_Antara\",\"model_200\",\"model_S8\",\"model_Veloster\",\"model_Vectra\",\"model_Passat\",\"model_Caddy\",\"model_Amica\",\"fuelType_Electric\",\"model_CaddyMaxi\",\"model_Z3\",\"model_Accent\",\"model_Verso-S\",\"model_I40\",\"model_IQ\",\"model_A2\",\"model_Cascada\",\"model_X-CLASS\",\"model_ComboLife\",\"model_180\",\"model_GT86\",\"model_Kona\",\"model_RAV4\",\"model_Getz\",\"model_230\",\"model_CLSClass\",\"model_Zafira\",\"model_ZafiraTourer\",\"model_Mokka\",\"model_Insignia\",\"model_Agila\",\"model_Kuga\",\"fuelType_Other\",\"model_Yeti\",\"model_YetiOutdoor\",\"brand_Volkswagen\",\"model_TourneoConnect\",\"transmission_Semi-Auto\",\"model_EClass\",\"model_Tucson\",\"transmission_Other\",\"model_IX35\",\"model_Hilux\",\"year_2017\",\"model_S4\",\"model_C-HR\",\"model_Prius\",\"model_Superb\",\"model_GrandTourneoConnect\",\"model_T-Roc\",\"fuelType_Hybrid\",\"model_Sharan\",\"model_GrandlandX\",\"model_Touran\",\"model_Puma\",\"model_A8\",\"model_Arteon\",\"model_Karoq\",\"year_2018\",\"model_Q5\",\"model_S-MAX\",\"model_Tiguan\",\"model_SLCLASS\",\"model_Amarok\",\"model_Galaxy\",\"model_X3\",\"model_M3\",\"model_TourneoCustom\",\"brand_BMW\",\"model_Shuttle\",\"model_RS3\",\"model_GLBClass\",\"brand_Benz\",\"model_X4\",\"model_TiguanAllspace\",\"model_Ampera\",\"model_Edge\",\"model_SantaFe\",\"model_PROACEVERSO\",\"model_Vivaro\",\"model_SQ5\",\"model_Kodiaq\",\"year_2019\",\"year_1970\",\"engineSize\",\"model_GLCClass\",\"model_Touareg\",\"brand_Audi\",\"model_7Series\",\"model_M2\",\"model_VClass\",\"model_M4\",\"year_2020\",\"model_X5\",\"model_GLEClass\",\"model_Q7\",\"model_RS4\",\"model_X6\",\"model_SQ7\",\"model_RS5\",\"model_LandCruiser\",\"model_SClass\",\"model_M5\",\"model_GLSClass\",\"model_Caravelle\",\"model_Supra\",\"model_RS6\",\"model_Q8\",\"model_8Series\",\"model_California\",\"model_X7\",\"model_i8\",\"model_GClass\",\"model_R8\"],\"type\":\"bar\"}],                        {\"template\":{\"data\":{\"bar\":[{\"error_x\":{\"color\":\"#2a3f5f\"},\"error_y\":{\"color\":\"#2a3f5f\"},\"marker\":{\"line\":{\"color\":\"#E5ECF6\",\"width\":0.5},\"pattern\":{\"fillmode\":\"overlay\",\"size\":10,\"solidity\":0.2}},\"type\":\"bar\"}],\"barpolar\":[{\"marker\":{\"line\":{\"color\":\"#E5ECF6\",\"width\":0.5},\"pattern\":{\"fillmode\":\"overlay\",\"size\":10,\"solidity\":0.2}},\"type\":\"barpolar\"}],\"carpet\":[{\"aaxis\":{\"endlinecolor\":\"#2a3f5f\",\"gridcolor\":\"white\",\"linecolor\":\"white\",\"minorgridcolor\":\"white\",\"startlinecolor\":\"#2a3f5f\"},\"baxis\":{\"endlinecolor\":\"#2a3f5f\",\"gridcolor\":\"white\",\"linecolor\":\"white\",\"minorgridcolor\":\"white\",\"startlinecolor\":\"#2a3f5f\"},\"type\":\"carpet\"}],\"choropleth\":[{\"colorbar\":{\"outlinewidth\":0,\"ticks\":\"\"},\"type\":\"choropleth\"}],\"contour\":[{\"colorbar\":{\"outlinewidth\":0,\"ticks\":\"\"},\"colorscale\":[[0.0,\"#0d0887\"],[0.1111111111111111,\"#46039f\"],[0.2222222222222222,\"#7201a8\"],[0.3333333333333333,\"#9c179e\"],[0.4444444444444444,\"#bd3786\"],[0.5555555555555556,\"#d8576b\"],[0.6666666666666666,\"#ed7953\"],[0.7777777777777778,\"#fb9f3a\"],[0.8888888888888888,\"#fdca26\"],[1.0,\"#f0f921\"]],\"type\":\"contour\"}],\"contourcarpet\":[{\"colorbar\":{\"outlinewidth\":0,\"ticks\":\"\"},\"type\":\"contourcarpet\"}],\"heatmap\":[{\"colorbar\":{\"outlinewidth\":0,\"ticks\":\"\"},\"colorscale\":[[0.0,\"#0d0887\"],[0.1111111111111111,\"#46039f\"],[0.2222222222222222,\"#7201a8\"],[0.3333333333333333,\"#9c179e\"],[0.4444444444444444,\"#bd3786\"],[0.5555555555555556,\"#d8576b\"],[0.6666666666666666,\"#ed7953\"],[0.7777777777777778,\"#fb9f3a\"],[0.8888888888888888,\"#fdca26\"],[1.0,\"#f0f921\"]],\"type\":\"heatmap\"}],\"heatmapgl\":[{\"colorbar\":{\"outlinewidth\":0,\"ticks\":\"\"},\"colorscale\":[[0.0,\"#0d0887\"],[0.1111111111111111,\"#46039f\"],[0.2222222222222222,\"#7201a8\"],[0.3333333333333333,\"#9c179e\"],[0.4444444444444444,\"#bd3786\"],[0.5555555555555556,\"#d8576b\"],[0.6666666666666666,\"#ed7953\"],[0.7777777777777778,\"#fb9f3a\"],[0.8888888888888888,\"#fdca26\"],[1.0,\"#f0f921\"]],\"type\":\"heatmapgl\"}],\"histogram\":[{\"marker\":{\"pattern\":{\"fillmode\":\"overlay\",\"size\":10,\"solidity\":0.2}},\"type\":\"histogram\"}],\"histogram2d\":[{\"colorbar\":{\"outlinewidth\":0,\"ticks\":\"\"},\"colorscale\":[[0.0,\"#0d0887\"],[0.1111111111111111,\"#46039f\"],[0.2222222222222222,\"#7201a8\"],[0.3333333333333333,\"#9c179e\"],[0.4444444444444444,\"#bd3786\"],[0.5555555555555556,\"#d8576b\"],[0.6666666666666666,\"#ed7953\"],[0.7777777777777778,\"#fb9f3a\"],[0.8888888888888888,\"#fdca26\"],[1.0,\"#f0f921\"]],\"type\":\"histogram2d\"}],\"histogram2dcontour\":[{\"colorbar\":{\"outlinewidth\":0,\"ticks\":\"\"},\"colorscale\":[[0.0,\"#0d0887\"],[0.1111111111111111,\"#46039f\"],[0.2222222222222222,\"#7201a8\"],[0.3333333333333333,\"#9c179e\"],[0.4444444444444444,\"#bd3786\"],[0.5555555555555556,\"#d8576b\"],[0.6666666666666666,\"#ed7953\"],[0.7777777777777778,\"#fb9f3a\"],[0.8888888888888888,\"#fdca26\"],[1.0,\"#f0f921\"]],\"type\":\"histogram2dcontour\"}],\"mesh3d\":[{\"colorbar\":{\"outlinewidth\":0,\"ticks\":\"\"},\"type\":\"mesh3d\"}],\"parcoords\":[{\"line\":{\"colorbar\":{\"outlinewidth\":0,\"ticks\":\"\"}},\"type\":\"parcoords\"}],\"pie\":[{\"automargin\":true,\"type\":\"pie\"}],\"scatter\":[{\"marker\":{\"colorbar\":{\"outlinewidth\":0,\"ticks\":\"\"}},\"type\":\"scatter\"}],\"scatter3d\":[{\"line\":{\"colorbar\":{\"outlinewidth\":0,\"ticks\":\"\"}},\"marker\":{\"colorbar\":{\"outlinewidth\":0,\"ticks\":\"\"}},\"type\":\"scatter3d\"}],\"scattercarpet\":[{\"marker\":{\"colorbar\":{\"outlinewidth\":0,\"ticks\":\"\"}},\"type\":\"scattercarpet\"}],\"scattergeo\":[{\"marker\":{\"colorbar\":{\"outlinewidth\":0,\"ticks\":\"\"}},\"type\":\"scattergeo\"}],\"scattergl\":[{\"marker\":{\"colorbar\":{\"outlinewidth\":0,\"ticks\":\"\"}},\"type\":\"scattergl\"}],\"scattermapbox\":[{\"marker\":{\"colorbar\":{\"outlinewidth\":0,\"ticks\":\"\"}},\"type\":\"scattermapbox\"}],\"scatterpolar\":[{\"marker\":{\"colorbar\":{\"outlinewidth\":0,\"ticks\":\"\"}},\"type\":\"scatterpolar\"}],\"scatterpolargl\":[{\"marker\":{\"colorbar\":{\"outlinewidth\":0,\"ticks\":\"\"}},\"type\":\"scatterpolargl\"}],\"scatterternary\":[{\"marker\":{\"colorbar\":{\"outlinewidth\":0,\"ticks\":\"\"}},\"type\":\"scatterternary\"}],\"surface\":[{\"colorbar\":{\"outlinewidth\":0,\"ticks\":\"\"},\"colorscale\":[[0.0,\"#0d0887\"],[0.1111111111111111,\"#46039f\"],[0.2222222222222222,\"#7201a8\"],[0.3333333333333333,\"#9c179e\"],[0.4444444444444444,\"#bd3786\"],[0.5555555555555556,\"#d8576b\"],[0.6666666666666666,\"#ed7953\"],[0.7777777777777778,\"#fb9f3a\"],[0.8888888888888888,\"#fdca26\"],[1.0,\"#f0f921\"]],\"type\":\"surface\"}],\"table\":[{\"cells\":{\"fill\":{\"color\":\"#EBF0F8\"},\"line\":{\"color\":\"white\"}},\"header\":{\"fill\":{\"color\":\"#C8D4E3\"},\"line\":{\"color\":\"white\"}},\"type\":\"table\"}]},\"layout\":{\"annotationdefaults\":{\"arrowcolor\":\"#2a3f5f\",\"arrowhead\":0,\"arrowwidth\":1},\"autotypenumbers\":\"strict\",\"coloraxis\":{\"colorbar\":{\"outlinewidth\":0,\"ticks\":\"\"}},\"colorscale\":{\"diverging\":[[0,\"#8e0152\"],[0.1,\"#c51b7d\"],[0.2,\"#de77ae\"],[0.3,\"#f1b6da\"],[0.4,\"#fde0ef\"],[0.5,\"#f7f7f7\"],[0.6,\"#e6f5d0\"],[0.7,\"#b8e186\"],[0.8,\"#7fbc41\"],[0.9,\"#4d9221\"],[1,\"#276419\"]],\"sequential\":[[0.0,\"#0d0887\"],[0.1111111111111111,\"#46039f\"],[0.2222222222222222,\"#7201a8\"],[0.3333333333333333,\"#9c179e\"],[0.4444444444444444,\"#bd3786\"],[0.5555555555555556,\"#d8576b\"],[0.6666666666666666,\"#ed7953\"],[0.7777777777777778,\"#fb9f3a\"],[0.8888888888888888,\"#fdca26\"],[1.0,\"#f0f921\"]],\"sequentialminus\":[[0.0,\"#0d0887\"],[0.1111111111111111,\"#46039f\"],[0.2222222222222222,\"#7201a8\"],[0.3333333333333333,\"#9c179e\"],[0.4444444444444444,\"#bd3786\"],[0.5555555555555556,\"#d8576b\"],[0.6666666666666666,\"#ed7953\"],[0.7777777777777778,\"#fb9f3a\"],[0.8888888888888888,\"#fdca26\"],[1.0,\"#f0f921\"]]},\"colorway\":[\"#636efa\",\"#EF553B\",\"#00cc96\",\"#ab63fa\",\"#FFA15A\",\"#19d3f3\",\"#FF6692\",\"#B6E880\",\"#FF97FF\",\"#FECB52\"],\"font\":{\"color\":\"#2a3f5f\"},\"geo\":{\"bgcolor\":\"white\",\"lakecolor\":\"white\",\"landcolor\":\"#E5ECF6\",\"showlakes\":true,\"showland\":true,\"subunitcolor\":\"white\"},\"hoverlabel\":{\"align\":\"left\"},\"hovermode\":\"closest\",\"mapbox\":{\"style\":\"light\"},\"paper_bgcolor\":\"white\",\"plot_bgcolor\":\"#E5ECF6\",\"polar\":{\"angularaxis\":{\"gridcolor\":\"white\",\"linecolor\":\"white\",\"ticks\":\"\"},\"bgcolor\":\"#E5ECF6\",\"radialaxis\":{\"gridcolor\":\"white\",\"linecolor\":\"white\",\"ticks\":\"\"}},\"scene\":{\"xaxis\":{\"backgroundcolor\":\"#E5ECF6\",\"gridcolor\":\"white\",\"gridwidth\":2,\"linecolor\":\"white\",\"showbackground\":true,\"ticks\":\"\",\"zerolinecolor\":\"white\"},\"yaxis\":{\"backgroundcolor\":\"#E5ECF6\",\"gridcolor\":\"white\",\"gridwidth\":2,\"linecolor\":\"white\",\"showbackground\":true,\"ticks\":\"\",\"zerolinecolor\":\"white\"},\"zaxis\":{\"backgroundcolor\":\"#E5ECF6\",\"gridcolor\":\"white\",\"gridwidth\":2,\"linecolor\":\"white\",\"showbackground\":true,\"ticks\":\"\",\"zerolinecolor\":\"white\"}},\"shapedefaults\":{\"line\":{\"color\":\"#2a3f5f\"}},\"ternary\":{\"aaxis\":{\"gridcolor\":\"white\",\"linecolor\":\"white\",\"ticks\":\"\"},\"baxis\":{\"gridcolor\":\"white\",\"linecolor\":\"white\",\"ticks\":\"\"},\"bgcolor\":\"#E5ECF6\",\"caxis\":{\"gridcolor\":\"white\",\"linecolor\":\"white\",\"ticks\":\"\"}},\"title\":{\"x\":0.05},\"xaxis\":{\"automargin\":true,\"gridcolor\":\"white\",\"linecolor\":\"white\",\"ticks\":\"\",\"title\":{\"standoff\":15},\"zerolinecolor\":\"white\",\"zerolinewidth\":2},\"yaxis\":{\"automargin\":true,\"gridcolor\":\"white\",\"linecolor\":\"white\",\"ticks\":\"\",\"title\":{\"standoff\":15},\"zerolinecolor\":\"white\",\"zerolinewidth\":2}}}},                        {\"responsive\": true}                    ).then(function(){\n",
              "                            \n",
              "var gd = document.getElementById('b3174999-b41d-485e-9b5f-562a5b376449');\n",
              "var x = new MutationObserver(function (mutations, observer) {{\n",
              "        var display = window.getComputedStyle(gd).display;\n",
              "        if (!display || display === 'none') {{\n",
              "            console.log([gd, 'removed!']);\n",
              "            Plotly.purge(gd);\n",
              "            observer.disconnect();\n",
              "        }}\n",
              "}});\n",
              "\n",
              "// Listen for the removal of the full notebook cells\n",
              "var notebookContainer = gd.closest('#notebook-container');\n",
              "if (notebookContainer) {{\n",
              "    x.observe(notebookContainer, {childList: true});\n",
              "}}\n",
              "\n",
              "// Listen for the clearing of the current output cell\n",
              "var outputEl = gd.closest('.output');\n",
              "if (outputEl) {{\n",
              "    x.observe(outputEl, {childList: true});\n",
              "}}\n",
              "\n",
              "                        })                };                            </script>        </div>\n",
              "</body>\n",
              "</html>"
            ]
          },
          "metadata": {}
        }
      ]
    },
    {
      "cell_type": "code",
      "source": [],
      "metadata": {
        "id": "N5hv3JVILhBC"
      },
      "execution_count": null,
      "outputs": []
    }
  ]
}