{
  "nbformat": 4,
  "nbformat_minor": 0,
  "metadata": {
    "colab": {
      "provenance": []
    },
    "kernelspec": {
      "name": "python3",
      "display_name": "Python 3"
    },
    "language_info": {
      "name": "python"
    }
  },
  "cells": [
    {
      "cell_type": "markdown",
      "source": [
        "# PCA"
      ],
      "metadata": {
        "id": "X40nuWfRiwu9"
      }
    },
    {
      "cell_type": "code",
      "source": [
        "import pandas as pd\n",
        "import numpy as np\n",
        "\n",
        "import matplotlib\n",
        "import matplotlib.pyplot as plt  \n",
        "import seaborn as sns\n",
        "sns.set_style('whitegrid')\n",
        "\n",
        "matplotlib.rc('axes', unicode_minus=False) # 마이너스 폰트가 깨지는 경우가 있으므로 조치"
      ],
      "metadata": {
        "id": "ovXP5Ovtt1Pz"
      },
      "execution_count": null,
      "outputs": []
    },
    {
      "cell_type": "markdown",
      "source": [
        "### 2016년 건강검진 데이터를 사용하겠습니다.\n",
        "\n",
        "키가 크고 허리둘레가 큰 사람은 어떤 사람일까요?\n",
        "\n",
        "덩치가 큰 사람이라고 표현할 수 있습니다.\n",
        "\n",
        "키와 허리둘레라는 측정 가능한 데이터로 덩치라는 측정 불가능한 잠재 요소를 형성하는 것입니다. \n",
        "\n",
        "데이터로 이를 구현해보겠습니다."
      ],
      "metadata": {
        "id": "g7d0ulaotv2N"
      }
    },
    {
      "cell_type": "code",
      "source": [
        "df = pd.read_csv(\"https://raw.githubusercontent.com/TaewoongKong/code_sharing/master/2016%E1%84%82%E1%85%A7%E1%86%AB_%E1%84%80%E1%85%A5%E1%86%AB%E1%84%80%E1%85%A1%E1%86%BC%E1%84%80%E1%85%A5%E1%86%B7%E1%84%8C%E1%85%B5%E1%86%AB_%E1%84%83%E1%85%A6%E1%84%8B%E1%85%B5%E1%84%90%E1%85%A5.csv\")\n",
        "df.head()"
      ],
      "metadata": {
        "colab": {
          "base_uri": "https://localhost:8080/",
          "height": 311
        },
        "id": "--4n-iRIt0k2",
        "outputId": "6ed0b61c-5c29-4cd8-c94a-ba0bcc856060"
      },
      "execution_count": null,
      "outputs": [
        {
          "output_type": "execute_result",
          "data": {
            "text/plain": [
              "   기준년도  가입자일련번호  성별코드  연령대코드(5세단위)  시도코드  신장(5Cm단위)  체중(5Kg단위)  허리둘레  시력(좌)  \\\n",
              "0  2016   465969     1            8    41      170.0       70.0  74.0    0.7   \n",
              "1  2016   565871     1           10    41      160.0       60.0  81.0    1.2   \n",
              "2  2016   115718     2           11    11      160.0       55.0  71.0    1.0   \n",
              "3  2016   767524     1            6    28      180.0       70.0  79.0    1.0   \n",
              "4  2016   482178     2            9    11      160.0       60.0  85.0    0.8   \n",
              "\n",
              "   시력(우)  ...  감마지티피  흡연상태  음주여부  구강검진 수검여부  치아우식증유무  결손치유무  치아마모증유무  \\\n",
              "0    0.7  ...   96.0   3.0   NaN          1      NaN    NaN      NaN   \n",
              "1    1.0  ...   14.0   1.0   NaN          0      NaN    NaN      NaN   \n",
              "2    1.0  ...   20.0   1.0   NaN          1      NaN    NaN      NaN   \n",
              "3    0.9  ...   16.0   1.0   NaN          0      NaN    NaN      NaN   \n",
              "4    1.2  ...   13.0   1.0   NaN          1      NaN    NaN      NaN   \n",
              "\n",
              "   제3대구치(사랑니)이상   치석   데이터공개일자  \n",
              "0           NaN  2.0  20171219  \n",
              "1           NaN  NaN  20171219  \n",
              "2           NaN  0.0  20171219  \n",
              "3           NaN  NaN  20171219  \n",
              "4           NaN  0.0  20171219  \n",
              "\n",
              "[5 rows x 34 columns]"
            ],
            "text/html": [
              "\n",
              "  <div id=\"df-9bb80128-8149-4c0c-8f75-2de908172630\">\n",
              "    <div class=\"colab-df-container\">\n",
              "      <div>\n",
              "<style scoped>\n",
              "    .dataframe tbody tr th:only-of-type {\n",
              "        vertical-align: middle;\n",
              "    }\n",
              "\n",
              "    .dataframe tbody tr th {\n",
              "        vertical-align: top;\n",
              "    }\n",
              "\n",
              "    .dataframe thead th {\n",
              "        text-align: right;\n",
              "    }\n",
              "</style>\n",
              "<table border=\"1\" class=\"dataframe\">\n",
              "  <thead>\n",
              "    <tr style=\"text-align: right;\">\n",
              "      <th></th>\n",
              "      <th>기준년도</th>\n",
              "      <th>가입자일련번호</th>\n",
              "      <th>성별코드</th>\n",
              "      <th>연령대코드(5세단위)</th>\n",
              "      <th>시도코드</th>\n",
              "      <th>신장(5Cm단위)</th>\n",
              "      <th>체중(5Kg단위)</th>\n",
              "      <th>허리둘레</th>\n",
              "      <th>시력(좌)</th>\n",
              "      <th>시력(우)</th>\n",
              "      <th>...</th>\n",
              "      <th>감마지티피</th>\n",
              "      <th>흡연상태</th>\n",
              "      <th>음주여부</th>\n",
              "      <th>구강검진 수검여부</th>\n",
              "      <th>치아우식증유무</th>\n",
              "      <th>결손치유무</th>\n",
              "      <th>치아마모증유무</th>\n",
              "      <th>제3대구치(사랑니)이상</th>\n",
              "      <th>치석</th>\n",
              "      <th>데이터공개일자</th>\n",
              "    </tr>\n",
              "  </thead>\n",
              "  <tbody>\n",
              "    <tr>\n",
              "      <th>0</th>\n",
              "      <td>2016</td>\n",
              "      <td>465969</td>\n",
              "      <td>1</td>\n",
              "      <td>8</td>\n",
              "      <td>41</td>\n",
              "      <td>170.0</td>\n",
              "      <td>70.0</td>\n",
              "      <td>74.0</td>\n",
              "      <td>0.7</td>\n",
              "      <td>0.7</td>\n",
              "      <td>...</td>\n",
              "      <td>96.0</td>\n",
              "      <td>3.0</td>\n",
              "      <td>NaN</td>\n",
              "      <td>1</td>\n",
              "      <td>NaN</td>\n",
              "      <td>NaN</td>\n",
              "      <td>NaN</td>\n",
              "      <td>NaN</td>\n",
              "      <td>2.0</td>\n",
              "      <td>20171219</td>\n",
              "    </tr>\n",
              "    <tr>\n",
              "      <th>1</th>\n",
              "      <td>2016</td>\n",
              "      <td>565871</td>\n",
              "      <td>1</td>\n",
              "      <td>10</td>\n",
              "      <td>41</td>\n",
              "      <td>160.0</td>\n",
              "      <td>60.0</td>\n",
              "      <td>81.0</td>\n",
              "      <td>1.2</td>\n",
              "      <td>1.0</td>\n",
              "      <td>...</td>\n",
              "      <td>14.0</td>\n",
              "      <td>1.0</td>\n",
              "      <td>NaN</td>\n",
              "      <td>0</td>\n",
              "      <td>NaN</td>\n",
              "      <td>NaN</td>\n",
              "      <td>NaN</td>\n",
              "      <td>NaN</td>\n",
              "      <td>NaN</td>\n",
              "      <td>20171219</td>\n",
              "    </tr>\n",
              "    <tr>\n",
              "      <th>2</th>\n",
              "      <td>2016</td>\n",
              "      <td>115718</td>\n",
              "      <td>2</td>\n",
              "      <td>11</td>\n",
              "      <td>11</td>\n",
              "      <td>160.0</td>\n",
              "      <td>55.0</td>\n",
              "      <td>71.0</td>\n",
              "      <td>1.0</td>\n",
              "      <td>1.0</td>\n",
              "      <td>...</td>\n",
              "      <td>20.0</td>\n",
              "      <td>1.0</td>\n",
              "      <td>NaN</td>\n",
              "      <td>1</td>\n",
              "      <td>NaN</td>\n",
              "      <td>NaN</td>\n",
              "      <td>NaN</td>\n",
              "      <td>NaN</td>\n",
              "      <td>0.0</td>\n",
              "      <td>20171219</td>\n",
              "    </tr>\n",
              "    <tr>\n",
              "      <th>3</th>\n",
              "      <td>2016</td>\n",
              "      <td>767524</td>\n",
              "      <td>1</td>\n",
              "      <td>6</td>\n",
              "      <td>28</td>\n",
              "      <td>180.0</td>\n",
              "      <td>70.0</td>\n",
              "      <td>79.0</td>\n",
              "      <td>1.0</td>\n",
              "      <td>0.9</td>\n",
              "      <td>...</td>\n",
              "      <td>16.0</td>\n",
              "      <td>1.0</td>\n",
              "      <td>NaN</td>\n",
              "      <td>0</td>\n",
              "      <td>NaN</td>\n",
              "      <td>NaN</td>\n",
              "      <td>NaN</td>\n",
              "      <td>NaN</td>\n",
              "      <td>NaN</td>\n",
              "      <td>20171219</td>\n",
              "    </tr>\n",
              "    <tr>\n",
              "      <th>4</th>\n",
              "      <td>2016</td>\n",
              "      <td>482178</td>\n",
              "      <td>2</td>\n",
              "      <td>9</td>\n",
              "      <td>11</td>\n",
              "      <td>160.0</td>\n",
              "      <td>60.0</td>\n",
              "      <td>85.0</td>\n",
              "      <td>0.8</td>\n",
              "      <td>1.2</td>\n",
              "      <td>...</td>\n",
              "      <td>13.0</td>\n",
              "      <td>1.0</td>\n",
              "      <td>NaN</td>\n",
              "      <td>1</td>\n",
              "      <td>NaN</td>\n",
              "      <td>NaN</td>\n",
              "      <td>NaN</td>\n",
              "      <td>NaN</td>\n",
              "      <td>0.0</td>\n",
              "      <td>20171219</td>\n",
              "    </tr>\n",
              "  </tbody>\n",
              "</table>\n",
              "<p>5 rows × 34 columns</p>\n",
              "</div>\n",
              "      <button class=\"colab-df-convert\" onclick=\"convertToInteractive('df-9bb80128-8149-4c0c-8f75-2de908172630')\"\n",
              "              title=\"Convert this dataframe to an interactive table.\"\n",
              "              style=\"display:none;\">\n",
              "        \n",
              "  <svg xmlns=\"http://www.w3.org/2000/svg\" height=\"24px\"viewBox=\"0 0 24 24\"\n",
              "       width=\"24px\">\n",
              "    <path d=\"M0 0h24v24H0V0z\" fill=\"none\"/>\n",
              "    <path d=\"M18.56 5.44l.94 2.06.94-2.06 2.06-.94-2.06-.94-.94-2.06-.94 2.06-2.06.94zm-11 1L8.5 8.5l.94-2.06 2.06-.94-2.06-.94L8.5 2.5l-.94 2.06-2.06.94zm10 10l.94 2.06.94-2.06 2.06-.94-2.06-.94-.94-2.06-.94 2.06-2.06.94z\"/><path d=\"M17.41 7.96l-1.37-1.37c-.4-.4-.92-.59-1.43-.59-.52 0-1.04.2-1.43.59L10.3 9.45l-7.72 7.72c-.78.78-.78 2.05 0 2.83L4 21.41c.39.39.9.59 1.41.59.51 0 1.02-.2 1.41-.59l7.78-7.78 2.81-2.81c.8-.78.8-2.07 0-2.86zM5.41 20L4 18.59l7.72-7.72 1.47 1.35L5.41 20z\"/>\n",
              "  </svg>\n",
              "      </button>\n",
              "      \n",
              "  <style>\n",
              "    .colab-df-container {\n",
              "      display:flex;\n",
              "      flex-wrap:wrap;\n",
              "      gap: 12px;\n",
              "    }\n",
              "\n",
              "    .colab-df-convert {\n",
              "      background-color: #E8F0FE;\n",
              "      border: none;\n",
              "      border-radius: 50%;\n",
              "      cursor: pointer;\n",
              "      display: none;\n",
              "      fill: #1967D2;\n",
              "      height: 32px;\n",
              "      padding: 0 0 0 0;\n",
              "      width: 32px;\n",
              "    }\n",
              "\n",
              "    .colab-df-convert:hover {\n",
              "      background-color: #E2EBFA;\n",
              "      box-shadow: 0px 1px 2px rgba(60, 64, 67, 0.3), 0px 1px 3px 1px rgba(60, 64, 67, 0.15);\n",
              "      fill: #174EA6;\n",
              "    }\n",
              "\n",
              "    [theme=dark] .colab-df-convert {\n",
              "      background-color: #3B4455;\n",
              "      fill: #D2E3FC;\n",
              "    }\n",
              "\n",
              "    [theme=dark] .colab-df-convert:hover {\n",
              "      background-color: #434B5C;\n",
              "      box-shadow: 0px 1px 3px 1px rgba(0, 0, 0, 0.15);\n",
              "      filter: drop-shadow(0px 1px 2px rgba(0, 0, 0, 0.3));\n",
              "      fill: #FFFFFF;\n",
              "    }\n",
              "  </style>\n",
              "\n",
              "      <script>\n",
              "        const buttonEl =\n",
              "          document.querySelector('#df-9bb80128-8149-4c0c-8f75-2de908172630 button.colab-df-convert');\n",
              "        buttonEl.style.display =\n",
              "          google.colab.kernel.accessAllowed ? 'block' : 'none';\n",
              "\n",
              "        async function convertToInteractive(key) {\n",
              "          const element = document.querySelector('#df-9bb80128-8149-4c0c-8f75-2de908172630');\n",
              "          const dataTable =\n",
              "            await google.colab.kernel.invokeFunction('convertToInteractive',\n",
              "                                                     [key], {});\n",
              "          if (!dataTable) return;\n",
              "\n",
              "          const docLinkHtml = 'Like what you see? Visit the ' +\n",
              "            '<a target=\"_blank\" href=https://colab.research.google.com/notebooks/data_table.ipynb>data table notebook</a>'\n",
              "            + ' to learn more about interactive tables.';\n",
              "          element.innerHTML = '';\n",
              "          dataTable['output_type'] = 'display_data';\n",
              "          await google.colab.output.renderOutput(dataTable, element);\n",
              "          const docLink = document.createElement('div');\n",
              "          docLink.innerHTML = docLinkHtml;\n",
              "          element.appendChild(docLink);\n",
              "        }\n",
              "      </script>\n",
              "    </div>\n",
              "  </div>\n",
              "  "
            ]
          },
          "metadata": {},
          "execution_count": 2
        }
      ]
    },
    {
      "cell_type": "markdown",
      "source": [
        "### 위 데이터에서 성별, 신장, 성별코드를 사용하겠습니다."
      ],
      "metadata": {
        "id": "c3cApGSmt6XI"
      }
    },
    {
      "cell_type": "code",
      "source": [
        "df = df[['허리둘레', '신장(5Cm단위)','성별코드']]\n",
        "df.columns = ['waist', 'height', 'sex']"
      ],
      "metadata": {
        "id": "mH52xPYyt6IU"
      },
      "execution_count": null,
      "outputs": []
    },
    {
      "cell_type": "markdown",
      "source": [
        "### 남녀 구분을 위해 남성 데이터프레임, 여성 데이터프레임을 생성하겠습니다."
      ],
      "metadata": {
        "id": "lp3BVFAeuEE9"
      }
    },
    {
      "cell_type": "code",
      "source": [
        "df_man = df.loc[___]\n",
        "df_woman = df.loc[___]"
      ],
      "metadata": {
        "id": "aPq1mAMVuH89"
      },
      "execution_count": null,
      "outputs": []
    },
    {
      "cell_type": "markdown",
      "source": [
        "### 분포가 어떤지 시각화 해보겠습니다.\n",
        "\n",
        "x 축에는 허리둘레, y축에는 키를 넣었습니다."
      ],
      "metadata": {
        "id": "7NaEiNssuJwG"
      }
    },
    {
      "cell_type": "code",
      "source": [
        "f, ax = plt.subplots(figsize=(8, 8))\n",
        "ax.set_aspect(\"equal\")\n",
        "\n",
        "ax = sns.kdeplot(df_man.waist, df_man.height, cmap=\"Reds\", shade=False, shade_lowest=False, cbar=False)\n",
        "ax = sns.kdeplot(df_woman.waist, df_woman.height, cmap=\"Blues\", shade=False, shade_lowest=False)"
      ],
      "metadata": {
        "colab": {
          "base_uri": "https://localhost:8080/",
          "height": 497
        },
        "id": "vewR9aHEuPuF",
        "outputId": "ed5539ed-26ed-412c-804d-7d04d6202380"
      },
      "execution_count": null,
      "outputs": [
        {
          "output_type": "stream",
          "name": "stderr",
          "text": [
            "/usr/local/lib/python3.8/dist-packages/seaborn/_decorators.py:36: FutureWarning: Pass the following variable as a keyword arg: y. From version 0.12, the only valid positional argument will be `data`, and passing other arguments without an explicit keyword will result in an error or misinterpretation.\n",
            "  warnings.warn(\n",
            "/usr/local/lib/python3.8/dist-packages/seaborn/distributions.py:1718: UserWarning: `shade_lowest` is now deprecated in favor of `thresh`. Setting `thresh=0.05`, but please update your code.\n",
            "  warnings.warn(msg, UserWarning)\n",
            "/usr/local/lib/python3.8/dist-packages/seaborn/_decorators.py:36: FutureWarning: Pass the following variable as a keyword arg: y. From version 0.12, the only valid positional argument will be `data`, and passing other arguments without an explicit keyword will result in an error or misinterpretation.\n",
            "  warnings.warn(\n",
            "/usr/local/lib/python3.8/dist-packages/seaborn/distributions.py:1718: UserWarning: `shade_lowest` is now deprecated in favor of `thresh`. Setting `thresh=0.05`, but please update your code.\n",
            "  warnings.warn(msg, UserWarning)\n"
          ]
        },
        {
          "output_type": "display_data",
          "data": {
            "text/plain": [
              "<Figure size 576x576 with 1 Axes>"
            ],
            "image/png": "[encoded data removed]"
          },
          "metadata": {}
        }
      ]
    },
    {
      "cell_type": "markdown",
      "source": [
        "빨간색은 키가 큰 편이고 허리둘레도 파란색 분포에 비해 높은 편입니다.\n",
        "\n",
        "덩치가 상대적으로 큰 부분이라 생각하니 남성일 것이라 예상됩니다."
      ],
      "metadata": {
        "id": "FocodzZCuu9k"
      }
    },
    {
      "cell_type": "markdown",
      "source": [
        "이제 PCA 차원축소를 통해 덩치라는 하나의 값으로 변환한 뒤 성별 간의 비교를 해보겠습니다."
      ],
      "metadata": {
        "id": "ABSM0KIEu1JY"
      }
    },
    {
      "cell_type": "markdown",
      "source": [
        "### 우선 허리둘레와 키 값에 대한 정규화를 먼저 진행하겠습니다. "
      ],
      "metadata": {
        "id": "pE-f1HaPvB7H"
      }
    },
    {
      "cell_type": "code",
      "source": [
        "from sklearn.preprocessing import StandardScaler\n",
        "\n",
        "df_scaled = ___().fit_transform(df[['waist', 'height']])"
      ],
      "metadata": {
        "id": "T6_6HeaFvHVc"
      },
      "execution_count": null,
      "outputs": []
    },
    {
      "cell_type": "markdown",
      "source": [
        "### PCA 모델을 만들겠습니다.\n",
        "\n",
        "n_components는 1로 설정합니다."
      ],
      "metadata": {
        "id": "sG7T0ZbmvIai"
      }
    },
    {
      "cell_type": "code",
      "source": [
        "from sklearn.decomposition import PCA\n",
        "\n",
        "pca = ___"
      ],
      "metadata": {
        "id": "aEJ3WgmbvSFx"
      },
      "execution_count": null,
      "outputs": []
    },
    {
      "cell_type": "markdown",
      "source": [
        "### fit( )과 transform( ) 을 호출하여 PCA 변환 데이터 반환하겠습니다."
      ],
      "metadata": {
        "id": "Kmqe6e0EvTwB"
      }
    },
    {
      "cell_type": "code",
      "source": [
        "pca.fit(___)\n",
        "df_pca = pca.transform(___)\n",
        "print(df_pca.shape)\n",
        "df_pca"
      ],
      "metadata": {
        "colab": {
          "base_uri": "https://localhost:8080/"
        },
        "id": "xLk6hjBOtkR5",
        "outputId": "ba2c62f7-d71e-4385-c5cd-5707607fa0a6"
      },
      "execution_count": null,
      "outputs": [
        {
          "output_type": "stream",
          "name": "stdout",
          "text": [
            "(1000, 1)\n"
          ]
        },
        {
          "output_type": "execute_result",
          "data": {
            "text/plain": [
              "array([[ 1.07885176e-01],\n",
              "       [-1.30565446e-01],\n",
              "       [-8.67299003e-01],\n",
              "       [ 1.23041607e+00],\n",
              "       [ 1.64127976e-01],\n",
              "       [-1.63017839e+00],\n",
              "       [ 6.32313944e-01],\n",
              "       [-1.10574963e+00],\n",
              "       [-1.11446490e+00],\n",
              "       [ 3.85148043e-01],\n",
              "       [-1.62146312e+00],\n",
              "       [-9.32257081e-01],\n",
              "       [-8.76014281e-01],\n",
              "       [ 6.97272021e-01],\n",
              "       [ 6.14883388e-01],\n",
              "       [-2.07221853e+00],\n",
              "       [ 6.97272021e-01],\n",
              "       [ 1.64127976e-01],\n",
              "       [-1.30933914e+00],\n",
              "       [-1.47411640e+00],\n",
              "       [-1.30933914e+00],\n",
              "       [-6.56073687e-02],\n",
              "       [-9.40972358e-01],\n",
              "       [-3.60300791e-01],\n",
              "       [-2.77912158e-01],\n",
              "       [ 1.72843254e-01],\n",
              "       [ 8.53334011e-01],\n",
              "       [ 6.79841466e-01],\n",
              "       [-2.06350325e+00],\n",
              "       [-2.04238802e-01],\n",
              "       [ 1.71126844e+00],\n",
              "       [ 7.53514821e-01],\n",
              "       [-1.16199243e+00],\n",
              "       [ 3.67717487e-01],\n",
              "       [ 1.81108763e+00],\n",
              "       [-4.51404703e-01],\n",
              "       [-6.37563658e-01],\n",
              "       [-1.26181161e+00],\n",
              "       [-1.23566578e+00],\n",
              "       [-2.21956524e+00],\n",
              "       [ 3.93863321e-01],\n",
              "       [ 9.04546205e-02],\n",
              "       [ 1.29537414e+00],\n",
              "       [ 3.85148043e-01],\n",
              "       [-1.40044305e+00],\n",
              "       [ 3.85148043e-01],\n",
              "       [ 2.25312777e+00],\n",
              "       [-1.45668585e+00],\n",
              "       [ 9.18292088e-01],\n",
              "       [-4.98932225e-01],\n",
              "       [ 7.30240646e-02],\n",
              "       [ 2.25312777e+00],\n",
              "       [-1.02336099e+00],\n",
              "       [-9.58402914e-01],\n",
              "       [-5.68920908e-02],\n",
              "       [-1.90744126e+00],\n",
              "       [ 6.32313944e-01],\n",
              "       [ 1.74612956e+00],\n",
              "       [ 9.91965444e-01],\n",
              "       [-1.56522032e+00],\n",
              "       [-7.37382847e-01],\n",
              "       [-8.76014281e-01],\n",
              "       [ 3.67717487e-01],\n",
              "       [ 9.09576810e-01],\n",
              "       [ 1.56392173e+00],\n",
              "       [-8.11056203e-01],\n",
              "       [ 1.72843254e-01],\n",
              "       [-3.04057991e-01],\n",
              "       [ 1.13931216e+00],\n",
              "       [ 1.67245620e+00],\n",
              "       [ 1.28665887e+00],\n",
              "       [ 2.10578106e+00],\n",
              "       [ 1.50767893e+00],\n",
              "       [-1.31805441e+00],\n",
              "       [-7.43226467e-02],\n",
              "       [ 1.67245620e+00],\n",
              "       [-6.37563658e-01],\n",
              "       [-5.72605580e-01],\n",
              "       [-1.32676969e+00],\n",
              "       [-7.93625647e-01],\n",
              "       [ 1.07885176e-01],\n",
              "       [-1.32676969e+00],\n",
              "       [ 9.91698984e-02],\n",
              "       [-5.72605580e-01],\n",
              "       [-1.84248318e+00],\n",
              "       [ 7.62230099e-01],\n",
              "       [-2.04238802e-01],\n",
              "       [-1.25309634e+00],\n",
              "       [-1.21850169e-01],\n",
              "       [ 9.18292088e-01],\n",
              "       [ 1.28665887e+00],\n",
              "       [-7.19952292e-01],\n",
              "       [ 3.85148043e-01],\n",
              "       [-9.49687636e-01],\n",
              "       [ 1.30408942e+00],\n",
              "       [ 5.32494754e-01],\n",
              "       [ 4.84967232e-01],\n",
              "       [-1.91615654e+00],\n",
              "       [ 6.32313944e-01],\n",
              "       [-7.93625647e-01],\n",
              "       [ 4.58821399e-01],\n",
              "       [ 1.66374092e+00],\n",
              "       [-5.68920908e-02],\n",
              "       [ 9.27007366e-01],\n",
              "       [-1.39280724e-01],\n",
              "       [ 7.53514821e-01],\n",
              "       [ 9.91965444e-01],\n",
              "       [-1.17070770e+00],\n",
              "       [ 2.32680112e+00],\n",
              "       [-1.21850169e-01],\n",
              "       [ 2.31808585e+00],\n",
              "       [-2.86627436e-01],\n",
              "       [ 2.32680112e+00],\n",
              "       [ 1.67812648e-02],\n",
              "       [-1.61274784e+00],\n",
              "       [-9.58402914e-01],\n",
              "       [-4.98932225e-01],\n",
              "       [-5.63890302e-01],\n",
              "       [-1.54778976e+00],\n",
              "       [-1.02336099e+00],\n",
              "       [ 1.81980291e+00],\n",
              "       [-1.17070770e+00],\n",
              "       [ 1.06563880e+00],\n",
              "       [ 7.88375933e-01],\n",
              "       [ 3.93863321e-01],\n",
              "       [ 3.85148043e-01],\n",
              "       [-1.90744126e+00],\n",
              "       [ 3.02759409e-01],\n",
              "       [-1.31805441e+00],\n",
              "       [-1.40044305e+00],\n",
              "       [ 3.20189965e-01],\n",
              "       [ 2.54965427e-02],\n",
              "       [ 6.88556743e-01],\n",
              "       [-1.03207627e+00],\n",
              "       [ 1.13931216e+00],\n",
              "       [-1.31805441e+00],\n",
              "       [-1.31805441e+00],\n",
              "       [-2.95342714e-01],\n",
              "       [ 6.14883388e-01],\n",
              "       [ 1.81108763e+00],\n",
              "       [ 1.81558532e-01],\n",
              "       [ 7.70945377e-01],\n",
              "       [ 1.06563880e+00],\n",
              "       [-1.86808246e-01],\n",
              "       [ 9.18292088e-01],\n",
              "       [-2.66160537e+00],\n",
              "       [-9.67118192e-01],\n",
              "       [-3.34154958e-01],\n",
              "       [-7.93625647e-01],\n",
              "       [-2.00726045e+00],\n",
              "       [-5.81320858e-01],\n",
              "       [-2.69196880e-01],\n",
              "       [-1.47411640e+00],\n",
              "       [-1.02336099e+00],\n",
              "       [-7.28667569e-01],\n",
              "       [ 4.67536677e-01],\n",
              "       [-1.55650504e+00],\n",
              "       [-2.69196880e-01],\n",
              "       [ 9.04546205e-02],\n",
              "       [ 1.72843254e-01],\n",
              "       [-1.40044305e+00],\n",
              "       [-1.31805441e+00],\n",
              "       [-4.81768129e-02],\n",
              "       [ 2.94044132e-01],\n",
              "       [-2.04238802e-01],\n",
              "       [-5.07647503e-01],\n",
              "       [-1.76880983e+00],\n",
              "       [-3.51585513e-01],\n",
              "       [-1.02336099e+00],\n",
              "       [ 8.06598690e-03],\n",
              "       [-2.95342714e-01],\n",
              "       [ 9.83250166e-01],\n",
              "       [-1.21850169e-01],\n",
              "       [-1.39280724e-01],\n",
              "       [-1.84248318e+00],\n",
              "       [-2.89134072e+00],\n",
              "       [ 1.66374092e+00],\n",
              "       [ 3.20189965e-01],\n",
              "       [-1.24438106e+00],\n",
              "       [-1.02336099e+00],\n",
              "       [-1.04079155e+00],\n",
              "       [-1.00593044e+00],\n",
              "       [-5.16362780e-01],\n",
              "       [ 1.36033222e+00],\n",
              "       [-4.25258869e-01],\n",
              "       [-4.98932225e-01],\n",
              "       [-9.49687636e-01],\n",
              "       [-5.63890302e-01],\n",
              "       [-1.95523524e-01],\n",
              "       [ 2.29086054e-01],\n",
              "       [ 1.42529030e+00],\n",
              "       [-1.61274784e+00],\n",
              "       [-7.37382847e-01],\n",
              "       [-8.84729559e-01],\n",
              "       [ 1.06563880e+00],\n",
              "       [ 1.20427023e+00],\n",
              "       [-2.95342714e-01],\n",
              "       [-1.16199243e+00],\n",
              "       [ 8.18472899e-01],\n",
              "       [-1.30933914e+00],\n",
              "       [-2.43187003e+00],\n",
              "       [-1.95523524e-01],\n",
              "       [ 1.96714962e+00],\n",
              "       [-6.63709492e-01],\n",
              "       [ 1.58135229e+00],\n",
              "       [-1.95523524e-01],\n",
              "       [ 1.94971907e+00],\n",
              "       [ 1.21298551e+00],\n",
              "       [ 5.49925310e-01],\n",
              "       [ 2.76884126e+00],\n",
              "       [ 9.18292088e-01],\n",
              "       [ 7.30240646e-02],\n",
              "       [-1.30565446e-01],\n",
              "       [ 1.49896366e+00],\n",
              "       [-4.98932225e-01],\n",
              "       [ 1.59878284e+00],\n",
              "       [ 1.06563880e+00],\n",
              "       [-1.08831907e+00],\n",
              "       [-1.98982989e+00],\n",
              "       [ 1.74612956e+00],\n",
              "       [-3.51585513e-01],\n",
              "       [ 2.10578106e+00],\n",
              "       [-3.60300791e-01],\n",
              "       [-8.02340925e-01],\n",
              "       [ 7.88375933e-01],\n",
              "       [-9.58402914e-01],\n",
              "       [-1.11446490e+00],\n",
              "       [ 1.43400558e+00],\n",
              "       [ 1.64127976e-01],\n",
              "       [ 1.55412698e-01],\n",
              "       [-6.54994214e-01],\n",
              "       [-9.58402914e-01],\n",
              "       [ 6.06168110e-01],\n",
              "       [-4.33974147e-01],\n",
              "       [ 1.13931216e+00],\n",
              "       [ 1.05692352e+00],\n",
              "       [-6.63709492e-01],\n",
              "       [ 2.46516610e-01],\n",
              "       [ 2.26184305e+00],\n",
              "       [-8.76014281e-01],\n",
              "       [ 2.46516610e-01],\n",
              "       [-1.61274784e+00],\n",
              "       [-1.10574963e+00],\n",
              "       [-1.17070770e+00],\n",
              "       [ 1.23041607e+00],\n",
              "       [-1.24438106e+00],\n",
              "       [-2.04238802e-01],\n",
              "       [-1.55650504e+00],\n",
              "       [-3.60300791e-01],\n",
              "       [ 5.32494754e-01],\n",
              "       [ 2.46516610e-01],\n",
              "       [ 5.58640588e-01],\n",
              "       [ 5.49925310e-01],\n",
              "       [ 9.91698984e-02],\n",
              "       [-2.36691195e+00],\n",
              "       [ 3.20189965e-01],\n",
              "       [-9.58402914e-01],\n",
              "       [-1.08831907e+00],\n",
              "       [ 6.32313944e-01],\n",
              "       [-8.02340925e-01],\n",
              "       [-9.49687636e-01],\n",
              "       [ 1.27794359e+00],\n",
              "       [ 2.55231888e-01],\n",
              "       [-2.95342714e-01],\n",
              "       [-1.33548497e+00],\n",
              "       [-3.51585513e-01],\n",
              "       [-4.90216947e-01],\n",
              "       [-1.39172777e+00],\n",
              "       [ 6.06168110e-01],\n",
              "       [ 8.35903455e-01],\n",
              "       [ 1.81558532e-01],\n",
              "       [ 2.29086054e-01],\n",
              "       [-1.17070770e+00],\n",
              "       [ 1.81558532e-01],\n",
              "       [-1.09703435e+00],\n",
              "       [ 6.23598666e-01],\n",
              "       [-2.77912158e-01],\n",
              "       [-7.37382847e-01],\n",
              "       [-9.49687636e-01],\n",
              "       [ 1.59006757e+00],\n",
              "       [-1.47411640e+00],\n",
              "       [ 1.66374092e+00],\n",
              "       [-4.81768129e-02],\n",
              "       [-1.46540113e+00],\n",
              "       [-1.08831907e+00],\n",
              "       [-1.53907448e+00],\n",
              "       [-4.81768129e-02],\n",
              "       [ 8.44618733e-01],\n",
              "       [-7.43226467e-02],\n",
              "       [-2.21084996e+00],\n",
              "       [ 9.04546205e-02],\n",
              "       [ 4.84967232e-01],\n",
              "       [-4.33974147e-01],\n",
              "       [ 9.83250166e-01],\n",
              "       [ 1.36033222e+00],\n",
              "       [ 8.44618733e-01],\n",
              "       [-8.84729559e-01],\n",
              "       [-3.51585513e-01],\n",
              "       [-8.76014281e-01],\n",
              "       [-1.08831907e+00],\n",
              "       [-8.11056203e-01],\n",
              "       [-1.31805441e+00],\n",
              "       [-1.99854517e+00],\n",
              "       [ 1.06563880e+00],\n",
              "       [ 9.18292088e-01],\n",
              "       [ 2.37801332e-01],\n",
              "       [-8.02340925e-01],\n",
              "       [-8.02340925e-01],\n",
              "       [-3.42870235e-01],\n",
              "       [-1.47411640e+00],\n",
              "       [-2.77912158e-01],\n",
              "       [-1.23566578e+00],\n",
              "       [-6.54994214e-01],\n",
              "       [-1.26181161e+00],\n",
              "       [ 8.27188177e-01],\n",
              "       [ 1.88476099e+00],\n",
              "       [ 1.88476099e+00],\n",
              "       [-1.17942298e+00],\n",
              "       [-7.28667569e-01],\n",
              "       [ 9.09576810e-01],\n",
              "       [-1.02336099e+00],\n",
              "       [-7.28667569e-01],\n",
              "       [-5.07647503e-01],\n",
              "       [-4.81768129e-02],\n",
              "       [-5.68920908e-02],\n",
              "       [-2.95342714e-01],\n",
              "       [ 6.06168110e-01],\n",
              "       [-5.72605580e-01],\n",
              "       [ 3.51429009e+00],\n",
              "       [-3.60300791e-01],\n",
              "       [ 6.97272021e-01],\n",
              "       [-8.84729559e-01],\n",
              "       [-2.28452332e+00],\n",
              "       [-5.98751414e-01],\n",
              "       [ 3.11474687e-01],\n",
              "       [ 1.05692352e+00],\n",
              "       [-1.17070770e+00],\n",
              "       [-1.53907448e+00],\n",
              "       [-2.07221853e+00],\n",
              "       [-4.16543591e-01],\n",
              "       [ 8.44618733e-01],\n",
              "       [ 6.14883388e-01],\n",
              "       [ 1.44272086e+00],\n",
              "       [ 1.50767893e+00],\n",
              "       [ 1.51639421e+00],\n",
              "       [-1.31805441e+00],\n",
              "       [-1.08831907e+00],\n",
              "       [ 3.20189965e-01],\n",
              "       [ 1.05692352e+00],\n",
              "       [ 6.79841466e-01],\n",
              "       [-1.09703435e+00],\n",
              "       [ 1.87604571e+00],\n",
              "       [ 2.40047448e+00],\n",
              "       [ 1.15674271e+00],\n",
              "       [-1.39172777e+00],\n",
              "       [ 6.23598666e-01],\n",
              "       [-1.02336099e+00],\n",
              "       [-1.30565446e-01],\n",
              "       [-1.76009455e+00],\n",
              "       [-7.19952292e-01],\n",
              "       [ 9.91965444e-01],\n",
              "       [ 4.50106121e-01],\n",
              "       [ 1.67812648e-02],\n",
              "       [-1.39172777e+00],\n",
              "       [ 8.53334011e-01],\n",
              "       [ 1.72843254e-01],\n",
              "       [ 1.95843435e+00],\n",
              "       [-2.51425866e+00],\n",
              "       [-1.24438106e+00],\n",
              "       [ 1.89347627e+00],\n",
              "       [ 1.59006757e+00],\n",
              "       [ 1.96714962e+00],\n",
              "       [ 1.95843435e+00],\n",
              "       [-9.67118192e-01],\n",
              "       [-1.60403256e+00],\n",
              "       [ 1.87604571e+00],\n",
              "       [-2.60481602e-01],\n",
              "       [ 1.21298551e+00],\n",
              "       [-3.94615350e-02],\n",
              "       [-1.86808246e-01],\n",
              "       [-1.95523524e-01],\n",
              "       [ 4.67536677e-01],\n",
              "       [ 7.70945377e-01],\n",
              "       [-1.84248318e+00],\n",
              "       [ 9.04546205e-02],\n",
              "       [-4.98932225e-01],\n",
              "       [ 8.44618733e-01],\n",
              "       [ 9.74534888e-01],\n",
              "       [ 2.54782119e+00],\n",
              "       [ 2.11449633e+00],\n",
              "       [-7.28667569e-01],\n",
              "       [ 3.11474687e-01],\n",
              "       [ 8.44618733e-01],\n",
              "       [ 2.85122989e+00],\n",
              "       [-2.21669358e-01],\n",
              "       [ 1.07435408e+00],\n",
              "       [-1.21850169e-01],\n",
              "       [ 2.17945441e+00],\n",
              "       [ 2.77755654e+00],\n",
              "       [-2.12954080e-01],\n",
              "       [ 2.04082298e+00],\n",
              "       [ 1.52510949e+00],\n",
              "       [-1.47411640e+00],\n",
              "       [-1.26181161e+00],\n",
              "       [-1.95523524e-01],\n",
              "       [-1.39172777e+00],\n",
              "       [ 3.11474687e-01],\n",
              "       [ 6.97272021e-01],\n",
              "       [ 7.79660655e-01],\n",
              "       [-7.84910369e-01],\n",
              "       [-1.68642119e+00],\n",
              "       [-1.15327715e+00],\n",
              "       [ 9.27007366e-01],\n",
              "       [ 9.04546205e-02],\n",
              "       [-3.77731347e-01],\n",
              "       [-8.02340925e-01],\n",
              "       [-1.09703435e+00],\n",
              "       [ 6.88556743e-01],\n",
              "       [ 1.13931216e+00],\n",
              "       [-4.33974147e-01],\n",
              "       [-1.25309634e+00],\n",
              "       [-1.53035920e+00],\n",
              "       [-1.25309634e+00],\n",
              "       [-2.51425866e+00],\n",
              "       [-2.35819667e+00],\n",
              "       [-3.60300791e-01],\n",
              "       [-1.53907448e+00],\n",
              "       [-1.30933914e+00],\n",
              "       [-1.04079155e+00],\n",
              "       [-9.49687636e-01],\n",
              "       [-4.33974147e-01],\n",
              "       [ 4.67536677e-01],\n",
              "       [-2.44930058e+00],\n",
              "       [ 1.05692352e+00],\n",
              "       [ 1.44272086e+00],\n",
              "       [ 2.24441249e+00],\n",
              "       [ 1.50767893e+00],\n",
              "       [ 2.54965427e-02],\n",
              "       [-1.46540113e+00],\n",
              "       [-2.14589188e+00],\n",
              "       [ 2.41790503e+00],\n",
              "       [ 6.41029222e-01],\n",
              "       [-5.07647503e-01],\n",
              "       [ 1.81558532e-01],\n",
              "       [ 9.83250166e-01],\n",
              "       [-5.63890302e-01],\n",
              "       [ 2.30937057e+00],\n",
              "       [-3.42870235e-01],\n",
              "       [-3.04057991e-01],\n",
              "       [ 1.20427023e+00],\n",
              "       [ 8.27188177e-01],\n",
              "       [-4.25258869e-01],\n",
              "       [ 1.06563880e+00],\n",
              "       [ 1.20427023e+00],\n",
              "       [ 5.49925310e-01],\n",
              "       [ 7.62230099e-01],\n",
              "       [ 9.18292088e-01],\n",
              "       [-1.60403256e+00],\n",
              "       [-1.71256703e+00],\n",
              "       [ 2.11449633e+00],\n",
              "       [-1.01464571e+00],\n",
              "       [-6.37563658e-01],\n",
              "       [ 1.51639421e+00],\n",
              "       [-1.68642119e+00],\n",
              "       [ 1.72869900e+00],\n",
              "       [-7.93625647e-01],\n",
              "       [ 2.39175920e+00],\n",
              "       [ 3.93863321e-01],\n",
              "       [-1.21850169e-01],\n",
              "       [ 7.79660655e-01],\n",
              "       [ 7.62230099e-01],\n",
              "       [ 6.97272021e-01],\n",
              "       [ 1.29537414e+00],\n",
              "       [ 7.30240646e-02],\n",
              "       [-1.53907448e+00],\n",
              "       [ 2.55231888e-01],\n",
              "       [-5.16362780e-01],\n",
              "       [-1.02336099e+00],\n",
              "       [-4.33974147e-01],\n",
              "       [ 1.66374092e+00],\n",
              "       [-1.63017839e+00],\n",
              "       [ 1.55412698e-01],\n",
              "       [-6.46278936e-01],\n",
              "       [ 9.74534888e-01],\n",
              "       [-5.72605580e-01],\n",
              "       [ 9.18292088e-01],\n",
              "       [-1.39280724e-01],\n",
              "       [-9.32257081e-01],\n",
              "       [-6.63709492e-01],\n",
              "       [-2.00726045e+00],\n",
              "       [-1.18813826e+00],\n",
              "       [ 1.51639421e+00],\n",
              "       [-3.42870235e-01],\n",
              "       [-5.90036136e-01],\n",
              "       [ 5.41210032e-01],\n",
              "       [-1.30565446e-01],\n",
              "       [ 1.60749812e+00],\n",
              "       [ 1.44272086e+00],\n",
              "       [ 8.53334011e-01],\n",
              "       [-5.68920908e-02],\n",
              "       [ 1.21298551e+00],\n",
              "       [ 1.58135229e+00],\n",
              "       [ 3.42118207e-02],\n",
              "       [-7.93625647e-01],\n",
              "       [-3.69016069e-01],\n",
              "       [-9.58402914e-01],\n",
              "       [-1.77752510e+00],\n",
              "       [-1.31805441e+00],\n",
              "       [-1.39172777e+00],\n",
              "       [-1.83376790e+00],\n",
              "       [-1.30933914e+00],\n",
              "       [-1.60403256e+00],\n",
              "       [ 1.80237236e+00],\n",
              "       [-6.56073687e-02],\n",
              "       [-4.33974147e-01],\n",
              "       [-3.42870235e-01],\n",
              "       [-1.62146312e+00],\n",
              "       [ 1.21298551e+00],\n",
              "       [ 1.35161694e+00],\n",
              "       [ 9.04546205e-02],\n",
              "       [-1.04419613e-01],\n",
              "       [ 1.20427023e+00],\n",
              "       [-1.02336099e+00],\n",
              "       [-1.10574963e+00],\n",
              "       [ 6.23598666e-01],\n",
              "       [ 4.02578599e-01],\n",
              "       [ 1.28665887e+00],\n",
              "       [-9.40972358e-01],\n",
              "       [-1.40044305e+00],\n",
              "       [ 7.05987299e-01],\n",
              "       [-5.90036136e-01],\n",
              "       [-1.26181161e+00],\n",
              "       [-1.39172777e+00],\n",
              "       [ 8.17393425e-02],\n",
              "       [ 2.18816969e+00],\n",
              "       [ 3.42118207e-02],\n",
              "       [-1.77752510e+00],\n",
              "       [ 8.35903455e-01],\n",
              "       [ 1.95843435e+00],\n",
              "       [ 8.44618733e-01],\n",
              "       [ 2.26184305e+00],\n",
              "       [-1.08831907e+00],\n",
              "       [ 1.50767893e+00],\n",
              "       [-1.61274784e+00],\n",
              "       [-1.86808246e-01],\n",
              "       [-1.10574963e+00],\n",
              "       [-4.16543591e-01],\n",
              "       [ 1.13931216e+00],\n",
              "       [-8.76014281e-01],\n",
              "       [-2.07221853e+00],\n",
              "       [ 1.43400558e+00],\n",
              "       [-9.40972358e-01],\n",
              "       [-6.46278936e-01],\n",
              "       [ 2.17945441e+00],\n",
              "       [-2.77912158e-01],\n",
              "       [-2.29323859e+00],\n",
              "       [-7.28667569e-01],\n",
              "       [ 1.72843254e-01],\n",
              "       [ 1.18683968e+00],\n",
              "       [-1.01464571e+00],\n",
              "       [-4.16543591e-01],\n",
              "       [-2.21956524e+00],\n",
              "       [ 4.29270986e-02],\n",
              "       [-4.33974147e-01],\n",
              "       [-1.31805441e+00],\n",
              "       [ 3.02759409e-01],\n",
              "       [ 2.54965427e-02],\n",
              "       [-1.77752510e+00],\n",
              "       [-1.26181161e+00],\n",
              "       [-2.04238802e-01],\n",
              "       [ 1.36904750e+00],\n",
              "       [ 2.46516610e-01],\n",
              "       [ 9.09576810e-01],\n",
              "       [ 9.91965444e-01],\n",
              "       [ 1.84989988e+00],\n",
              "       [ 6.14883388e-01],\n",
              "       [ 1.64631037e+00],\n",
              "       [ 1.68117148e+00],\n",
              "       [ 2.46516610e-01],\n",
              "       [-8.19771481e-01],\n",
              "       [ 1.72843254e-01],\n",
              "       [-4.42689425e-01],\n",
              "       [ 9.18292088e-01],\n",
              "       [-5.68920908e-02],\n",
              "       [ 2.04082298e+00],\n",
              "       [-2.12954080e-01],\n",
              "       [-3.11236078e+00],\n",
              "       [-3.42870235e-01],\n",
              "       [-1.30062386e+00],\n",
              "       [ 1.35161694e+00],\n",
              "       [ 2.54965427e-02],\n",
              "       [ 3.11474687e-01],\n",
              "       [ 3.20189965e-01],\n",
              "       [-2.86627436e-01],\n",
              "       [-5.72605580e-01],\n",
              "       [ 8.53334011e-01],\n",
              "       [-1.30565446e-01],\n",
              "       [-9.49687636e-01],\n",
              "       [ 3.28905243e-01],\n",
              "       [-2.04238802e-01],\n",
              "       [-1.39280724e-01],\n",
              "       [-1.21850169e-01],\n",
              "       [-5.16362780e-01],\n",
              "       [ 1.07885176e-01],\n",
              "       [ 1.28665887e+00],\n",
              "       [-2.04238802e-01],\n",
              "       [-2.77912158e-01],\n",
              "       [-6.56073687e-02],\n",
              "       [-7.19952292e-01],\n",
              "       [-1.92487182e+00],\n",
              "       [ 1.94100379e+00],\n",
              "       [-1.63017839e+00],\n",
              "       [-7.43226467e-02],\n",
              "       [-3.94615350e-02],\n",
              "       [ 4.67536677e-01],\n",
              "       [-1.03207627e+00],\n",
              "       [-5.81320858e-01],\n",
              "       [-2.08093380e+00],\n",
              "       [-7.28667569e-01],\n",
              "       [ 5.32494754e-01],\n",
              "       [ 1.44272086e+00],\n",
              "       [-1.30565446e-01],\n",
              "       [ 1.21298551e+00],\n",
              "       [-7.11237014e-01],\n",
              "       [-3.42870235e-01],\n",
              "       [ 3.85148043e-01],\n",
              "       [-5.90036136e-01],\n",
              "       [ 4.41390843e-01],\n",
              "       [ 9.91698984e-02],\n",
              "       [ 1.81108763e+00],\n",
              "       [ 2.40047448e+00],\n",
              "       [ 1.36033222e+00],\n",
              "       [ 7.30240646e-02],\n",
              "       [ 9.18292088e-01],\n",
              "       [ 1.20427023e+00],\n",
              "       [ 2.12321161e+00],\n",
              "       [-4.16543591e-01],\n",
              "       [-4.98932225e-01],\n",
              "       [ 3.42118207e-02],\n",
              "       [-7.93625647e-01],\n",
              "       [ 1.36033222e+00],\n",
              "       [ 2.30065529e+00],\n",
              "       [-1.17070770e+00],\n",
              "       [-1.90744126e+00],\n",
              "       [-5.07647503e-01],\n",
              "       [-1.08831907e+00],\n",
              "       [ 1.72843254e-01],\n",
              "       [-2.12954080e-01],\n",
              "       [-6.49291017e-04],\n",
              "       [-1.47996002e-01],\n",
              "       [ 2.19688497e+00],\n",
              "       [-8.84729559e-01],\n",
              "       [ 4.76251954e-01],\n",
              "       [-9.58402914e-01],\n",
              "       [-2.14589188e+00],\n",
              "       [-1.09703435e+00],\n",
              "       [ 1.13931216e+00],\n",
              "       [ 6.23598666e-01],\n",
              "       [ 3.20189965e-01],\n",
              "       [ 7.05987299e-01],\n",
              "       [-1.46540113e+00],\n",
              "       [ 1.13931216e+00],\n",
              "       [ 5.49925310e-01],\n",
              "       [ 1.95843435e+00],\n",
              "       [ 3.93889967e+00],\n",
              "       [-2.04238802e-01],\n",
              "       [ 1.81108763e+00],\n",
              "       [ 6.14883388e-01],\n",
              "       [ 9.91965444e-01],\n",
              "       [-1.54778976e+00],\n",
              "       [ 4.67536677e-01],\n",
              "       [ 1.64127976e-01],\n",
              "       [-1.62146312e+00],\n",
              "       [-2.06350325e+00],\n",
              "       [ 9.04546205e-02],\n",
              "       [ 3.11474687e-01],\n",
              "       [ 1.58135229e+00],\n",
              "       [ 5.41210032e-01],\n",
              "       [ 4.76251954e-01],\n",
              "       [ 8.35903455e-01],\n",
              "       [ 6.32313944e-01],\n",
              "       [ 7.62230099e-01],\n",
              "       [ 2.18816969e+00],\n",
              "       [ 6.97272021e-01],\n",
              "       [ 2.63947165e-01],\n",
              "       [-5.81320858e-01],\n",
              "       [ 1.22170079e+00],\n",
              "       [-5.07647503e-01],\n",
              "       [-1.47411640e+00],\n",
              "       [-3.51585513e-01],\n",
              "       [ 4.20009155e-01],\n",
              "       [ 1.64127976e-01],\n",
              "       [ 8.27188177e-01],\n",
              "       [ 1.58135229e+00],\n",
              "       [-7.11237014e-01],\n",
              "       [ 5.41210032e-01],\n",
              "       [ 9.74534888e-01],\n",
              "       [-8.02340925e-01],\n",
              "       [-5.72605580e-01],\n",
              "       [ 1.36904750e+00],\n",
              "       [-1.10574963e+00],\n",
              "       [-1.54778976e+00],\n",
              "       [ 1.45143613e+00],\n",
              "       [ 4.67536677e-01],\n",
              "       [-9.49687636e-01],\n",
              "       [-4.42689425e-01],\n",
              "       [-4.81768129e-02],\n",
              "       [ 1.06563880e+00],\n",
              "       [-1.21850169e-01],\n",
              "       [-5.81320858e-01],\n",
              "       [-1.54778976e+00],\n",
              "       [-1.95523524e-01],\n",
              "       [ 1.28665887e+00],\n",
              "       [ 1.66374092e+00],\n",
              "       [ 6.79841466e-01],\n",
              "       [-6.54994214e-01],\n",
              "       [-8.02340925e-01],\n",
              "       [-1.31805441e+00],\n",
              "       [ 8.44618733e-01],\n",
              "       [ 1.36904750e+00],\n",
              "       [-1.47411640e+00],\n",
              "       [-4.33974147e-01],\n",
              "       [-6.56073687e-02],\n",
              "       [-1.46540113e+00],\n",
              "       [-4.98932225e-01],\n",
              "       [ 8.44618733e-01],\n",
              "       [-6.46278936e-01],\n",
              "       [-7.19952292e-01],\n",
              "       [ 1.43400558e+00],\n",
              "       [ 1.21298551e+00],\n",
              "       [ 8.35903455e-01],\n",
              "       [-2.77912158e-01],\n",
              "       [ 1.36033222e+00],\n",
              "       [-1.70385175e+00],\n",
              "       [-9.49687636e-01],\n",
              "       [-1.86808246e-01],\n",
              "       [-7.28667569e-01],\n",
              "       [-6.56073687e-02],\n",
              "       [-7.46098125e-01],\n",
              "       [ 9.27007366e-01],\n",
              "       [ 2.10578106e+00],\n",
              "       [ 6.14883388e-01],\n",
              "       [-4.42689425e-01],\n",
              "       [-7.19952292e-01],\n",
              "       [-4.81768129e-02],\n",
              "       [ 2.94044132e-01],\n",
              "       [-1.69513647e+00],\n",
              "       [-1.03207627e+00],\n",
              "       [-3.42870235e-01],\n",
              "       [ 2.32680112e+00],\n",
              "       [-6.63709492e-01],\n",
              "       [-4.98932225e-01],\n",
              "       [ 9.04546205e-02],\n",
              "       [-9.32257081e-01],\n",
              "       [ 6.06168110e-01],\n",
              "       [-2.77912158e-01],\n",
              "       [-5.07647503e-01],\n",
              "       [ 1.67812648e-02],\n",
              "       [-1.33548497e+00],\n",
              "       [-4.81768129e-02],\n",
              "       [-4.98932225e-01],\n",
              "       [-1.07960379e+00],\n",
              "       [-7.28667569e-01],\n",
              "       [ 5.41210032e-01],\n",
              "       [-5.07647503e-01],\n",
              "       [ 9.09576810e-01],\n",
              "       [-1.61274784e+00],\n",
              "       [-7.28667569e-01],\n",
              "       [ 1.52510949e+00],\n",
              "       [-6.07466692e-01],\n",
              "       [-1.39172777e+00],\n",
              "       [ 3.11474687e-01],\n",
              "       [ 1.07435408e+00],\n",
              "       [ 1.29537414e+00],\n",
              "       [-3.51585513e-01],\n",
              "       [ 9.18292088e-01],\n",
              "       [ 2.37801332e-01],\n",
              "       [ 6.97272021e-01],\n",
              "       [-9.58402914e-01],\n",
              "       [ 5.49925310e-01],\n",
              "       [ 6.14883388e-01],\n",
              "       [-4.25258869e-01],\n",
              "       [ 5.49925310e-01],\n",
              "       [-1.54778976e+00],\n",
              "       [ 7.79660655e-01],\n",
              "       [-8.76014281e-01],\n",
              "       [-1.47411640e+00],\n",
              "       [ 1.50767893e+00],\n",
              "       [ 6.32313944e-01],\n",
              "       [-1.31805441e+00],\n",
              "       [ 1.73741428e+00],\n",
              "       [-4.25258869e-01],\n",
              "       [-6.63709492e-01],\n",
              "       [-1.17942298e+00],\n",
              "       [ 9.91965444e-01],\n",
              "       [ 1.28665887e+00],\n",
              "       [ 3.11474687e-01],\n",
              "       [ 2.92490325e+00],\n",
              "       [ 1.13059688e+00],\n",
              "       [ 6.88556743e-01],\n",
              "       [-7.11237014e-01],\n",
              "       [-6.37563658e-01],\n",
              "       [-1.32676969e+00],\n",
              "       [ 1.74612956e+00],\n",
              "       [-2.77912158e-01],\n",
              "       [ 6.88556743e-01],\n",
              "       [-2.69196880e-01],\n",
              "       [ 2.37801332e-01],\n",
              "       [ 1.13931216e+00],\n",
              "       [ 1.51639421e+00],\n",
              "       [ 1.13059688e+00],\n",
              "       [ 6.79841466e-01],\n",
              "       [ 8.27188177e-01],\n",
              "       [ 1.44272086e+00],\n",
              "       [ 4.84967232e-01],\n",
              "       [ 2.04953826e+00],\n",
              "       [ 1.57263701e+00],\n",
              "       [ 9.83250166e-01],\n",
              "       [ 1.57263701e+00],\n",
              "       [ 2.46516610e-01],\n",
              "       [-5.81320858e-01],\n",
              "       [-2.77912158e-01],\n",
              "       [-2.22828052e+00],\n",
              "       [ 6.14883388e-01],\n",
              "       [ 9.00861532e-01],\n",
              "       [-8.67299003e-01],\n",
              "       [ 2.54965427e-02],\n",
              "       [ 1.00939600e+00],\n",
              "       [-1.76009455e+00],\n",
              "       [ 6.88556743e-01],\n",
              "       [-1.47411640e+00],\n",
              "       [ 1.43400558e+00],\n",
              "       [ 5.58640588e-01],\n",
              "       [-8.67299003e-01],\n",
              "       [ 1.21298551e+00],\n",
              "       [-2.60481602e-01],\n",
              "       [-8.76014281e-01],\n",
              "       [-8.02340925e-01],\n",
              "       [ 1.13931216e+00],\n",
              "       [-1.23566578e+00],\n",
              "       [-1.10574963e+00],\n",
              "       [-1.84248318e+00],\n",
              "       [-1.58660200e+00],\n",
              "       [ 2.48286311e+00],\n",
              "       [ 2.69516790e+00],\n",
              "       [ 9.83250166e-01],\n",
              "       [ 6.32313944e-01],\n",
              "       [ 6.97272021e-01],\n",
              "       [-1.02336099e+00],\n",
              "       [ 1.00068072e+00],\n",
              "       [-1.08831907e+00],\n",
              "       [ 9.74534888e-01],\n",
              "       [ 1.27794359e+00],\n",
              "       [-2.12954080e-01],\n",
              "       [-8.67299003e-01],\n",
              "       [-1.01464571e+00],\n",
              "       [ 5.49925310e-01],\n",
              "       [-1.69513647e+00],\n",
              "       [ 1.29537414e+00],\n",
              "       [ 3.93863321e-01],\n",
              "       [ 1.72869900e+00],\n",
              "       [-6.49291017e-04],\n",
              "       [-1.46540113e+00],\n",
              "       [-1.99854517e+00],\n",
              "       [ 1.36033222e+00],\n",
              "       [-5.07647503e-01],\n",
              "       [ 9.91965444e-01],\n",
              "       [ 1.43400558e+00],\n",
              "       [ 1.27794359e+00],\n",
              "       [ 5.49925310e-01],\n",
              "       [ 3.28905243e-01],\n",
              "       [-1.02336099e+00],\n",
              "       [-2.86627436e-01],\n",
              "       [-6.46278936e-01],\n",
              "       [-1.30933914e+00],\n",
              "       [ 3.20189965e-01],\n",
              "       [ 1.36033222e+00],\n",
              "       [-5.07647503e-01],\n",
              "       [ 1.52510949e+00],\n",
              "       [-9.49687636e-01],\n",
              "       [ 4.58821399e-01],\n",
              "       [-1.68642119e+00],\n",
              "       [-6.46278936e-01],\n",
              "       [-1.11446490e+00],\n",
              "       [-2.77912158e-01],\n",
              "       [ 1.89347627e+00],\n",
              "       [ 2.39175920e+00],\n",
              "       [-2.65289009e+00],\n",
              "       [-8.58583725e-01],\n",
              "       [ 8.44618733e-01],\n",
              "       [-6.56073687e-02],\n",
              "       [-1.32676969e+00],\n",
              "       [-1.30565446e-01],\n",
              "       [ 6.32313944e-01],\n",
              "       [ 1.87604571e+00],\n",
              "       [-1.21850169e-01],\n",
              "       [ 5.41210032e-01],\n",
              "       [ 1.66374092e+00],\n",
              "       [ 1.37776278e+00],\n",
              "       [-7.28667569e-01],\n",
              "       [ 9.04546205e-02],\n",
              "       [ 6.97272021e-01],\n",
              "       [-1.55650504e+00],\n",
              "       [-1.55650504e+00],\n",
              "       [-6.63709492e-01],\n",
              "       [ 1.07885176e-01],\n",
              "       [-5.81320858e-01],\n",
              "       [ 9.91698984e-02],\n",
              "       [-8.67299003e-01],\n",
              "       [ 3.20189965e-01],\n",
              "       [ 1.57263701e+00],\n",
              "       [ 9.91698984e-02],\n",
              "       [ 1.90273810e-01],\n",
              "       [ 1.20427023e+00],\n",
              "       [ 3.28905243e-01],\n",
              "       [-2.60481602e-01],\n",
              "       [ 6.14883388e-01],\n",
              "       [-1.31805441e+00],\n",
              "       [ 1.81108763e+00],\n",
              "       [-5.72605580e-01],\n",
              "       [-6.46278936e-01],\n",
              "       [ 8.35903455e-01],\n",
              "       [ 8.44618733e-01],\n",
              "       [-1.09703435e+00],\n",
              "       [ 1.81558532e-01],\n",
              "       [ 6.97272021e-01],\n",
              "       [ 6.97272021e-01],\n",
              "       [ 2.91618797e+00],\n",
              "       [ 1.55412698e-01],\n",
              "       [ 1.55412698e-01],\n",
              "       [-7.84910369e-01],\n",
              "       [-9.40972358e-01],\n",
              "       [-1.39280724e-01],\n",
              "       [ 9.83250166e-01],\n",
              "       [ 1.81558532e-01],\n",
              "       [-8.02340925e-01],\n",
              "       [ 1.13059688e+00],\n",
              "       [-1.21850169e-01],\n",
              "       [-8.76014281e-01],\n",
              "       [-6.56073687e-02],\n",
              "       [ 4.58821399e-01],\n",
              "       [-1.90744126e+00],\n",
              "       [ 1.21298551e+00],\n",
              "       [-1.98111462e+00],\n",
              "       [-1.08831907e+00],\n",
              "       [ 3.85148043e-01],\n",
              "       [ 2.54965427e-02],\n",
              "       [-5.81320858e-01],\n",
              "       [ 1.29537414e+00],\n",
              "       [-4.81768129e-02],\n",
              "       [-7.19952292e-01],\n",
              "       [-1.69513647e+00],\n",
              "       [ 6.23598666e-01],\n",
              "       [-5.25078058e-01],\n",
              "       [-1.92487182e+00],\n",
              "       [-6.37563658e-01],\n",
              "       [ 1.21298551e+00],\n",
              "       [ 9.09576810e-01],\n",
              "       [ 3.20189965e-01],\n",
              "       [ 5.49925310e-01],\n",
              "       [ 6.06168110e-01],\n",
              "       [-4.33974147e-01],\n",
              "       [-1.09703435e+00],\n",
              "       [-1.53907448e+00],\n",
              "       [ 9.09576810e-01],\n",
              "       [ 5.49925310e-01],\n",
              "       [-4.25258869e-01],\n",
              "       [-1.53907448e+00],\n",
              "       [ 1.79365708e+00],\n",
              "       [ 4.17735029e+00],\n",
              "       [ 2.20370776e-01],\n",
              "       [ 2.54965427e-02],\n",
              "       [-8.76014281e-01],\n",
              "       [-9.40972358e-01],\n",
              "       [ 4.84967232e-01],\n",
              "       [ 8.44618733e-01],\n",
              "       [ 9.91965444e-01],\n",
              "       [-5.07647503e-01],\n",
              "       [ 7.70945377e-01],\n",
              "       [-4.81768129e-02],\n",
              "       [-9.40972358e-01],\n",
              "       [-1.61274784e+00],\n",
              "       [ 6.71126188e-01],\n",
              "       [ 8.53334011e-01],\n",
              "       [ 7.62230099e-01],\n",
              "       [-3.69016069e-01],\n",
              "       [ 1.21298551e+00],\n",
              "       [-3.60300791e-01],\n",
              "       [ 1.44272086e+00],\n",
              "       [ 5.49925310e-01],\n",
              "       [ 9.91698984e-02],\n",
              "       [ 1.64631037e+00],\n",
              "       [-4.16543591e-01],\n",
              "       [-1.83376790e+00],\n",
              "       [ 1.55412698e-01],\n",
              "       [-5.16362780e-01],\n",
              "       [-1.61274784e+00],\n",
              "       [-1.61274784e+00],\n",
              "       [-1.33548497e+00],\n",
              "       [ 9.18292088e-01]])"
            ]
          },
          "metadata": {},
          "execution_count": 8
        }
      ]
    },
    {
      "cell_type": "markdown",
      "source": [
        "1000명의 덩치 값이 형성된 것을 확인할 수 있습니다."
      ],
      "metadata": {
        "id": "1IZh_m0Bvgfz"
      }
    },
    {
      "cell_type": "markdown",
      "source": [
        "### 시각화를 위해, 덩치값 옆에 성별 코드(타겟 레이블 개념)를 붙여줍니다."
      ],
      "metadata": {
        "id": "2qDqlQBmvnpI"
      }
    },
    {
      "cell_type": "code",
      "source": [
        "df_pca_component = pd.DataFrame(df_pca,columns=['pca_component'])\n",
        "df_pca_component['target'] = ___"
      ],
      "metadata": {
        "id": "-0QpKr0zvlhO"
      },
      "execution_count": null,
      "outputs": []
    },
    {
      "cell_type": "markdown",
      "source": [
        "### 남성의 덩치 데이터와 여성의 덩치 데이터를 시각화하여 비교하겠습니다."
      ],
      "metadata": {
        "id": "FP6GhF0ewFqr"
      }
    },
    {
      "cell_type": "code",
      "source": [
        "sns.distplot(df_pca_component.loc[df_pca_component['target'] == 1, 'pca_component'],\n",
        "             hist=True,\n",
        "             color=\"blue\",\n",
        "             kde=False,\n",
        "             label = 'man')\n",
        "sns.distplot(df_pca_component.loc[df_pca_component['target'] == 2, 'pca_component'],\n",
        "             hist=True,\n",
        "             color=\"orange\",\n",
        "             kde=False,\n",
        "             label = 'woman')"
      ],
      "metadata": {
        "colab": {
          "base_uri": "https://localhost:8080/",
          "height": 351
        },
        "id": "uFcSe6xsvlfN",
        "outputId": "c16060c1-a919-49d8-a07f-b19ba245444d"
      },
      "execution_count": null,
      "outputs": [
        {
          "output_type": "stream",
          "name": "stderr",
          "text": [
            "/usr/local/lib/python3.8/dist-packages/seaborn/distributions.py:2619: FutureWarning: `distplot` is a deprecated function and will be removed in a future version. Please adapt your code to use either `displot` (a figure-level function with similar flexibility) or `histplot` (an axes-level function for histograms).\n",
            "  warnings.warn(msg, FutureWarning)\n"
          ]
        },
        {
          "output_type": "execute_result",
          "data": {
            "text/plain": [
              "<matplotlib.axes._subplots.AxesSubplot at 0x7f4d2a9c1fa0>"
            ]
          },
          "metadata": {},
          "execution_count": 10
        },
        {
          "output_type": "display_data",
          "data": {
            "text/plain": [
              "<Figure size 432x288 with 1 Axes>"
            ],
            "image/png": "[encoded data removed]"
          },
          "metadata": {}
        }
      ]
    },
    {
      "cell_type": "markdown",
      "source": [
        "높은 pca_component 즉, 높은 덩치값이 많이 분포되어 있는 것은 남성으로 나타남을 알 수 있습니다."
      ],
      "metadata": {
        "id": "8MBIM9YJwdiU"
      }
    },
    {
      "cell_type": "markdown",
      "source": [
        "# LDA"
      ],
      "metadata": {
        "id": "FGoAUe_Kw6YE"
      }
    },
    {
      "cell_type": "markdown",
      "source": [
        "PCA와 비슷한 알고리즘인 LDA의 결과를 살펴보겠습니다."
      ],
      "metadata": {
        "id": "p0L--2vow8Dx"
      }
    },
    {
      "cell_type": "markdown",
      "source": [
        "### LDA의 모델을 n_components=1로 만들겠습니다."
      ],
      "metadata": {
        "id": "Z5cwSPC6xQq5"
      }
    },
    {
      "cell_type": "code",
      "source": [
        "from sklearn.discriminant_analysis import LinearDiscriminantAnalysis\n",
        "\n",
        "lda = ___"
      ],
      "metadata": {
        "id": "kyILSRrHxWyk"
      },
      "execution_count": null,
      "outputs": []
    },
    {
      "cell_type": "markdown",
      "source": [
        "### lda는 fit 호출 시 target 값을 입력해야 합니다."
      ],
      "metadata": {
        "id": "7nM6_su3xZ2H"
      }
    },
    {
      "cell_type": "code",
      "source": [
        "lda.fit(___,___)\n",
        "df_lda = lda.transform(df_scaled)"
      ],
      "metadata": {
        "id": "-deD3VeDxZrl"
      },
      "execution_count": null,
      "outputs": []
    },
    {
      "cell_type": "markdown",
      "source": [
        "### lda로 생성된 component 값 옆에 성별 데이터를 붙여주겠습니다."
      ],
      "metadata": {
        "id": "VsyM7b8rxn0h"
      }
    },
    {
      "cell_type": "code",
      "source": [
        "df_lda_component = pd.DataFrame(df_lda,columns=['lda_component'])\n",
        "df_lda_component['target'] = ___"
      ],
      "metadata": {
        "id": "NEc4jex1xwuU"
      },
      "execution_count": null,
      "outputs": []
    },
    {
      "cell_type": "markdown",
      "source": [
        "### 남성의 덩치 데이터와 여성의 component 데이터를 시각화하여 비교하겠습니다.\n",
        "\n",
        "pca의 그래프와 lda의 그래프를 비교하겠습니다."
      ],
      "metadata": {
        "id": "VHzIgjWaxzCN"
      }
    },
    {
      "cell_type": "code",
      "source": [
        "fig, axs = plt.subplots(figsize=(16,8) , ncols=2 , nrows=1)\n",
        "\n",
        "sns.distplot(df_pca_component.loc[df_pca_component['target'] == 1, 'pca_component'], hist=True, kde=False, color=\"blue\", label = 'man', ax=axs[0])\n",
        "sns.distplot(df_pca_component.loc[df_pca_component['target'] == 2, 'pca_component'], hist=True, kde=False, color=\"orange\", label = 'woman', ax=axs[0])\n",
        "\n",
        "\n",
        "sns.distplot(df_lda_component.loc[df_lda_component['target'] == 1, 'lda_component'], hist=True, kde=False, color=\"blue\", label = 'man', ax=axs[1])\n",
        "sns.distplot(df_lda_component.loc[df_lda_component['target'] == 2, 'lda_component'], hist=True, kde=False, color=\"orange\", label = 'woman', ax=axs[1])"
      ],
      "metadata": {
        "colab": {
          "base_uri": "https://localhost:8080/",
          "height": 569
        },
        "id": "fNFRHTajvlct",
        "outputId": "23d9cd83-797c-4d79-b514-8b262d9a6a4c"
      },
      "execution_count": null,
      "outputs": [
        {
          "output_type": "stream",
          "name": "stderr",
          "text": [
            "/usr/local/lib/python3.8/dist-packages/seaborn/distributions.py:2619: FutureWarning: `distplot` is a deprecated function and will be removed in a future version. Please adapt your code to use either `displot` (a figure-level function with similar flexibility) or `histplot` (an axes-level function for histograms).\n",
            "  warnings.warn(msg, FutureWarning)\n"
          ]
        },
        {
          "output_type": "execute_result",
          "data": {
            "text/plain": [
              "<matplotlib.axes._subplots.AxesSubplot at 0x7fa70acf2040>"
            ]
          },
          "metadata": {},
          "execution_count": 14
        },
        {
          "output_type": "display_data",
          "data": {
            "text/plain": [
              "<Figure size 1152x576 with 2 Axes>"
            ],
            "image/png": "[encoded data removed]"
          },
          "metadata": {
            "needs_background": "light"
          }
        }
      ]
    },
    {
      "cell_type": "markdown",
      "source": [
        "PCA에 비해 LDA가 깔끔하게 분류된 것을 알 수 있습니다."
      ],
      "metadata": {
        "id": "SjCzIQpRyIke"
      }
    },
    {
      "cell_type": "markdown",
      "source": [
        "그런데, 파란색(남성)과 주황색(여성)의 위치가 바뀐 것을 알 수 있습니다. \n",
        "\n",
        "이는 잠재요소를 만들 축을 설정하는 기법에 차이가 있기 때문입니다. \n",
        "\n",
        "우선 키와 허리둘레는 양의 상관관계를 가질 것입니다.(키가 크면 허리둘레도 클 가능성이 큼)\n",
        "\n",
        "이때 PCA는 데이터가 우상향 방향으로 변동성을 보이기에 축을 우상향으로 설정합니다.\n",
        "\n",
        "반면에 LDA는 두 클래스를 분류해내야 하는 목적을 갖고, 둘이 떨어지도록 축을 좌상향으로 설정합니다.\n",
        "\n",
        "이러한 이유로 PCA에서는 키와 허리둘레가 큰 사람의 component가 크다고 나오고, LDA에서는 허리둘레가 큰 사람의 component가 작다고 나옵니다. "
      ],
      "metadata": {
        "id": "kcsbCUFGyuWO"
      }
    },
    {
      "cell_type": "markdown",
      "source": [
        "# t-SNE\n",
        "\n",
        "t-SNE는 고차원 데이터를 축소하여 시각화 하는 용도로 주로 사용되는 알고리즘입니다."
      ],
      "metadata": {
        "id": "VDSC9g7AyuTp"
      }
    },
    {
      "cell_type": "markdown",
      "source": [
        "### digits 데이터를 불러오겠습니다.\n",
        "\n",
        "이 데이터 세트에는 0에서 9까지의 8x8 흑백 이미지 숫자 데이터셋입니다."
      ],
      "metadata": {
        "id": "dD4LL4b7C3ne"
      }
    },
    {
      "cell_type": "code",
      "source": [
        "from sklearn.datasets import load_digits\n",
        "\n",
        "digits = load_digits()"
      ],
      "metadata": {
        "id": "E3rLvA_s3LE1"
      },
      "execution_count": null,
      "outputs": []
    },
    {
      "cell_type": "markdown",
      "source": [
        "### t-SNE 모델을 n_components=2로 만들겠습니다."
      ],
      "metadata": {
        "id": "HwhXxXuvDKtt"
      }
    },
    {
      "cell_type": "code",
      "source": [
        "from sklearn.manifold import TSNE\n",
        "\n",
        "# t-sne 모델 생성\n",
        "tsne = __________"
      ],
      "metadata": {
        "id": "oiH5ss1UDG3R"
      },
      "execution_count": null,
      "outputs": []
    },
    {
      "cell_type": "markdown",
      "source": [
        "### TSNE에는 transform 메서드가 없으므로 대신 fit_transform을 사용합니다."
      ],
      "metadata": {
        "id": "V3v98PvfDVVu"
      }
    },
    {
      "cell_type": "code",
      "source": [
        "digits_tsne = _______"
      ],
      "metadata": {
        "colab": {
          "base_uri": "https://localhost:8080/"
        },
        "id": "CZje_PMt3LBj",
        "outputId": "3ec47e03-6a9b-4667-ed4b-4cdf6cb1c4e6"
      },
      "execution_count": null,
      "outputs": [
        {
          "output_type": "stream",
          "name": "stderr",
          "text": [
            "/usr/local/lib/python3.8/dist-packages/sklearn/manifold/_t_sne.py:780: FutureWarning: The default initialization in TSNE will change from 'random' to 'pca' in 1.2.\n",
            "  warnings.warn(\n",
            "/usr/local/lib/python3.8/dist-packages/sklearn/manifold/_t_sne.py:790: FutureWarning: The default learning rate in TSNE will change from 200.0 to 'auto' in 1.2.\n",
            "  warnings.warn(\n"
          ]
        }
      ]
    },
    {
      "cell_type": "markdown",
      "source": [
        "### 차원축소된 데이터를 통하여 시각화하겠습니다."
      ],
      "metadata": {
        "id": "wlYE3chPDbPp"
      }
    },
    {
      "cell_type": "code",
      "source": [
        "plt.figure(figsize=(10,10))\n",
        "plt.xlim(digits_tsne[:,0].min(), digits_tsne[:,0].max()+1)\n",
        "plt.ylim(digits_tsne[:,1].min(), digits_tsne[:,1].max()+1)\n",
        "\n",
        "colors = [\"#476A2A\", \"#7851B8\", \"#BD3430\", \"#4A2D4E\", \"#875525\",\n",
        "          \"#A83683\", \"#4E655E\", \"#853541\", \"#3A3120\",\"#535D8E\"]\n",
        "\n",
        "for i in range(len(digits.data)):\n",
        "    plt.text(digits_tsne[i,0], digits_tsne[i,1], str(digits.target[i]),\n",
        "            color = colors[digits.target[i]],\n",
        "            fontdict = {'weight':'bold','size':9})\n",
        "plt.xlabel(\"t-SNE 특성 0\")\n",
        "plt.ylabel(\"t-SNE 특성 1\")"
      ],
      "metadata": {
        "colab": {
          "base_uri": "https://localhost:8080/",
          "height": 780
        },
        "id": "6xolRdtYDbpe",
        "outputId": "47ff6f5a-7f9d-42cc-85b6-ac16cdc4ae1e"
      },
      "execution_count": null,
      "outputs": [
        {
          "output_type": "execute_result",
          "data": {
            "text/plain": [
              "Text(0, 0.5, 't-SNE 특성 1')"
            ]
          },
          "metadata": {},
          "execution_count": 24
        },
        {
          "output_type": "stream",
          "name": "stderr",
          "text": [
            "/usr/local/lib/python3.8/dist-packages/matplotlib/backends/backend_agg.py:214: RuntimeWarning: Glyph 53945 missing from current font.\n",
            "  font.set_text(s, 0.0, flags=flags)\n",
            "/usr/local/lib/python3.8/dist-packages/matplotlib/backends/backend_agg.py:214: RuntimeWarning: Glyph 49457 missing from current font.\n",
            "  font.set_text(s, 0.0, flags=flags)\n",
            "/usr/local/lib/python3.8/dist-packages/matplotlib/backends/backend_agg.py:183: RuntimeWarning: Glyph 53945 missing from current font.\n",
            "  font.set_text(s, 0, flags=flags)\n",
            "/usr/local/lib/python3.8/dist-packages/matplotlib/backends/backend_agg.py:183: RuntimeWarning: Glyph 49457 missing from current font.\n",
            "  font.set_text(s, 0, flags=flags)\n"
          ]
        },
        {
          "output_type": "display_data",
          "data": {
            "text/plain": [
              "<Figure size 720x720 with 1 Axes>"
            ],
            "image/png": "[encoded data removed]"
          },
          "metadata": {}
        }
      ]
    },
    {
      "cell_type": "markdown",
      "source": [
        "# 군집화"
      ],
      "metadata": {
        "id": "RjkmrVbCCxZO"
      }
    },
    {
      "cell_type": "markdown",
      "source": [
        "### 먼저 digits 데이터세트를 로드합니다. \n",
        "\n",
        "클러스터링의 맥락에서 이미지의 손글씨 숫자가 동일하도록 이미지를 그룹화하려고 합니다.\n",
        "\n",
        "return_X_y=True로 설정하여 X_digits, y_digits로 데이터를 분리하겠습니다."
      ],
      "metadata": {
        "id": "RJp73CMj49-J"
      }
    },
    {
      "cell_type": "code",
      "source": [
        "from sklearn.datasets import load_digits\n",
        "X_digits, y_digits = load_digits(______)"
      ],
      "metadata": {
        "id": "ADoxwcX_98XQ"
      },
      "execution_count": null,
      "outputs": []
    },
    {
      "cell_type": "markdown",
      "source": [
        "### 훈련 세트와 테스트 세트로 나눕니다.\n",
        "\n",
        "특성 행렬을 표준화하겠습니다."
      ],
      "metadata": {
        "id": "YusRn1w85LmI"
      }
    },
    {
      "cell_type": "code",
      "source": [
        "from sklearn.model_selection import train_test_split\n",
        "X_train, X_test, y_train, y_test = _______________"
      ],
      "metadata": {
        "id": "_bbnSDW_C9q5"
      },
      "execution_count": null,
      "outputs": []
    },
    {
      "cell_type": "markdown",
      "source": [
        "### 255로 나누어 특성 행렬을 scaling 하겠습니다."
      ],
      "metadata": {
        "id": "uK2TIuPAiaEd"
      }
    },
    {
      "cell_type": "code",
      "source": [
        "x_train, x_test = ___________"
      ],
      "metadata": {
        "id": "RmmJESc0iY74"
      },
      "execution_count": null,
      "outputs": []
    },
    {
      "cell_type": "markdown",
      "source": [
        "### 로지스틱 회귀 모델을 훈련하겠습니다."
      ],
      "metadata": {
        "id": "Lpazpv3V6Z8y"
      }
    },
    {
      "cell_type": "code",
      "source": [
        "from sklearn.linear_model import LogisticRegression\n",
        "log_reg = __________(multi_class=\"ovr\", solver=\"lbfgs\", max_iter=5000, random_state=42)\n",
        "log_reg.fit(_________)"
      ],
      "metadata": {
        "colab": {
          "base_uri": "https://localhost:8080/"
        },
        "id": "E6fHpk7xC9oS",
        "outputId": "18747917-d687-428e-904d-d6230b09054f"
      },
      "execution_count": null,
      "outputs": [
        {
          "output_type": "execute_result",
          "data": {
            "text/plain": [
              "LogisticRegression(max_iter=5000, multi_class='ovr', random_state=42)"
            ]
          },
          "metadata": {},
          "execution_count": 74
        }
      ]
    },
    {
      "cell_type": "markdown",
      "source": [
        "### 테스트 세트에서 평가합니다."
      ],
      "metadata": {
        "id": "d4rpK9B0FUFk"
      }
    },
    {
      "cell_type": "code",
      "source": [
        "log_reg_score = log_reg.score(___________)\n",
        "log_reg_score"
      ],
      "metadata": {
        "colab": {
          "base_uri": "https://localhost:8080/"
        },
        "id": "mEqQSriGC9l7",
        "outputId": "64eff677-d213-4c5e-c4e4-1212c02643f3"
      },
      "execution_count": null,
      "outputs": [
        {
          "output_type": "execute_result",
          "data": {
            "text/plain": [
              "0.9688888888888889"
            ]
          },
          "metadata": {},
          "execution_count": 75
        }
      ]
    },
    {
      "cell_type": "markdown",
      "source": [
        "기본 모델의 정확도는 96.89%입니다. \n",
        "\n",
        "이제 K-평균을 전처리 단계로 사용해 더 향상할 수 있는지 알아보겠습니다.\n",
        "\n",
        "### 훈련 세트를 88개의 클러스터로 만들고 이미지를 이 클러스터까지 거리로 바꾼 다음 로지스틱 회귀 모델을 적용하는 파이프라인을 만듭니다."
      ],
      "metadata": {
        "id": "lEeYxX-06dgG"
      }
    },
    {
      "cell_type": "code",
      "source": [
        "from sklearn.pipeline import Pipeline\n",
        "from sklearn.cluster import KMeans\n",
        "\n",
        "pipeline = Pipeline([\n",
        "    (\"kmeans\", KMeans(_________, random_state=42)),\n",
        "    (\"log_reg\", LogisticRegression(multi_class=\"ovr\", solver=\"lbfgs\", max_iter=5000, random_state=42)),\n",
        "])\n",
        "pipeline.fit(__________)"
      ],
      "metadata": {
        "colab": {
          "base_uri": "https://localhost:8080/"
        },
        "id": "akrZWBEKDG74",
        "outputId": "34f18efd-4cfe-48b9-e7fd-3b4ef616e199"
      },
      "execution_count": null,
      "outputs": [
        {
          "output_type": "execute_result",
          "data": {
            "text/plain": [
              "Pipeline(steps=[('kmeans', KMeans(n_clusters=88, random_state=42)),\n",
              "                ('log_reg',\n",
              "                 LogisticRegression(max_iter=5000, multi_class='ovr',\n",
              "                                    random_state=42))])"
            ]
          },
          "metadata": {},
          "execution_count": 76
        }
      ]
    },
    {
      "cell_type": "markdown",
      "source": [
        "### 테스트세트에서 평가합니다."
      ],
      "metadata": {
        "id": "uZG95EuNFbp6"
      }
    },
    {
      "cell_type": "code",
      "source": [
        "pipeline_score = pipeline.score(__________)\n",
        "pipeline_score"
      ],
      "metadata": {
        "colab": {
          "base_uri": "https://localhost:8080/"
        },
        "id": "JqntVpxWDG4-",
        "outputId": "d95c4377-f6df-4772-a7a4-b04e36479575"
      },
      "execution_count": null,
      "outputs": [
        {
          "output_type": "execute_result",
          "data": {
            "text/plain": [
              "0.9822222222222222"
            ]
          },
          "metadata": {},
          "execution_count": 77
        }
      ]
    },
    {
      "cell_type": "markdown",
      "source": [
        "얼마나 오차가 감소했나요?"
      ],
      "metadata": {
        "id": "ZRU2miPM6paQ"
      }
    },
    {
      "cell_type": "code",
      "source": [
        "1 - (1 - pipeline_score) / (1 - log_reg_score)"
      ],
      "metadata": {
        "colab": {
          "base_uri": "https://localhost:8080/"
        },
        "id": "5map8ZWwDG2p",
        "outputId": "b799b461-a433-4f81-e07c-80be06d849cf"
      },
      "execution_count": null,
      "outputs": [
        {
          "output_type": "execute_result",
          "data": {
            "text/plain": [
              "0.42857142857142805"
            ]
          },
          "metadata": {},
          "execution_count": 78
        }
      ]
    },
    {
      "cell_type": "markdown",
      "source": [
        "오차율을 43%나 줄였습니다! "
      ],
      "metadata": {
        "id": "47Na2JMB6r-N"
      }
    },
    {
      "cell_type": "markdown",
      "source": [
        "# GMM을 이용한 클러스터링 "
      ],
      "metadata": {
        "id": "BKRUj8g8fmXV"
      }
    },
    {
      "cell_type": "markdown",
      "source": [
        "## 1. 필요한 모듈 import"
      ],
      "metadata": {
        "id": "IKoketBAfmP3"
      }
    },
    {
      "cell_type": "code",
      "source": [
        "import numpy as np \n",
        "import matplotlib.pyplot as plt\n",
        "from sklearn import datasets\n",
        "from sklearn.model_selection import train_test_split\n",
        "from sklearn.datasets import make_blobs\n",
        "from matplotlib.colors import LogNorm\n",
        "%matplotlib inline"
      ],
      "metadata": {
        "id": "iqpDF3ivfp1-"
      },
      "execution_count": 1,
      "outputs": []
    },
    {
      "cell_type": "markdown",
      "source": [
        "## 2. 데이터 생성"
      ],
      "metadata": {
        "id": "bdF4ZqX0fmFo"
      }
    },
    {
      "cell_type": "markdown",
      "source": [
        "선형 데이터와 원형 데이터를 생성합니다. "
      ],
      "metadata": {
        "id": "iiGmEdbrft7v"
      }
    },
    {
      "cell_type": "code",
      "source": [
        "# 선형 데이터 생성 \n",
        "X1, y1 = make_blobs(n_samples=1000, centers=((5, -4), (0, 0)), random_state=42)\n",
        "X1 = X1.dot(np.array([[0.37, 0.95], [0.73, 0.6]]))\n",
        "# 원형 데이터 생성 \n",
        "X2, y2 = make_blobs(n_samples=500, centers=1, random_state=42)\n",
        "# 데이터 합치기 \n",
        "X = np.r_[X1, X2]\n",
        "X[:, [0, 1]] = X[:, [1, 0]]"
      ],
      "metadata": {
        "id": "ANgAUfgMflxC"
      },
      "execution_count": 2,
      "outputs": []
    },
    {
      "cell_type": "markdown",
      "source": [
        "만들어진 데이터를 Train set과 Test set으로 나눈 후, data set의 분포를 확인합니다.  "
      ],
      "metadata": {
        "id": "6Alkeex6fxPC"
      }
    },
    {
      "cell_type": "code",
      "source": [
        "# data set 분리 \n",
        "X_train, X_test = train_test_split(X, test_size=0.2)"
      ],
      "metadata": {
        "id": "d4DycpJPfx63"
      },
      "execution_count": 3,
      "outputs": []
    },
    {
      "cell_type": "code",
      "source": [
        "# 훈련 데이터 시각화 \n",
        "plt.figure(figsize=(10,10))\n",
        "plt.axes().set_aspect('equal')\n",
        "\n",
        "plt.plot(X_train[:,0], X_train[:,1], '.', markersize=3)\n",
        "plt.title('Train data')\n",
        "plt.show()"
      ],
      "metadata": {
        "colab": {
          "base_uri": "https://localhost:8080/",
          "height": 354
        },
        "id": "EWTTqXMzfztA",
        "outputId": "43bddfd3-7e03-4b58-b68c-98eb9abcccd9"
      },
      "execution_count": 4,
      "outputs": [
        {
          "output_type": "display_data",
          "data": {
            "text/plain": [
              "<Figure size 720x720 with 1 Axes>"
            ],
            "image/png": "[encoded data removed]"
          },
          "metadata": {
            "needs_background": "light"
          }
        }
      ]
    },
    {
      "cell_type": "code",
      "source": [
        "# 테스트 데이터 시각화 \n",
        "plt.figure(figsize=(10,10))\n",
        "plt.axes().set_aspect('equal')\n",
        "\n",
        "plt.plot(X_test[:,0], X_test[:,1], '.', markersize=3, color='g')\n",
        "plt.title('Test data')\n",
        "plt.show()"
      ],
      "metadata": {
        "colab": {
          "base_uri": "https://localhost:8080/",
          "height": 323
        },
        "id": "IamU2F64f5ps",
        "outputId": "61561d0e-2dc1-4d69-ae83-e35838f93d41"
      },
      "execution_count": 5,
      "outputs": [
        {
          "output_type": "display_data",
          "data": {
            "text/plain": [
              "<Figure size 720x720 with 1 Axes>"
            ],
            "image/png": "[encoded data removed]"
          },
          "metadata": {
            "needs_background": "light"
          }
        }
      ]
    },
    {
      "cell_type": "markdown",
      "source": [
        "## 3. GMM을 이용한 학습"
      ],
      "metadata": {
        "id": "YNR2YmHSf8ty"
      }
    },
    {
      "cell_type": "markdown",
      "source": [
        "우선 `Scikit-Learn`의 `GaussianMixture` 클래스를 활용하여 데이터를 학습하겠습니다. <br>\n",
        "`GaussianMixture`의 `n_components`를 사용해서 군집의 개수는 3개로 지정하고, random_state는 0으로 지정해주세요.<br>\n",
        "그 후 `fit`을 이용해서 학습을 진행해주세요! "
      ],
      "metadata": {
        "id": "6oISe0Bvf9Xe"
      }
    },
    {
      "cell_type": "code",
      "source": [
        "from sklearn.mixture import GaussianMixture\n",
        "gmm = '''GaussianMixture 모델을 만들어 주세요(군집의 개수 = 3, random_state = 0)'''\n",
        "\n",
        "'''gmm 객체를 사용하여 Train data를 fit 해주세요'''"
      ],
      "metadata": {
        "colab": {
          "base_uri": "https://localhost:8080/"
        },
        "id": "GWoPKpE4f_9V",
        "outputId": "836e0765-3ddc-4ed2-c457-624f797105e0"
      },
      "execution_count": 6,
      "outputs": [
        {
          "output_type": "execute_result",
          "data": {
            "text/plain": [
              "GaussianMixture(n_components=3, random_state=0)"
            ]
          },
          "metadata": {},
          "execution_count": 6
        }
      ]
    },
    {
      "cell_type": "markdown",
      "source": [
        "### 3-1. 군집 중심 확인"
      ],
      "metadata": {
        "id": "pE9ZBiuKgDHy"
      }
    },
    {
      "cell_type": "markdown",
      "source": [
        "학습된 모델을 통해서 GMM의 군집 중심(Centroid)을 시각화 해봅시다!  <br>\n",
        "군집 중심을 확인하기 위해서는 `GaussianMixture`에서 제공하는 `means_`함수를 사용해야 합니다. (GaussianMixture.means_: 군집 중심을 반환)\n"
      ],
      "metadata": {
        "id": "2_SFzVF2gFS1"
      }
    },
    {
      "cell_type": "code",
      "source": [
        "# 군집 중심 시각화 함수 \n",
        "def visualization_c(gmm):\n",
        "    # centroids 반환 \n",
        "    centroids = '''특정 함수를 사용하여 군집 중심을 반환해주세요'''\n",
        "    plt.scatter(centroids[:,0], centroids[:,1], marker = '*', s = 200, linewidths = 1, color = 'r', zorder = 10)\n",
        "\n",
        "# figure 생성\n",
        "plt.figure(figsize = (10,10))\n",
        "plt.axes().set_aspect('equal')\n",
        "\n",
        "# 함수 실행 \n",
        "visualization_c(gmm)\n",
        "\n",
        "# 시각화 \n",
        "plt.plot(X_train[:, 0], X_train[:, 1], '.', markersize=4)\n",
        "plt.show()"
      ],
      "metadata": {
        "colab": {
          "base_uri": "https://localhost:8080/",
          "height": 338
        },
        "id": "BWXdoDL2gDxu",
        "outputId": "febfb06a-9b7d-48c4-ca40-b37dc7262751"
      },
      "execution_count": 7,
      "outputs": [
        {
          "output_type": "display_data",
          "data": {
            "text/plain": [
              "<Figure size 720x720 with 1 Axes>"
            ],
            "image/png": "[encoded data removed]"
          },
          "metadata": {
            "needs_background": "light"
          }
        }
      ]
    },
    {
      "cell_type": "markdown",
      "source": [
        "### 3-2. 밀도 등고선 시각화 \n",
        " "
      ],
      "metadata": {
        "id": "_f9mXEvjgJ4b"
      }
    },
    {
      "cell_type": "markdown",
      "source": [
        "이제는 밀도 등고선을 확인해봅시다! <br>\n",
        "`GaussianMixture`의 `score_samples(array)`함수를 통해서 각 샘플들의 log-likelihood 값을 구할 수 있습니다."
      ],
      "metadata": {
        "id": "0re1dW0MgJzn"
      }
    },
    {
      "cell_type": "code",
      "source": [
        "def visualization_contour(gmm):\n",
        "    # 2차원 평면 공간 격자점 Array 생성\n",
        "    mins = X.min(axis=0) - 0.1\n",
        "    maxs = X.max(axis=0) + 0.1\n",
        "    x, y = np.meshgrid(np.linspace(mins[0], maxs[0], num=1000),np.linspace(mins[1], maxs[1], num=1000))\n",
        "    plane = np.c_[x.ravel(), y.ravel()]\n",
        "\n",
        "    # log-likelihoods 기반의 밀도 구하기 \n",
        "    densities = '''특정 함수를 사용하여 각 샘플들의 log-likelihood 값을 구해주세요(array에는 위에서 만든 plane을 넣어주세요)'''\n",
        "\n",
        "    # 격자에 밀도 등고선 반영 \n",
        "    densities = np.abs(densities.reshape(x.shape))\n",
        "    cntr = plt.contourf(x, y, densities, levels=10, alpha=0.3, cmap='gist_rainbow')\n",
        "    plt.contour(x, y, densities, levels=10, linewidths=1, colors='k')\n",
        "\n",
        "# Figure 생성\n",
        "plt.figure(figsize=(10, 10))\n",
        "plt.axes().set_aspect('equal')\n",
        "\n",
        "# 함수 실행 \n",
        "visualization_contour(gmm)\n",
        "\n",
        "# X_train 데이터 시각화\n",
        "plt.plot(X_train[:, 0], X_train[:, 1], '.', markersize=4)\n",
        "plt.show()"
      ],
      "metadata": {
        "colab": {
          "base_uri": "https://localhost:8080/",
          "height": 338
        },
        "id": "c3TbXsQ5gMyj",
        "outputId": "84573c37-aecc-4a5d-d26a-1fb814f09541"
      },
      "execution_count": 8,
      "outputs": [
        {
          "output_type": "display_data",
          "data": {
            "text/plain": [
              "<Figure size 720x720 with 1 Axes>"
            ],
            "image/png": "[encoded data removed]"
          },
          "metadata": {
            "needs_background": "light"
          }
        }
      ]
    },
    {
      "cell_type": "markdown",
      "source": [
        "밀도 등고선을 통해서 특정 지점에 대한 cluster들의 확률을 확인할 수 있습니다. <br>\n",
        "만약 비지도학습이라면, 각 cluster에 대해서 확률이 동일한 지점을 구하고 해당 지점을 기점으로 classification을 할 수 있을 것 같습니다.  "
      ],
      "metadata": {
        "id": "FeP_Dv_5gJsE"
      }
    },
    {
      "cell_type": "markdown",
      "source": [
        "### 3-3. GMM의 covariance Matrix 분석 \n"
      ],
      "metadata": {
        "id": "axFc42urgRr-"
      }
    },
    {
      "cell_type": "markdown",
      "source": [
        "학습된 GMM의 covariance matrix는 `GaussianMixture`의 `covariances_`함수를 통해서 알 수 있습니다. <br>\n",
        "앞의 과정을 통해 나눠진 가우시안 분포들에 해당하는 covariance matrix를 구하여 샘플들의 분포를 예측할 수 있습니다. "
      ],
      "metadata": {
        "id": "6tbIyRSzgRmM"
      }
    },
    {
      "cell_type": "code",
      "source": [
        "covariances = '''함수를 사용하여 covariance matrix를 반환해주세요'''\n",
        "print('Covariance matrix 1\\n', covariances[0],\n",
        "     '\\n\\nCovariance matrix 2\\n', covariances[1],\n",
        "      '\\n\\nCovariance matrix 3\\n', covariances[2])"
      ],
      "metadata": {
        "colab": {
          "base_uri": "https://localhost:8080/"
        },
        "id": "QDPtml3PgP84",
        "outputId": "cbe5950c-dfb5-4447-ca23-a17e1f205fbe"
      },
      "execution_count": 9,
      "outputs": [
        {
          "output_type": "stream",
          "name": "stdout",
          "text": [
            "Covariance matrix 1\n",
            " [[1.25984023 0.83995436]\n",
            " [0.83995436 0.72928981]] \n",
            "\n",
            "Covariance matrix 2\n",
            " [[ 0.94094311 -0.01318262]\n",
            " [-0.01318262  0.923134  ]] \n",
            "\n",
            "Covariance matrix 3\n",
            " [[1.17236134 0.73290217]\n",
            " [0.73290217 0.63620378]]\n"
          ]
        }
      ]
    },
    {
      "cell_type": "markdown",
      "source": [
        "## 4. GMM을 이용한 예측"
      ],
      "metadata": {
        "id": "IOykfy4BgXb8"
      }
    },
    {
      "cell_type": "markdown",
      "source": [
        "### 4-1. 학습된 gmm을 통해서 클러스터 분류"
      ],
      "metadata": {
        "id": "kXZ4OEMZgXOA"
      }
    },
    {
      "cell_type": "markdown",
      "source": [
        "이전 과정에서 학습시킨 gmm 객체를 통해서 X_test의 cluster를 예측해보고, 시각화 하겠습니다. "
      ],
      "metadata": {
        "id": "HTzcBHVSgbGH"
      }
    },
    {
      "cell_type": "code",
      "source": [
        "def classification(gmm):\n",
        "    # 예측\n",
        "    y = '''predict 함수를 사용하여 X_test의 결과를 예측해주세요'''\n",
        "\n",
        "    # Cluster 분류 \n",
        "    # Cluster 0으로 예측되는 경우 \n",
        "    plt.scatter([i[0] for idx, i in enumerate(X_test) if y[idx] == 0],\n",
        "                [i[1] for idx, i in enumerate(X_test) if y[idx] == 0],\n",
        "                label = 'Cluster 0', marker='o', color = 'r')\n",
        "    # Cluster 1으로 예측되는 경우 \n",
        "    plt.scatter([i[0] for idx, i in enumerate(X_test) if y[idx] == 1],\n",
        "                [i[1] for idx, i in enumerate(X_test) if y[idx] == 1],\n",
        "                label = 'Cluster 1', marker='o', color = 'g')\n",
        "    # Cluster 2으로 예측되는 경우 \n",
        "    plt.scatter([i[0] for idx, i in enumerate(X_test) if y[idx] == 2],\n",
        "                [i[1] for idx, i in enumerate(X_test) if y[idx] == 2],\n",
        "                label = 'Cluster 2', marker='o', color = 'b')\n",
        "    \n",
        "# figure 생성 \n",
        "plt.figure(figsize = (10,10))\n",
        "plt.axes().set_aspect('equal')\n",
        "\n",
        "# 실행 \n",
        "classification(gmm)\n",
        "plt.plot(X_test[:, 0], X_test[:, 1], '.g', markersize=4)\n",
        "plt.legend()\n",
        "plt.show()"
      ],
      "metadata": {
        "colab": {
          "base_uri": "https://localhost:8080/",
          "height": 307
        },
        "id": "XkvqIO45gVJp",
        "outputId": "70db1cd5-dc3e-4f2f-a61c-eaa591adbf8c"
      },
      "execution_count": 10,
      "outputs": [
        {
          "output_type": "display_data",
          "data": {
            "text/plain": [
              "<Figure size 720x720 with 1 Axes>"
            ],
            "image/png": "[encoded data removed]"
          },
          "metadata": {
            "needs_background": "light"
          }
        }
      ]
    },
    {
      "cell_type": "markdown",
      "source": [
        "### 4-2. 결정 경계 시각화"
      ],
      "metadata": {
        "id": "SKdEVSL9gfCu"
      }
    },
    {
      "cell_type": "markdown",
      "source": [
        "인접 클러스터들에 대해 동일한 확률을 갖는 지점들을 이어서 결정 경계를 시각화 할 수 있을 것 같습니다. <br>\n",
        "결정 경계를 시각화 해보겠습니다! "
      ],
      "metadata": {
        "id": "la_tbRJmggm3"
      }
    },
    {
      "cell_type": "code",
      "source": [
        "def decision_boundary(gmm):\n",
        "    # 2차원 평면 공간 격자점 Array 생성\n",
        "    mins = X.min(axis=0) - 1\n",
        "    maxs = X.max(axis=0) + 1\n",
        "    x, y = np.meshgrid(np.linspace(mins[0], maxs[0], num=1000),np.linspace(mins[1], maxs[1], num=1000))\n",
        "    plane = np.c_[x.ravel(), y.ravel()]\n",
        "\n",
        "    # 결정 경계 시각화\n",
        "    Z = gmm.predict(plane)\n",
        "    Z = Z.reshape(x.shape)\n",
        "    plt.contour(x, y, Z, linewidths=1, linestyles='solid')\n",
        "\n",
        "# Figure 생성\n",
        "plt.figure(figsize=(10, 10))\n",
        "plt.axes().set_aspect('equal')\n",
        "\n",
        "# 위에서 진행한 분류 및 시각화\n",
        "classification(gmm)\n",
        "plt.plot(X_test[:, 0], X_test[:, 1], '.g', markersize=4)\n",
        "plt.legend()\n",
        "\n",
        "# 결정 경계 시각화\n",
        "decision_boundary(gmm)\n",
        "plt.show()"
      ],
      "metadata": {
        "colab": {
          "base_uri": "https://localhost:8080/",
          "height": 365
        },
        "id": "2WyUdlulgicJ",
        "outputId": "63a67c96-4df4-4d10-f8a0-587f3495479f"
      },
      "execution_count": 11,
      "outputs": [
        {
          "output_type": "display_data",
          "data": {
            "text/plain": [
              "<Figure size 720x720 with 1 Axes>"
            ],
            "image/png": "[encoded data removed]"
          },
          "metadata": {
            "needs_background": "light"
          }
        }
      ]
    },
    {
      "cell_type": "markdown",
      "source": [
        "# 수고하셨습니다!"
      ],
      "metadata": {
        "id": "SieT7-TeF0KK"
      }
    }
  ]
}