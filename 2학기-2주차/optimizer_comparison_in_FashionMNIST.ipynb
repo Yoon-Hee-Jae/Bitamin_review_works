{
  "nbformat": 4,
  "nbformat_minor": 0,
  "metadata": {
    "colab": {
      "provenance": []
    },
    "kernelspec": {
      "name": "python3",
      "display_name": "Python 3"
    },
    "language_info": {
      "name": "python"
    },
    "accelerator": "GPU",
    "gpuClass": "standard"
  },
  "cells": [
    {
      "cell_type": "code",
      "execution_count": 44,
      "metadata": {
        "id": "etjlQByoI3Cz"
      },
      "outputs": [],
      "source": [
        "# !!! 런타임 유형 변경 권장 : GPU !!!\n",
        "# 라이브러리 불러오기\n",
        "import torch\n",
        "import torchvision\n",
        "import torchvision.transforms as transforms\n",
        "import torch.nn as nn\n",
        "import torch.optim as optim\n",
        "import matplotlib.pyplot as plt\n",
        "\n",
        "# 훈련 위해 장치 환경 설정\n",
        "device = torch.device(\"cuda:0\" if torch.cuda.is_available() else \"cpu\")\n",
        "\n",
        "# 태스크 수행을 위한 변수 및 하이퍼파라미터 설정\n",
        "NUM_CLASSES = 10\n",
        "BATCH_SIZE = 256\n",
        "NUM_EPOCHS = 10\n",
        "LEARNING_RATES = {\"SGD\": 0.1,\n",
        "                  \"Momentum\": 0.1,\n",
        "                  \"NAG\": 0.1,\n",
        "                  \"Adagrad\": 0.01,\n",
        "                  \"Adam\": 0.001,\n",
        "                  \"NAdam\": 0.002}\n",
        "num_hidden_layers = 3\n",
        "num_hidden_neurons = 256\n",
        "\n",
        "\n",
        "# 데이터셋에 대한 처리 설정\n",
        "transform = transforms.Compose([transforms.ToTensor(),\n",
        "                                transforms.Normalize((0.5), (0.5))])\n",
        "\n",
        "# FashionMNIST 데이터셋 불러오기\n",
        "trainset = torchvision.datasets.FashionMNIST(root='./data',\n",
        "                                             train=True,\n",
        "                                             download=True,\n",
        "                                             transform=transform)\n",
        "testset = torchvision.datasets.FashionMNIST(root='./data',\n",
        "                                            train=False,\n",
        "                                            download=True,\n",
        "                                            transform=transform)\n",
        "\n",
        "# 신경망에 데이터를 로드하기 위한 배치 분할 설정\n",
        "# 입력받은 배치 크기를 참고해서 1epoch에 대한 배치 로더 생성\n",
        "# len(trainloader) * BATCH_SIZE # 약 6만(훈련 세트 샘플 개수) 정도 나와야 1epoch에 맞게 설정된 것\n",
        "trainloader = torch.utils.data.DataLoader(trainset, batch_size=BATCH_SIZE,\n",
        "                                          shuffle=True, num_workers=2)\n",
        "testloader = torch.utils.data.DataLoader(testset, batch_size=BATCH_SIZE,\n",
        "                                         shuffle=False, num_workers=2)\n",
        "\n",
        "# 분류 클래스 레이블\n",
        "classes = ('T-shirt/top', 'Trouser', 'Pullover', 'Dress', 'Coat',\n",
        "           'Sandal', 'Shirt', 'Sneaker', 'Bag', 'Ankle boot')"
      ]
    },
    {
      "cell_type": "code",
      "source": [
        "device # cuda : GPU의 병렬 처리 알고리즘에서 범용 계산 기술\n",
        "# !!! 주의 : 모든 Tensor가 같은 장치 메모리에 있도록 .to(device) 또는 항상 GPU인 경우, .cuda()를 확인"
      ],
      "metadata": {
        "colab": {
          "base_uri": "https://localhost:8080/"
        },
        "id": "cPfajr8wejxb",
        "outputId": "18458f62-d2f8-4c54-9cbd-fc80556794a5"
      },
      "execution_count": 45,
      "outputs": [
        {
          "output_type": "execute_result",
          "data": {
            "text/plain": [
              "device(type='cuda', index=0)"
            ]
          },
          "metadata": {},
          "execution_count": 45
        }
      ]
    },
    {
      "cell_type": "code",
      "source": [
        "# 신경망 구조 정의\n",
        "class Net(nn.Module):\n",
        "    def __init__(self, num_hidden_layers, num_hidden_neurons): # 은닉층 개수, 각 은닉층 뉴런 개수 입력\n",
        "        super(Net, self).__init__()\n",
        "        self.num_hidden_layers = num_hidden_layers\n",
        "        self.num_hidden_neurons = num_hidden_neurons\n",
        "\n",
        "        # 입력층 설정\n",
        "        self.fc1 = nn.Linear(28*28, num_hidden_neurons) # 어파인 변환\n",
        "        self.activ1 = nn.ReLU() # 활성화 ; nn.ReLU() | nn.GELU() \n",
        "        \n",
        "        # 은닉층 설정 및 ModuleList로 연결\n",
        "        self.hidden_layers = nn.ModuleList()\n",
        "        for _ in range(num_hidden_layers):\n",
        "            self.hidden_layers.append(nn.Linear(num_hidden_neurons, num_hidden_neurons))\n",
        "            # self.hidden_layers.append(nn.BatchNorm1d(num_hidden_neurons)) # 배치 정규화\n",
        "            self.hidden_layers.append(nn.ReLU()) # nn.ReLU() | nn.GELU() \n",
        "            # self.hidden_layers.append(nn.Dropout(0.1)) # 10% 드롭아웃\n",
        "        \n",
        "        # 출력층 설정\n",
        "        self.fc2 = nn.Linear(num_hidden_neurons, NUM_CLASSES)\n",
        "\n",
        "        # 784 ==> num_hidden_neurons ==> ... ==> num_hidden_neurons ==> 10\n",
        "\n",
        "    def forward(self, x): # 순전파\n",
        "        x = x.view(-1, 28*28) # 입력 데이터의 미니배치\n",
        "\n",
        "        x = self.activ1(self.fc1(x)) # 입력층 어파인 변환 후 활성화\n",
        "\n",
        "        for layer in self.hidden_layers: # ModuleList 순서대로,\n",
        "            x = layer(x) # 은닉층 연산 수행\n",
        "            \n",
        "        x = self.fc2(x) # 출력층에서는 어파인 변환만 수행\n",
        "        \n",
        "        return x"
      ],
      "metadata": {
        "id": "9w6Sko51JSBw"
      },
      "execution_count": 46,
      "outputs": []
    },
    {
      "cell_type": "code",
      "source": [
        "# 신경망 훈련 함수 정의\n",
        "def train(net, optimizer, trainloader, criterion):\n",
        "    net.train() # 훈련 모드\n",
        "\n",
        "    running_loss = 0.0\n",
        "    for data in trainloader:\n",
        "        inputs, labels = data[0].to(device), data[1].to(device)\n",
        "\n",
        "        optimizer.zero_grad() # 미분 저장 초기화\n",
        "\n",
        "        outputs = net(inputs) # 훈련\n",
        "        loss = criterion(outputs, labels)\n",
        "        loss.backward() # 매개변수에 대한 미분 계산\n",
        "        optimizer.step() # 미분 값에 의해 매개변수 갱신\n",
        "\n",
        "        running_loss += loss.item()\n",
        "    return running_loss / len(trainloader) # 손실 반환"
      ],
      "metadata": {
        "id": "tBxrEo5KNUWC"
      },
      "execution_count": 47,
      "outputs": []
    },
    {
      "cell_type": "code",
      "source": [
        "# 신경망 테스트 함수 정의\n",
        "def test(net, testloader):\n",
        "    net.eval() # 학습(훈련)과 추론(테스트) 모드가 다름\n",
        "\n",
        "    correct = 0\n",
        "    total = 0\n",
        "    with torch.no_grad(): # 추론 모드에서 미분 계산 제외\n",
        "        for data in testloader:\n",
        "            images, labels = data[0].to(device), data[1].to(device)\n",
        "\n",
        "            outputs = net(images) # 추론\n",
        "            _, predicted = torch.max(outputs.data, 1) # 가장 큰 예측값의 클래스 레이블만 저장\n",
        "            total += labels.size(0) # 배치 내 데이터 샘플 개수\n",
        "            correct += (predicted == labels).sum().item() # 예측 성공 개수\n",
        "\n",
        "    return 100 * correct / total # 정확도 반환"
      ],
      "metadata": {
        "id": "_CpQNBT2NUe4"
      },
      "execution_count": 48,
      "outputs": []
    },
    {
      "cell_type": "code",
      "source": [
        "# 비교를 위한 훈련 및 테스트 함수 병합\n",
        "from tqdm import tqdm\n",
        "def train_and_test(optimizer_name, num_hidden_layers, num_hidden_neurons):\n",
        "    # 새로운 신경망 객체 생성\n",
        "    net = Net(num_hidden_layers, num_hidden_neurons).to(device)\n",
        "\n",
        "    # 손실 함수\n",
        "    criterion = nn.CrossEntropyLoss()\n",
        "    \n",
        "    # 옵티마이저 설정\n",
        "    if optimizer_name == \"SGD\":\n",
        "        optimizer = optim.SGD(net.parameters(), lr=LEARNING_RATES[\"SGD\"])\n",
        "    elif optimizer_name == \"Momentum\":\n",
        "        optimizer = optim.SGD(net.parameters(), lr=LEARNING_RATES[\"Momentum\"],\n",
        "                              momentum=0.9)\n",
        "    elif optimizer_name == \"NAG\":\n",
        "        optimizer = optim.SGD(net.parameters(), lr=LEARNING_RATES[\"NAG\"],\n",
        "                              momentum=0.9, nesterov=True)\n",
        "    elif optimizer_name == \"Adagrad\":\n",
        "        optimizer = optim.Adagrad(net.parameters(), lr=LEARNING_RATES[\"Adagrad\"])\n",
        "    elif optimizer_name == \"Adam\":\n",
        "        optimizer = optim.Adam(net.parameters(), lr=LEARNING_RATES[\"Adam\"])\n",
        "    elif optimizer_name == \"NAdam\":\n",
        "        optimizer = optim.NAdam(net.parameters(), lr=LEARNING_RATES[\"NAdam\"])\n",
        "    \n",
        "    # 학습률 스케쥴러(local minima 탈출 방법론 ; 기본적으로 에포크에 대한 함수)\n",
        "    scheduler = optim.lr_scheduler.StepLR(optimizer, step_size=1, gamma=0.1)\n",
        "\n",
        "    train_losses = [] # 훈련 중 손실 함수 추이\n",
        "    test_accuracies = [] # 훈련 중 테스트 정확도 추이\n",
        "    for epoch in tqdm(range(NUM_EPOCHS)):\n",
        "        train_loss = train(net, optimizer, trainloader, criterion)\n",
        "        train_losses.append(train_loss)\n",
        "        test_accuracy = test(net, testloader)\n",
        "        test_accuracies.append(test_accuracy)\n",
        "        print(f'train loss : {train_loss} | test accuracy : {test_accuracy}')\n",
        "        scheduler.step()\n",
        "\n",
        "    return train_losses, test_accuracies # 손실 추이와 정확도 추이"
      ],
      "metadata": {
        "id": "iko_TWXSJVME"
      },
      "execution_count": 49,
      "outputs": []
    },
    {
      "cell_type": "code",
      "source": [
        "# 각 옵티마이저별 수행\n",
        "optimizers = [\"SGD\", \"Momentum\", \"NAG\", \"Adagrad\", \"Adam\", \"NAdam\"]\n",
        "\n",
        "print('---------------[실험 요소]---------------',\n",
        "      f'은닉층 개수 : {num_hidden_layers}',\n",
        "      f'은닉층 뉴런 개수 : {num_hidden_neurons}',\n",
        "      f'에포크 수 : {NUM_EPOCHS}',\n",
        "      f'배치 크기 : {BATCH_SIZE}',\n",
        "      f'학습률 : {LEARNING_RATES}',\n",
        "      '='*39,\n",
        "      sep='\\n')\n",
        "\n",
        "fig, axes = plt.subplots(2,1,figsize=(12,12))\n",
        "\n",
        "for i, optimizer_name in enumerate(optimizers):\n",
        "    print(optimizer_name+f'(lr={LEARNING_RATES[optimizer_name]})')\n",
        "    train_losses, test_accuracies = train_and_test(optimizer_name,\n",
        "                                                   num_hidden_layers,\n",
        "                                                   num_hidden_neurons)\n",
        "    axes[0].plot(range(1, NUM_EPOCHS+1), train_losses,\n",
        "                 marker='o', color=f'C{i}', label=optimizer_name+\" train\")\n",
        "    axes[1].plot(range(1, NUM_EPOCHS+1), test_accuracies,\n",
        "                 marker='s', color=f'C{i}', label=optimizer_name+\" test\", linestyle='dashed')\n",
        "\n",
        "axes[0].set_xlabel('Epoch')\n",
        "axes[0].set_ylabel('Loss')\n",
        "axes[0].legend(loc='upper right')\n",
        "\n",
        "axes[1].set_xlabel('Epoch')\n",
        "axes[1].set_ylabel('Accuracy (%)')\n",
        "axes[1].legend(loc='lower right')\n",
        "\n",
        "plt.show()"
      ],
      "metadata": {
        "colab": {
          "base_uri": "https://localhost:8080/",
          "height": 1000
        },
        "id": "q95cU67jJZwf",
        "outputId": "9eac40cf-00ed-4659-fe97-46781ac05f30"
      },
      "execution_count": 50,
      "outputs": [
        {
          "output_type": "stream",
          "name": "stdout",
          "text": [
            "---------------[실험 요소]---------------\n",
            "은닉층 개수 : 3\n",
            "은닉층 뉴런 개수 : 256\n",
            "에포크 수 : 10\n",
            "배치 크기 : 256\n",
            "학습률 : {'SGD': 0.1, 'Momentum': 0.1, 'NAG': 0.1, 'Adagrad': 0.01, 'Adam': 0.001, 'NAdam': 0.002}\n",
            "=======================================\n",
            "SGD(lr=0.1)\n"
          ]
        },
        {
          "output_type": "stream",
          "name": "stderr",
          "text": [
            " 10%|█         | 1/10 [00:13<01:57, 13.06s/it]"
          ]
        },
        {
          "output_type": "stream",
          "name": "stdout",
          "text": [
            "train loss : 1.1932575007702442 | test accuracy : 72.58\n"
          ]
        },
        {
          "output_type": "stream",
          "name": "stderr",
          "text": [
            "\r 20%|██        | 2/10 [00:26<01:44, 13.07s/it]"
          ]
        },
        {
          "output_type": "stream",
          "name": "stdout",
          "text": [
            "train loss : 0.5646600219797581 | test accuracy : 78.81\n"
          ]
        },
        {
          "output_type": "stream",
          "name": "stderr",
          "text": [
            "\r 30%|███       | 3/10 [00:39<01:32, 13.23s/it]"
          ]
        },
        {
          "output_type": "stream",
          "name": "stdout",
          "text": [
            "train loss : 0.5465004893059426 | test accuracy : 78.82\n"
          ]
        },
        {
          "output_type": "stream",
          "name": "stderr",
          "text": [
            "\r 40%|████      | 4/10 [00:52<01:18, 13.14s/it]"
          ]
        },
        {
          "output_type": "stream",
          "name": "stdout",
          "text": [
            "train loss : 0.5443105104121756 | test accuracy : 78.86\n"
          ]
        },
        {
          "output_type": "stream",
          "name": "stderr",
          "text": [
            "\r 50%|█████     | 5/10 [01:05<01:05, 13.16s/it]"
          ]
        },
        {
          "output_type": "stream",
          "name": "stdout",
          "text": [
            "train loss : 0.5440761690444135 | test accuracy : 78.86\n"
          ]
        },
        {
          "output_type": "stream",
          "name": "stderr",
          "text": [
            "\r 60%|██████    | 6/10 [01:18<00:52, 13.07s/it]"
          ]
        },
        {
          "output_type": "stream",
          "name": "stdout",
          "text": [
            "train loss : 0.5443886723924191 | test accuracy : 78.86\n"
          ]
        },
        {
          "output_type": "stream",
          "name": "stderr",
          "text": [
            "\r 70%|███████   | 7/10 [01:31<00:39, 13.11s/it]"
          ]
        },
        {
          "output_type": "stream",
          "name": "stdout",
          "text": [
            "train loss : 0.5443272652778219 | test accuracy : 78.86\n"
          ]
        },
        {
          "output_type": "stream",
          "name": "stderr",
          "text": [
            "\r 80%|████████  | 8/10 [01:45<00:26, 13.20s/it]"
          ]
        },
        {
          "output_type": "stream",
          "name": "stdout",
          "text": [
            "train loss : 0.543979426520936 | test accuracy : 78.86\n"
          ]
        },
        {
          "output_type": "stream",
          "name": "stderr",
          "text": [
            "\r 90%|█████████ | 9/10 [01:58<00:13, 13.15s/it]"
          ]
        },
        {
          "output_type": "stream",
          "name": "stdout",
          "text": [
            "train loss : 0.5439281491523094 | test accuracy : 78.86\n"
          ]
        },
        {
          "output_type": "stream",
          "name": "stderr",
          "text": [
            "100%|██████████| 10/10 [02:11<00:00, 13.15s/it]\n"
          ]
        },
        {
          "output_type": "stream",
          "name": "stdout",
          "text": [
            "train loss : 0.5441371855583597 | test accuracy : 78.86\n",
            "Momentum(lr=0.1)\n"
          ]
        },
        {
          "output_type": "stream",
          "name": "stderr",
          "text": [
            " 10%|█         | 1/10 [00:13<02:01, 13.45s/it]"
          ]
        },
        {
          "output_type": "stream",
          "name": "stdout",
          "text": [
            "train loss : 0.9659945706103711 | test accuracy : 82.35\n"
          ]
        },
        {
          "output_type": "stream",
          "name": "stderr",
          "text": [
            "\r 20%|██        | 2/10 [00:27<01:49, 13.71s/it]"
          ]
        },
        {
          "output_type": "stream",
          "name": "stdout",
          "text": [
            "train loss : 0.4093719451985461 | test accuracy : 84.49\n"
          ]
        },
        {
          "output_type": "stream",
          "name": "stderr",
          "text": [
            "\r 30%|███       | 3/10 [00:40<01:34, 13.56s/it]"
          ]
        },
        {
          "output_type": "stream",
          "name": "stdout",
          "text": [
            "train loss : 0.3844021529593366 | test accuracy : 84.48\n"
          ]
        },
        {
          "output_type": "stream",
          "name": "stderr",
          "text": [
            "\r 40%|████      | 4/10 [00:53<01:20, 13.44s/it]"
          ]
        },
        {
          "output_type": "stream",
          "name": "stdout",
          "text": [
            "train loss : 0.3813415570462004 | test accuracy : 84.51\n"
          ]
        },
        {
          "output_type": "stream",
          "name": "stderr",
          "text": [
            "\r 50%|█████     | 5/10 [01:07<01:07, 13.42s/it]"
          ]
        },
        {
          "output_type": "stream",
          "name": "stdout",
          "text": [
            "train loss : 0.38100231442045657 | test accuracy : 84.51\n"
          ]
        },
        {
          "output_type": "stream",
          "name": "stderr",
          "text": [
            "\r 60%|██████    | 6/10 [01:20<00:53, 13.39s/it]"
          ]
        },
        {
          "output_type": "stream",
          "name": "stdout",
          "text": [
            "train loss : 0.3813074673743958 | test accuracy : 84.51\n"
          ]
        },
        {
          "output_type": "stream",
          "name": "stderr",
          "text": [
            "\r 70%|███████   | 7/10 [01:33<00:40, 13.35s/it]"
          ]
        },
        {
          "output_type": "stream",
          "name": "stdout",
          "text": [
            "train loss : 0.3808430534093938 | test accuracy : 84.51\n"
          ]
        },
        {
          "output_type": "stream",
          "name": "stderr",
          "text": [
            "\r 80%|████████  | 8/10 [01:47<00:26, 13.31s/it]"
          ]
        },
        {
          "output_type": "stream",
          "name": "stdout",
          "text": [
            "train loss : 0.38101335193248503 | test accuracy : 84.51\n"
          ]
        },
        {
          "output_type": "stream",
          "name": "stderr",
          "text": [
            "\r 90%|█████████ | 9/10 [02:00<00:13, 13.23s/it]"
          ]
        },
        {
          "output_type": "stream",
          "name": "stdout",
          "text": [
            "train loss : 0.3809555621223247 | test accuracy : 84.51\n"
          ]
        },
        {
          "output_type": "stream",
          "name": "stderr",
          "text": [
            "100%|██████████| 10/10 [02:13<00:00, 13.36s/it]\n"
          ]
        },
        {
          "output_type": "stream",
          "name": "stdout",
          "text": [
            "train loss : 0.3814562113995248 | test accuracy : 84.51\n",
            "NAG(lr=0.1)\n"
          ]
        },
        {
          "output_type": "stream",
          "name": "stderr",
          "text": [
            " 10%|█         | 1/10 [00:13<02:02, 13.59s/it]"
          ]
        },
        {
          "output_type": "stream",
          "name": "stdout",
          "text": [
            "train loss : 0.8607905176091701 | test accuracy : 82.18\n"
          ]
        },
        {
          "output_type": "stream",
          "name": "stderr",
          "text": [
            "\r 20%|██        | 2/10 [00:27<01:48, 13.62s/it]"
          ]
        },
        {
          "output_type": "stream",
          "name": "stdout",
          "text": [
            "train loss : 0.38646740634390647 | test accuracy : 85.18\n"
          ]
        },
        {
          "output_type": "stream",
          "name": "stderr",
          "text": [
            "\r 30%|███       | 3/10 [00:40<01:33, 13.34s/it]"
          ]
        },
        {
          "output_type": "stream",
          "name": "stdout",
          "text": [
            "train loss : 0.3641685332389588 | test accuracy : 85.31\n"
          ]
        },
        {
          "output_type": "stream",
          "name": "stderr",
          "text": [
            "\r 40%|████      | 4/10 [00:53<01:20, 13.42s/it]"
          ]
        },
        {
          "output_type": "stream",
          "name": "stdout",
          "text": [
            "train loss : 0.3616747021041018 | test accuracy : 85.22\n"
          ]
        },
        {
          "output_type": "stream",
          "name": "stderr",
          "text": [
            "\r 50%|█████     | 5/10 [01:07<01:07, 13.55s/it]"
          ]
        },
        {
          "output_type": "stream",
          "name": "stdout",
          "text": [
            "train loss : 0.3612580379907121 | test accuracy : 85.21\n"
          ]
        },
        {
          "output_type": "stream",
          "name": "stderr",
          "text": [
            "\r 60%|██████    | 6/10 [01:20<00:53, 13.38s/it]"
          ]
        },
        {
          "output_type": "stream",
          "name": "stdout",
          "text": [
            "train loss : 0.36099511334236634 | test accuracy : 85.21\n"
          ]
        },
        {
          "output_type": "stream",
          "name": "stderr",
          "text": [
            "\r 70%|███████   | 7/10 [01:33<00:40, 13.34s/it]"
          ]
        },
        {
          "output_type": "stream",
          "name": "stdout",
          "text": [
            "train loss : 0.3609848161327078 | test accuracy : 85.21\n"
          ]
        },
        {
          "output_type": "stream",
          "name": "stderr",
          "text": [
            "\r 80%|████████  | 8/10 [01:47<00:26, 13.28s/it]"
          ]
        },
        {
          "output_type": "stream",
          "name": "stdout",
          "text": [
            "train loss : 0.3611502778022847 | test accuracy : 85.21\n"
          ]
        },
        {
          "output_type": "stream",
          "name": "stderr",
          "text": [
            "\r 90%|█████████ | 9/10 [02:00<00:13, 13.29s/it]"
          ]
        },
        {
          "output_type": "stream",
          "name": "stdout",
          "text": [
            "train loss : 0.36152329952158824 | test accuracy : 85.21\n"
          ]
        },
        {
          "output_type": "stream",
          "name": "stderr",
          "text": [
            "100%|██████████| 10/10 [02:13<00:00, 13.36s/it]\n"
          ]
        },
        {
          "output_type": "stream",
          "name": "stdout",
          "text": [
            "train loss : 0.3610936022185265 | test accuracy : 85.21\n",
            "Adagrad(lr=0.01)\n"
          ]
        },
        {
          "output_type": "stream",
          "name": "stderr",
          "text": [
            " 10%|█         | 1/10 [00:14<02:08, 14.33s/it]"
          ]
        },
        {
          "output_type": "stream",
          "name": "stdout",
          "text": [
            "train loss : 0.6660960177157788 | test accuracy : 81.7\n"
          ]
        },
        {
          "output_type": "stream",
          "name": "stderr",
          "text": [
            "\r 20%|██        | 2/10 [00:27<01:49, 13.72s/it]"
          ]
        },
        {
          "output_type": "stream",
          "name": "stdout",
          "text": [
            "train loss : 0.396371595276163 | test accuracy : 84.55\n"
          ]
        },
        {
          "output_type": "stream",
          "name": "stderr",
          "text": [
            "\r 30%|███       | 3/10 [00:40<01:34, 13.53s/it]"
          ]
        },
        {
          "output_type": "stream",
          "name": "stdout",
          "text": [
            "train loss : 0.3844854857059235 | test accuracy : 84.63\n"
          ]
        },
        {
          "output_type": "stream",
          "name": "stderr",
          "text": [
            "\r 40%|████      | 4/10 [00:54<01:20, 13.47s/it]"
          ]
        },
        {
          "output_type": "stream",
          "name": "stdout",
          "text": [
            "train loss : 0.3833658607716256 | test accuracy : 84.63\n"
          ]
        },
        {
          "output_type": "stream",
          "name": "stderr",
          "text": [
            "\r 50%|█████     | 5/10 [01:07<01:07, 13.55s/it]"
          ]
        },
        {
          "output_type": "stream",
          "name": "stdout",
          "text": [
            "train loss : 0.3836424989269135 | test accuracy : 84.63\n"
          ]
        },
        {
          "output_type": "stream",
          "name": "stderr",
          "text": [
            "\r 60%|██████    | 6/10 [01:21<00:54, 13.54s/it]"
          ]
        },
        {
          "output_type": "stream",
          "name": "stdout",
          "text": [
            "train loss : 0.3837822127849498 | test accuracy : 84.63\n"
          ]
        },
        {
          "output_type": "stream",
          "name": "stderr",
          "text": [
            "\r 70%|███████   | 7/10 [01:35<00:40, 13.56s/it]"
          ]
        },
        {
          "output_type": "stream",
          "name": "stdout",
          "text": [
            "train loss : 0.38337666963009126 | test accuracy : 84.63\n"
          ]
        },
        {
          "output_type": "stream",
          "name": "stderr",
          "text": [
            "\r 80%|████████  | 8/10 [01:49<00:27, 13.82s/it]"
          ]
        },
        {
          "output_type": "stream",
          "name": "stdout",
          "text": [
            "train loss : 0.3830446919228168 | test accuracy : 84.63\n"
          ]
        },
        {
          "output_type": "stream",
          "name": "stderr",
          "text": [
            "\r 90%|█████████ | 9/10 [02:02<00:13, 13.68s/it]"
          ]
        },
        {
          "output_type": "stream",
          "name": "stdout",
          "text": [
            "train loss : 0.38348150354750615 | test accuracy : 84.63\n"
          ]
        },
        {
          "output_type": "stream",
          "name": "stderr",
          "text": [
            "100%|██████████| 10/10 [02:16<00:00, 13.62s/it]\n"
          ]
        },
        {
          "output_type": "stream",
          "name": "stdout",
          "text": [
            "train loss : 0.38334037560097717 | test accuracy : 84.63\n",
            "Adam(lr=0.001)\n"
          ]
        },
        {
          "output_type": "stream",
          "name": "stderr",
          "text": [
            " 10%|█         | 1/10 [00:13<02:00, 13.39s/it]"
          ]
        },
        {
          "output_type": "stream",
          "name": "stdout",
          "text": [
            "train loss : 0.6195444690420272 | test accuracy : 83.71\n"
          ]
        },
        {
          "output_type": "stream",
          "name": "stderr",
          "text": [
            "\r 20%|██        | 2/10 [00:26<01:46, 13.29s/it]"
          ]
        },
        {
          "output_type": "stream",
          "name": "stdout",
          "text": [
            "train loss : 0.3791523720355744 | test accuracy : 85.41\n"
          ]
        },
        {
          "output_type": "stream",
          "name": "stderr",
          "text": [
            "\r 30%|███       | 3/10 [00:39<01:33, 13.33s/it]"
          ]
        },
        {
          "output_type": "stream",
          "name": "stdout",
          "text": [
            "train loss : 0.36298035414929086 | test accuracy : 85.72\n"
          ]
        },
        {
          "output_type": "stream",
          "name": "stderr",
          "text": [
            "\r 40%|████      | 4/10 [00:53<01:19, 13.28s/it]"
          ]
        },
        {
          "output_type": "stream",
          "name": "stdout",
          "text": [
            "train loss : 0.3608931294147004 | test accuracy : 85.75\n"
          ]
        },
        {
          "output_type": "stream",
          "name": "stderr",
          "text": [
            "\r 50%|█████     | 5/10 [01:07<01:08, 13.68s/it]"
          ]
        },
        {
          "output_type": "stream",
          "name": "stdout",
          "text": [
            "train loss : 0.36108020861098106 | test accuracy : 85.75\n"
          ]
        },
        {
          "output_type": "stream",
          "name": "stderr",
          "text": [
            "\r 60%|██████    | 6/10 [01:20<00:54, 13.56s/it]"
          ]
        },
        {
          "output_type": "stream",
          "name": "stdout",
          "text": [
            "train loss : 0.36084927979935993 | test accuracy : 85.74\n"
          ]
        },
        {
          "output_type": "stream",
          "name": "stderr",
          "text": [
            "\r 70%|███████   | 7/10 [01:34<00:40, 13.56s/it]"
          ]
        },
        {
          "output_type": "stream",
          "name": "stdout",
          "text": [
            "train loss : 0.3606991186420968 | test accuracy : 85.74\n"
          ]
        },
        {
          "output_type": "stream",
          "name": "stderr",
          "text": [
            "\r 80%|████████  | 8/10 [01:47<00:27, 13.55s/it]"
          ]
        },
        {
          "output_type": "stream",
          "name": "stdout",
          "text": [
            "train loss : 0.360578727088076 | test accuracy : 85.74\n"
          ]
        },
        {
          "output_type": "stream",
          "name": "stderr",
          "text": [
            "\r 90%|█████████ | 9/10 [02:01<00:13, 13.65s/it]"
          ]
        },
        {
          "output_type": "stream",
          "name": "stdout",
          "text": [
            "train loss : 0.3604578368207242 | test accuracy : 85.74\n"
          ]
        },
        {
          "output_type": "stream",
          "name": "stderr",
          "text": [
            "100%|██████████| 10/10 [02:15<00:00, 13.54s/it]\n"
          ]
        },
        {
          "output_type": "stream",
          "name": "stdout",
          "text": [
            "train loss : 0.3604854682658581 | test accuracy : 85.74\n",
            "NAdam(lr=0.002)\n"
          ]
        },
        {
          "output_type": "stream",
          "name": "stderr",
          "text": [
            " 10%|█         | 1/10 [00:13<02:02, 13.61s/it]"
          ]
        },
        {
          "output_type": "stream",
          "name": "stdout",
          "text": [
            "train loss : 0.651444843221218 | test accuracy : 78.82\n"
          ]
        },
        {
          "output_type": "stream",
          "name": "stderr",
          "text": [
            "\r 20%|██        | 2/10 [00:28<01:54, 14.37s/it]"
          ]
        },
        {
          "output_type": "stream",
          "name": "stdout",
          "text": [
            "train loss : 0.3711926764630257 | test accuracy : 85.89\n"
          ]
        },
        {
          "output_type": "stream",
          "name": "stderr",
          "text": [
            "\r 30%|███       | 3/10 [00:42<01:37, 14.00s/it]"
          ]
        },
        {
          "output_type": "stream",
          "name": "stdout",
          "text": [
            "train loss : 0.34627836581240307 | test accuracy : 85.97\n"
          ]
        },
        {
          "output_type": "stream",
          "name": "stderr",
          "text": [
            "\r 40%|████      | 4/10 [00:55<01:22, 13.74s/it]"
          ]
        },
        {
          "output_type": "stream",
          "name": "stdout",
          "text": [
            "train loss : 0.3438103866703967 | test accuracy : 85.98\n"
          ]
        },
        {
          "output_type": "stream",
          "name": "stderr",
          "text": [
            "\r 50%|█████     | 5/10 [01:08<01:08, 13.62s/it]"
          ]
        },
        {
          "output_type": "stream",
          "name": "stdout",
          "text": [
            "train loss : 0.3441884849933868 | test accuracy : 85.98\n"
          ]
        },
        {
          "output_type": "stream",
          "name": "stderr",
          "text": [
            "\r 60%|██████    | 6/10 [01:22<00:53, 13.50s/it]"
          ]
        },
        {
          "output_type": "stream",
          "name": "stdout",
          "text": [
            "train loss : 0.3433257433328223 | test accuracy : 85.98\n"
          ]
        },
        {
          "output_type": "stream",
          "name": "stderr",
          "text": [
            "\r 70%|███████   | 7/10 [01:35<00:40, 13.46s/it]"
          ]
        },
        {
          "output_type": "stream",
          "name": "stdout",
          "text": [
            "train loss : 0.3434508704758705 | test accuracy : 85.98\n"
          ]
        },
        {
          "output_type": "stream",
          "name": "stderr",
          "text": [
            "\r 80%|████████  | 8/10 [01:48<00:26, 13.46s/it]"
          ]
        },
        {
          "output_type": "stream",
          "name": "stdout",
          "text": [
            "train loss : 0.3436375307275894 | test accuracy : 85.98\n"
          ]
        },
        {
          "output_type": "stream",
          "name": "stderr",
          "text": [
            "\r 90%|█████████ | 9/10 [02:03<00:13, 13.74s/it]"
          ]
        },
        {
          "output_type": "stream",
          "name": "stdout",
          "text": [
            "train loss : 0.3435292554662583 | test accuracy : 85.98\n"
          ]
        },
        {
          "output_type": "stream",
          "name": "stderr",
          "text": [
            "100%|██████████| 10/10 [02:16<00:00, 13.67s/it]"
          ]
        },
        {
          "output_type": "stream",
          "name": "stdout",
          "text": [
            "train loss : 0.3436093270144564 | test accuracy : 85.98\n"
          ]
        },
        {
          "output_type": "stream",
          "name": "stderr",
          "text": [
            "\n"
          ]
        },
        {
          "output_type": "display_data",
          "data": {
            "text/plain": [
              "<Figure size 864x864 with 2 Axes>"
            ],
            "image/png": "[encoded data removed]"
          },
          "metadata": {
            "needs_background": "light"
          }
        }
      ]
    },
    {
      "cell_type": "code",
      "source": [],
      "metadata": {
        "id": "D04dAurixEh2"
      },
      "execution_count": 50,
      "outputs": []
    }
  ]
}