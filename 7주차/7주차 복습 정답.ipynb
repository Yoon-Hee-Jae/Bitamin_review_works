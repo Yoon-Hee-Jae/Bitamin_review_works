{
  "nbformat": 4,
  "nbformat_minor": 0,
  "metadata": {
    "colab": {
      "provenance": [],
      "collapsed_sections": []
    },
    "kernelspec": {
      "name": "python3",
      "display_name": "Python 3"
    },
    "language_info": {
      "name": "python"
    }
  },
  "cells": [
    {
      "cell_type": "markdown",
      "source": [
        "# 데이터불러오기"
      ],
      "metadata": {
        "id": "szoHrFfPb2hr"
      }
    },
    {
      "cell_type": "code",
      "source": [
        "import pandas as pd\n",
        "import numpy as np\n",
        "import matplotlib.pyplot as plt\n",
        "from sklearn.preprocessing import StandardScaler\n",
        "\n",
        "df = pd.read_csv('train.csv')"
      ],
      "metadata": {
        "id": "iDMvID5Lb3mR"
      },
      "execution_count": 6,
      "outputs": []
    },
    {
      "cell_type": "markdown",
      "source": [
        "#### df 데이터 프레임에서 cabin, name, ticket 열은 제거해주세요"
      ],
      "metadata": {
        "id": "0Moc0vwecY8J"
      }
    },
    {
      "cell_type": "code",
      "source": [
        "df = df.drop(['Cabin','Ticket','Name'],axis=1)"
      ],
      "metadata": {
        "id": "G4a9YfMNcHI9"
      },
      "execution_count": 7,
      "outputs": []
    },
    {
      "cell_type": "markdown",
      "source": [
        "#### df 데이터 프레임의 모든 결측치를 제거해봅시다"
      ],
      "metadata": {
        "id": "1HpPS63gcjfE"
      }
    },
    {
      "cell_type": "code",
      "source": [
        "df = df.dropna()"
      ],
      "metadata": {
        "id": "y6v6hiJtcm4W"
      },
      "execution_count": 8,
      "outputs": []
    },
    {
      "cell_type": "markdown",
      "source": [
        "#### 원할한 과제 진행을 위해 아래 코드 한번 실행시켜주세요"
      ],
      "metadata": {
        "id": "KIuumlZWdTfm"
      }
    },
    {
      "cell_type": "code",
      "source": [
        "df = df.reset_index(drop=True)"
      ],
      "metadata": {
        "colab": {
          "base_uri": "https://localhost:8080/",
          "height": 424
        },
        "id": "Q2pu1lHVdXuh",
        "outputId": "8dfb8bb8-088c-4e20-c191-8bd4881cc2ed"
      },
      "execution_count": 10,
      "outputs": [
        {
          "output_type": "execute_result",
          "data": {
            "text/plain": [
              "     Survived  Pclass     Sex   Age  SibSp  Parch     Fare Embarked\n",
              "0           0       3    male  22.0      1      0   7.2500        S\n",
              "1           1       1  female  38.0      1      0  71.2833        C\n",
              "2           1       3  female  26.0      0      0   7.9250        S\n",
              "3           1       1  female  35.0      1      0  53.1000        S\n",
              "4           0       3    male  35.0      0      0   8.0500        S\n",
              "..        ...     ...     ...   ...    ...    ...      ...      ...\n",
              "707         0       3  female  39.0      0      5  29.1250        Q\n",
              "708         0       2    male  27.0      0      0  13.0000        S\n",
              "709         1       1  female  19.0      0      0  30.0000        S\n",
              "710         1       1    male  26.0      0      0  30.0000        C\n",
              "711         0       3    male  32.0      0      0   7.7500        Q\n",
              "\n",
              "[712 rows x 8 columns]"
            ],
            "text/html": [
              "\n",
              "  <div id=\"df-ae352bc3-a1cc-4b3d-a2a2-61a97a75be29\">\n",
              "    <div class=\"colab-df-container\">\n",
              "      <div>\n",
              "<style scoped>\n",
              "    .dataframe tbody tr th:only-of-type {\n",
              "        vertical-align: middle;\n",
              "    }\n",
              "\n",
              "    .dataframe tbody tr th {\n",
              "        vertical-align: top;\n",
              "    }\n",
              "\n",
              "    .dataframe thead th {\n",
              "        text-align: right;\n",
              "    }\n",
              "</style>\n",
              "<table border=\"1\" class=\"dataframe\">\n",
              "  <thead>\n",
              "    <tr style=\"text-align: right;\">\n",
              "      <th></th>\n",
              "      <th>Survived</th>\n",
              "      <th>Pclass</th>\n",
              "      <th>Sex</th>\n",
              "      <th>Age</th>\n",
              "      <th>SibSp</th>\n",
              "      <th>Parch</th>\n",
              "      <th>Fare</th>\n",
              "      <th>Embarked</th>\n",
              "    </tr>\n",
              "  </thead>\n",
              "  <tbody>\n",
              "    <tr>\n",
              "      <th>0</th>\n",
              "      <td>0</td>\n",
              "      <td>3</td>\n",
              "      <td>male</td>\n",
              "      <td>22.0</td>\n",
              "      <td>1</td>\n",
              "      <td>0</td>\n",
              "      <td>7.2500</td>\n",
              "      <td>S</td>\n",
              "    </tr>\n",
              "    <tr>\n",
              "      <th>1</th>\n",
              "      <td>1</td>\n",
              "      <td>1</td>\n",
              "      <td>female</td>\n",
              "      <td>38.0</td>\n",
              "      <td>1</td>\n",
              "      <td>0</td>\n",
              "      <td>71.2833</td>\n",
              "      <td>C</td>\n",
              "    </tr>\n",
              "    <tr>\n",
              "      <th>2</th>\n",
              "      <td>1</td>\n",
              "      <td>3</td>\n",
              "      <td>female</td>\n",
              "      <td>26.0</td>\n",
              "      <td>0</td>\n",
              "      <td>0</td>\n",
              "      <td>7.9250</td>\n",
              "      <td>S</td>\n",
              "    </tr>\n",
              "    <tr>\n",
              "      <th>3</th>\n",
              "      <td>1</td>\n",
              "      <td>1</td>\n",
              "      <td>female</td>\n",
              "      <td>35.0</td>\n",
              "      <td>1</td>\n",
              "      <td>0</td>\n",
              "      <td>53.1000</td>\n",
              "      <td>S</td>\n",
              "    </tr>\n",
              "    <tr>\n",
              "      <th>4</th>\n",
              "      <td>0</td>\n",
              "      <td>3</td>\n",
              "      <td>male</td>\n",
              "      <td>35.0</td>\n",
              "      <td>0</td>\n",
              "      <td>0</td>\n",
              "      <td>8.0500</td>\n",
              "      <td>S</td>\n",
              "    </tr>\n",
              "    <tr>\n",
              "      <th>...</th>\n",
              "      <td>...</td>\n",
              "      <td>...</td>\n",
              "      <td>...</td>\n",
              "      <td>...</td>\n",
              "      <td>...</td>\n",
              "      <td>...</td>\n",
              "      <td>...</td>\n",
              "      <td>...</td>\n",
              "    </tr>\n",
              "    <tr>\n",
              "      <th>707</th>\n",
              "      <td>0</td>\n",
              "      <td>3</td>\n",
              "      <td>female</td>\n",
              "      <td>39.0</td>\n",
              "      <td>0</td>\n",
              "      <td>5</td>\n",
              "      <td>29.1250</td>\n",
              "      <td>Q</td>\n",
              "    </tr>\n",
              "    <tr>\n",
              "      <th>708</th>\n",
              "      <td>0</td>\n",
              "      <td>2</td>\n",
              "      <td>male</td>\n",
              "      <td>27.0</td>\n",
              "      <td>0</td>\n",
              "      <td>0</td>\n",
              "      <td>13.0000</td>\n",
              "      <td>S</td>\n",
              "    </tr>\n",
              "    <tr>\n",
              "      <th>709</th>\n",
              "      <td>1</td>\n",
              "      <td>1</td>\n",
              "      <td>female</td>\n",
              "      <td>19.0</td>\n",
              "      <td>0</td>\n",
              "      <td>0</td>\n",
              "      <td>30.0000</td>\n",
              "      <td>S</td>\n",
              "    </tr>\n",
              "    <tr>\n",
              "      <th>710</th>\n",
              "      <td>1</td>\n",
              "      <td>1</td>\n",
              "      <td>male</td>\n",
              "      <td>26.0</td>\n",
              "      <td>0</td>\n",
              "      <td>0</td>\n",
              "      <td>30.0000</td>\n",
              "      <td>C</td>\n",
              "    </tr>\n",
              "    <tr>\n",
              "      <th>711</th>\n",
              "      <td>0</td>\n",
              "      <td>3</td>\n",
              "      <td>male</td>\n",
              "      <td>32.0</td>\n",
              "      <td>0</td>\n",
              "      <td>0</td>\n",
              "      <td>7.7500</td>\n",
              "      <td>Q</td>\n",
              "    </tr>\n",
              "  </tbody>\n",
              "</table>\n",
              "<p>712 rows × 8 columns</p>\n",
              "</div>\n",
              "      <button class=\"colab-df-convert\" onclick=\"convertToInteractive('df-ae352bc3-a1cc-4b3d-a2a2-61a97a75be29')\"\n",
              "              title=\"Convert this dataframe to an interactive table.\"\n",
              "              style=\"display:none;\">\n",
              "        \n",
              "  <svg xmlns=\"http://www.w3.org/2000/svg\" height=\"24px\"viewBox=\"0 0 24 24\"\n",
              "       width=\"24px\">\n",
              "    <path d=\"M0 0h24v24H0V0z\" fill=\"none\"/>\n",
              "    <path d=\"M18.56 5.44l.94 2.06.94-2.06 2.06-.94-2.06-.94-.94-2.06-.94 2.06-2.06.94zm-11 1L8.5 8.5l.94-2.06 2.06-.94-2.06-.94L8.5 2.5l-.94 2.06-2.06.94zm10 10l.94 2.06.94-2.06 2.06-.94-2.06-.94-.94-2.06-.94 2.06-2.06.94z\"/><path d=\"M17.41 7.96l-1.37-1.37c-.4-.4-.92-.59-1.43-.59-.52 0-1.04.2-1.43.59L10.3 9.45l-7.72 7.72c-.78.78-.78 2.05 0 2.83L4 21.41c.39.39.9.59 1.41.59.51 0 1.02-.2 1.41-.59l7.78-7.78 2.81-2.81c.8-.78.8-2.07 0-2.86zM5.41 20L4 18.59l7.72-7.72 1.47 1.35L5.41 20z\"/>\n",
              "  </svg>\n",
              "      </button>\n",
              "      \n",
              "  <style>\n",
              "    .colab-df-container {\n",
              "      display:flex;\n",
              "      flex-wrap:wrap;\n",
              "      gap: 12px;\n",
              "    }\n",
              "\n",
              "    .colab-df-convert {\n",
              "      background-color: #E8F0FE;\n",
              "      border: none;\n",
              "      border-radius: 50%;\n",
              "      cursor: pointer;\n",
              "      display: none;\n",
              "      fill: #1967D2;\n",
              "      height: 32px;\n",
              "      padding: 0 0 0 0;\n",
              "      width: 32px;\n",
              "    }\n",
              "\n",
              "    .colab-df-convert:hover {\n",
              "      background-color: #E2EBFA;\n",
              "      box-shadow: 0px 1px 2px rgba(60, 64, 67, 0.3), 0px 1px 3px 1px rgba(60, 64, 67, 0.15);\n",
              "      fill: #174EA6;\n",
              "    }\n",
              "\n",
              "    [theme=dark] .colab-df-convert {\n",
              "      background-color: #3B4455;\n",
              "      fill: #D2E3FC;\n",
              "    }\n",
              "\n",
              "    [theme=dark] .colab-df-convert:hover {\n",
              "      background-color: #434B5C;\n",
              "      box-shadow: 0px 1px 3px 1px rgba(0, 0, 0, 0.15);\n",
              "      filter: drop-shadow(0px 1px 2px rgba(0, 0, 0, 0.3));\n",
              "      fill: #FFFFFF;\n",
              "    }\n",
              "  </style>\n",
              "\n",
              "      <script>\n",
              "        const buttonEl =\n",
              "          document.querySelector('#df-ae352bc3-a1cc-4b3d-a2a2-61a97a75be29 button.colab-df-convert');\n",
              "        buttonEl.style.display =\n",
              "          google.colab.kernel.accessAllowed ? 'block' : 'none';\n",
              "\n",
              "        async function convertToInteractive(key) {\n",
              "          const element = document.querySelector('#df-ae352bc3-a1cc-4b3d-a2a2-61a97a75be29');\n",
              "          const dataTable =\n",
              "            await google.colab.kernel.invokeFunction('convertToInteractive',\n",
              "                                                     [key], {});\n",
              "          if (!dataTable) return;\n",
              "\n",
              "          const docLinkHtml = 'Like what you see? Visit the ' +\n",
              "            '<a target=\"_blank\" href=https://colab.research.google.com/notebooks/data_table.ipynb>data table notebook</a>'\n",
              "            + ' to learn more about interactive tables.';\n",
              "          element.innerHTML = '';\n",
              "          dataTable['output_type'] = 'display_data';\n",
              "          await google.colab.output.renderOutput(dataTable, element);\n",
              "          const docLink = document.createElement('div');\n",
              "          docLink.innerHTML = docLinkHtml;\n",
              "          element.appendChild(docLink);\n",
              "        }\n",
              "      </script>\n",
              "    </div>\n",
              "  </div>\n",
              "  "
            ]
          },
          "metadata": {},
          "execution_count": 10
        }
      ]
    },
    {
      "cell_type": "markdown",
      "source": [
        "#### df 데이터 프레임을 features와 target으로 구분지읍시다\n",
        "#### target = Survived, features는 그 외 모든 변수"
      ],
      "metadata": {
        "id": "Qbt6Gwmyc_V6"
      }
    },
    {
      "cell_type": "code",
      "source": [
        "features = df.drop(['Survived'],axis=1)\n",
        "target = df['Survived']"
      ],
      "metadata": {
        "id": "46O8JUEScozG"
      },
      "execution_count": 11,
      "outputs": []
    },
    {
      "cell_type": "markdown",
      "source": [
        "#### features 데이터 프레임을 카테고리형 변수(Pclass, Sex, Embarked),\n",
        "#### 연속형 변수('Age','SibSp','Parch','Fare')로 구분하여 각각\n",
        "#### features_cat, features_con 변수에 저장해주세요"
      ],
      "metadata": {
        "id": "xXqEC1Asdk7b"
      }
    },
    {
      "cell_type": "code",
      "source": [
        "features_cat = features.loc[:,['Pclass','Sex','Embarked']]\n",
        "features_con = features.loc[:,['Age', 'SibSp','Parch','Fare']]"
      ],
      "metadata": {
        "id": "XT8FK7rAdnLV"
      },
      "execution_count": 14,
      "outputs": []
    },
    {
      "cell_type": "markdown",
      "source": [
        "#### features_cat.info()를 통해 데이터의 자료형을 확인해봅시다"
      ],
      "metadata": {
        "id": "fD5c1zD3e2g8"
      }
    },
    {
      "cell_type": "code",
      "source": [
        "features_cat.info()"
      ],
      "metadata": {
        "colab": {
          "base_uri": "https://localhost:8080/"
        },
        "id": "GtuqLus1enFT",
        "outputId": "de21008f-d33e-4de6-90a4-a949bfb64f8b"
      },
      "execution_count": 75,
      "outputs": [
        {
          "output_type": "stream",
          "name": "stdout",
          "text": [
            "<class 'pandas.core.frame.DataFrame'>\n",
            "RangeIndex: 712 entries, 0 to 711\n",
            "Data columns (total 3 columns):\n",
            " #   Column    Non-Null Count  Dtype\n",
            "---  ------    --------------  -----\n",
            " 0   Pclass    712 non-null    int64\n",
            " 1   Sex       712 non-null    int64\n",
            " 2   Embarked  712 non-null    int64\n",
            "dtypes: int64(3)\n",
            "memory usage: 16.8 KB\n"
          ]
        }
      ]
    },
    {
      "cell_type": "markdown",
      "source": [
        "#### features_cat 데이터프레임을 숫자로 인코딩합시다\n",
        "#### 그리고 features_cat의 모든 열이 int 자료형으로 지정되도록 확인합시다"
      ],
      "metadata": {
        "id": "dEWpQr2xpEC3"
      }
    },
    {
      "cell_type": "code",
      "source": [
        "features_cat\n",
        "features_cat['Sex'] = features_cat['Sex'].map({'male':0, 'female':1}).astype('int')\n",
        "features_cat['Embarked'] = features_cat['Embarked'].map({'S':0,'C':1,'Q':2})\n",
        "features_cat['Pclass'] = features_cat['Pclass'].astype('int')"
      ],
      "metadata": {
        "id": "4xhCal7hpH5r"
      },
      "execution_count": 73,
      "outputs": []
    },
    {
      "cell_type": "markdown",
      "source": [
        "#### features_con 데이터 프레임은 표준화 작업을 진행해줍시다\n",
        "#### 그리고 features_con_std 변수에 데이터 프레임 형태로 저장해줍시다"
      ],
      "metadata": {
        "id": "oIzlG9dmf1vb"
      }
    },
    {
      "cell_type": "code",
      "source": [
        "stand = StandardScaler()\n",
        "features_con_std = pd.DataFrame(stand.fit_transform(features_con),columns = features_con.columns)"
      ],
      "metadata": {
        "id": "jThMcurOgAqI"
      },
      "execution_count": 22,
      "outputs": []
    },
    {
      "cell_type": "markdown",
      "source": [
        "#### 경사 하강법 구현을 위해 적절한 데이터를 찾아보겠습니다"
      ],
      "metadata": {
        "id": "lKXgaMjkhzEb"
      }
    },
    {
      "cell_type": "code",
      "source": [
        "f, axes = plt.subplots(4, 4)\n",
        "f.set_size_inches((20, 15))\n",
        "plt.subplots_adjust(wspace = 0.3, hspace = 0.3)\n",
        "\n",
        "col_lis = list(features_con_std.columns)\n",
        "for i in range(4):\n",
        "  for j in range(4):\n",
        "    axes[i,j].scatter(features_con_std[col_lis[i]],features_con_std[col_lis[j]],s = 4)\n",
        "    axes[i,j].set_xlabel(col_lis[i])\n",
        "    axes[i,j].set_ylabel(col_lis[j])\n",
        "\n",
        "plt.show()"
      ],
      "metadata": {
        "colab": {
          "base_uri": "https://localhost:8080/",
          "height": 879
        },
        "id": "IoBlx6tQhJ72",
        "outputId": "13fe8486-371b-426b-8933-5af65aa09102"
      },
      "execution_count": 28,
      "outputs": [
        {
          "output_type": "display_data",
          "data": {
            "text/plain": [
              "<Figure size 1440x1080 with 16 Axes>"
            ],
            "image/png": "[encoded data removed]"
          },
          "metadata": {
            "needs_background": "light"
          }
        }
      ]
    },
    {
      "cell_type": "markdown",
      "source": [
        "#### 앞으로의 실습에서 features_con_std 데이터 프레임의 \n",
        "#### x = Age, y = Fare를 사용해보도록 합시다"
      ],
      "metadata": {
        "id": "GJt6uRdPh3vV"
      }
    },
    {
      "cell_type": "markdown",
      "source": [
        "#### 우선 훈련셋, 테스트 셋으로 데이터 구분합시다(test_size = 0.3)"
      ],
      "metadata": {
        "id": "uxr_-S1njYsI"
      }
    },
    {
      "cell_type": "code",
      "source": [
        "from sklearn.model_selection import train_test_split\n",
        "x_train, x_test, y_train, y_test = train_test_split(features_con_std['Age'],features_con_std['Fare'],test_size = 0.3)"
      ],
      "metadata": {
        "id": "0SjcD-x6h7_k"
      },
      "execution_count": 29,
      "outputs": []
    },
    {
      "cell_type": "markdown",
      "source": [
        "#### 경사하강법 코드를 실행하여 최적의 w,b를 찾아주세요"
      ],
      "metadata": {
        "id": "I4U8AILsjysc"
      }
    },
    {
      "cell_type": "code",
      "source": [
        "errors = []\n",
        "ww = []\n",
        "# random 한 값으로 w, b의 초기값을 설정합니다\n",
        "w = np.random.uniform(low=-1.0, high=1.0)\n",
        "b = np.random.uniform(low=-1.0, high=1.0)\n",
        "\n",
        "x = x_train\n",
        "y = y_train\n",
        "\n",
        "#에포크()\n",
        "num_epoch = 150\n",
        "learning_rate = 0.1\n",
        "\n",
        "for epoch in range(num_epoch):\n",
        "    y_hat = x * w + b\n",
        "    error = ((y_hat - y)**2).mean()\n",
        "    if error < 0.0005:\n",
        "        break\n",
        "    \n",
        "    w = w - learning_rate * ((y_hat - y) * x).mean()\n",
        "    b = b - learning_rate * (y_hat - y).mean()\n",
        "    \n",
        "    errors.append(error)\n",
        "    ww.append(w)\n",
        "\n",
        "    if epoch % 5 == 0:\n",
        "        print(\"{0:2} w = {1:.5f}, b = {2:.5f} error = {3:.5f}\".format(epoch, w, b, error))\n",
        "\n",
        "print(\"----\" * 15)\n",
        "print(epoch,'w:' ,round(w,5),'b:' ,round(b,5), 'error:',round(error,5))"
      ],
      "metadata": {
        "colab": {
          "base_uri": "https://localhost:8080/"
        },
        "id": "Mnvr_E46ikB_",
        "outputId": "99349650-0e1e-42a9-f671-9b1b8a4044f9"
      },
      "execution_count": 31,
      "outputs": [
        {
          "output_type": "stream",
          "name": "stdout",
          "text": [
            " 0 w = 0.83098, b = -0.56051 error = 1.98580\n",
            " 5 w = 0.55129, b = -0.32881 error = 1.35773\n",
            "10 w = 0.38299, b = -0.18962 error = 1.13062\n",
            "15 w = 0.28172, b = -0.10600 error = 1.04849\n",
            "20 w = 0.22078, b = -0.05576 error = 1.01879\n",
            "25 w = 0.18411, b = -0.02558 error = 1.00805\n",
            "30 w = 0.16204, b = -0.00745 error = 1.00417\n",
            "35 w = 0.14877, b = 0.00344 error = 1.00276\n",
            "40 w = 0.14078, b = 0.00999 error = 1.00226\n",
            "45 w = 0.13598, b = 0.01392 error = 1.00207\n",
            "50 w = 0.13308, b = 0.01629 error = 1.00201\n",
            "55 w = 0.13134, b = 0.01771 error = 1.00198\n",
            "60 w = 0.13030, b = 0.01856 error = 1.00197\n",
            "65 w = 0.12967, b = 0.01907 error = 1.00197\n",
            "70 w = 0.12929, b = 0.01938 error = 1.00197\n",
            "75 w = 0.12906, b = 0.01957 error = 1.00197\n",
            "80 w = 0.12892, b = 0.01968 error = 1.00197\n",
            "85 w = 0.12884, b = 0.01974 error = 1.00197\n",
            "90 w = 0.12879, b = 0.01978 error = 1.00197\n",
            "95 w = 0.12876, b = 0.01981 error = 1.00197\n",
            "100 w = 0.12874, b = 0.01982 error = 1.00197\n",
            "105 w = 0.12873, b = 0.01983 error = 1.00197\n",
            "110 w = 0.12873, b = 0.01984 error = 1.00197\n",
            "115 w = 0.12872, b = 0.01984 error = 1.00197\n",
            "120 w = 0.12872, b = 0.01984 error = 1.00197\n",
            "125 w = 0.12872, b = 0.01984 error = 1.00197\n",
            "130 w = 0.12872, b = 0.01984 error = 1.00197\n",
            "135 w = 0.12872, b = 0.01984 error = 1.00197\n",
            "140 w = 0.12872, b = 0.01984 error = 1.00197\n",
            "145 w = 0.12872, b = 0.01984 error = 1.00197\n",
            "------------------------------------------------------------\n",
            "149 w: 0.12872 b: 0.01985 error: 1.00197\n"
          ]
        }
      ]
    },
    {
      "cell_type": "markdown",
      "source": [
        "#### 실습 결과 나타난 최적의 w, b 값을 이용하여 predict 데이터를 만드세요"
      ],
      "metadata": {
        "id": "i2UrPlMoj5L9"
      }
    },
    {
      "cell_type": "code",
      "source": [
        "yy = w * x_test + b\n",
        "y_pred = np.array(yy)"
      ],
      "metadata": {
        "id": "m2rfd02ui3ph"
      },
      "execution_count": 32,
      "outputs": []
    },
    {
      "cell_type": "markdown",
      "source": [
        "#### y_test와 y_pred를 이용하여 MSE를 구해보세요"
      ],
      "metadata": {
        "id": "j9OqC-hbj8_Q"
      }
    },
    {
      "cell_type": "code",
      "source": [
        "from sklearn.metrics import mean_squared_error\n",
        "mean_squared_error(y_pred,y_test)"
      ],
      "metadata": {
        "colab": {
          "base_uri": "https://localhost:8080/"
        },
        "id": "pMJivk3Pi5pp",
        "outputId": "17ae33ae-4c44-45c2-87b7-27a1e9b35f3f"
      },
      "execution_count": 33,
      "outputs": [
        {
          "output_type": "execute_result",
          "data": {
            "text/plain": [
              "0.9720764440104589"
            ]
          },
          "metadata": {},
          "execution_count": 33
        }
      ]
    },
    {
      "cell_type": "markdown",
      "source": [
        "#### w값에 따른 오차를 그래프를 통해 시각화 해보세요"
      ],
      "metadata": {
        "id": "JNAIvWizkPqt"
      }
    },
    {
      "cell_type": "code",
      "source": [
        "plt.plot(ww,errors)\n",
        "plt.xlabel('w')\n",
        "plt.ylabel('error')"
      ],
      "metadata": {
        "colab": {
          "base_uri": "https://localhost:8080/",
          "height": 297
        },
        "id": "_6jOeAzWi7p4",
        "outputId": "0a010458-dde9-4023-bdfc-32d236e9d230"
      },
      "execution_count": 34,
      "outputs": [
        {
          "output_type": "execute_result",
          "data": {
            "text/plain": [
              "Text(0, 0.5, 'error')"
            ]
          },
          "metadata": {},
          "execution_count": 34
        },
        {
          "output_type": "display_data",
          "data": {
            "text/plain": [
              "<Figure size 432x288 with 1 Axes>"
            ],
            "image/png": "[encoded data removed]"
          },
          "metadata": {
            "needs_background": "light"
          }
        }
      ]
    },
    {
      "cell_type": "markdown",
      "source": [
        "#### 경사하강법을 통해 구한 식을 plt.plot을 통한 직선, Width와 Weight의 분포는 plt.scatter로 같이 시각화 해봅시다"
      ],
      "metadata": {
        "id": "u-MTiGArkSeE"
      }
    },
    {
      "cell_type": "code",
      "source": [
        "plt.scatter(features_con_std['Age'],features_con_std['Fare'],s = 4)\n",
        "plt.plot(features_con_std['Age'],w*np.array(features_con_std['Age']) + b,c = 'red')\n",
        "plt.xlabel('Age')\n",
        "plt.ylabel('Fare');"
      ],
      "metadata": {
        "colab": {
          "base_uri": "https://localhost:8080/",
          "height": 279
        },
        "id": "H9haBNLljAFE",
        "outputId": "c6b5243f-738e-48d1-9d3d-76453b7eefa8"
      },
      "execution_count": 36,
      "outputs": [
        {
          "output_type": "display_data",
          "data": {
            "text/plain": [
              "<Figure size 432x288 with 1 Axes>"
            ],
            "image/png": "[encoded data removed]"
          },
          "metadata": {
            "needs_background": "light"
          }
        }
      ]
    },
    {
      "cell_type": "markdown",
      "source": [
        "## 확률적 경사하강법(직접 구현보단 SGDRegressor라는 패키지를 사용합시다)"
      ],
      "metadata": {
        "id": "KTcD_e02mQq1"
      }
    },
    {
      "cell_type": "markdown",
      "source": [
        "### SGDRegressor 패키지를 불러오고, 파라미터 세팅은 아래와 같이 진행해봅시다\n",
        "### from sklearn.linear_model import SGDRegressor"
      ],
      "metadata": {
        "id": "zPqyeAr2mViA"
      }
    },
    {
      "cell_type": "markdown",
      "source": [
        "#### shuffle = True\n",
        "#### learning_rate = 'invscaling'\n",
        "#### eta0 = 0.5\n",
        "#### max_iter = 1000\n",
        "#### penalty = None"
      ],
      "metadata": {
        "id": "OkSDwYJZmYQ4"
      }
    },
    {
      "cell_type": "code",
      "source": [
        "from sklearn.linear_model import SGDRegressor\n",
        "sgd_reg = SGDRegressor(max_iter = 1000, penalty = None, learning_rate = 'invscaling',eta0 = 0.2)"
      ],
      "metadata": {
        "id": "tXNSPRkTmTHZ"
      },
      "execution_count": 37,
      "outputs": []
    },
    {
      "cell_type": "markdown",
      "source": [
        "#### 데이터를 훈련, 테스트 셋으로 나누어주세요(test_size = 0.1)"
      ],
      "metadata": {
        "id": "CIaWfAyGmo9i"
      }
    },
    {
      "cell_type": "code",
      "source": [
        "from sklearn.model_selection import train_test_split\n",
        "x_train, x_test, y_train, y_test = train_test_split(features_con_std['Age'], features_con_std['Fare'], test_size = 0.1)"
      ],
      "metadata": {
        "id": "A_8RyaSnmnDO"
      },
      "execution_count": 39,
      "outputs": []
    },
    {
      "cell_type": "markdown",
      "source": [
        "#### SGDRegressor에 데이터를 투입하기 위해선 데이터가 (-1,1) 형태의 넘파이 배열이여야 합니다\n",
        "#### array([1],\n",
        "####           [2],\n",
        "####           [3])\n",
        "#### x_train, y_train을 형태로 reshape 함수를 이용해 가공해주세요"
      ],
      "metadata": {
        "id": "etpf93Cbm1GK"
      }
    },
    {
      "cell_type": "code",
      "source": [
        "x = np.array(x_train).reshape(-1,1)\n",
        "y = np.array(y_train).reshape(-1,1)"
      ],
      "metadata": {
        "id": "fMc5WuOPm2c5"
      },
      "execution_count": 40,
      "outputs": []
    },
    {
      "cell_type": "markdown",
      "source": [
        "#### 위에서 선언한 sgd_reg에 x와 y를 fit해주세요"
      ],
      "metadata": {
        "id": "T7665_uVm9PL"
      }
    },
    {
      "cell_type": "code",
      "source": [
        "sgd_reg.fit(x,y)\n",
        "\n",
        "print(sgd_reg.coef_)\n",
        "print(sgd_reg.intercept_)"
      ],
      "metadata": {
        "colab": {
          "base_uri": "https://localhost:8080/"
        },
        "id": "WbZO6_Cvm7-V",
        "outputId": "88650bc2-8d84-4bda-fbff-0553991aebb4"
      },
      "execution_count": 41,
      "outputs": [
        {
          "output_type": "stream",
          "name": "stdout",
          "text": [
            "[0.062056]\n",
            "[-0.01754392]\n"
          ]
        },
        {
          "output_type": "stream",
          "name": "stderr",
          "text": [
            "/usr/local/lib/python3.7/dist-packages/sklearn/utils/validation.py:993: DataConversionWarning: A column-vector y was passed when a 1d array was expected. Please change the shape of y to (n_samples, ), for example using ravel().\n",
            "  y = column_or_1d(y, warn=True)\n"
          ]
        }
      ]
    },
    {
      "cell_type": "markdown",
      "source": [
        "#### 학습된 모델에 x_test를 통해 y_pred를 만들어주세요\n",
        "#### (이때 투입될 x_test도 reshape(-1,1)해야 투입 가능합니다)"
      ],
      "metadata": {
        "id": "xUEDGMpBnAlW"
      }
    },
    {
      "cell_type": "code",
      "source": [
        "y_pred = sgd_reg.predict(np.array(x_test).reshape(-1,1))"
      ],
      "metadata": {
        "id": "Fy4YUCe7nBXz"
      },
      "execution_count": 42,
      "outputs": []
    },
    {
      "cell_type": "markdown",
      "source": [
        "#### 마찬가지로 예측치와 y_test간의 mse를 산출해봅시다"
      ],
      "metadata": {
        "id": "l-JUJ6bbnHKo"
      }
    },
    {
      "cell_type": "code",
      "source": [
        "mean_squared_error(y_pred, y_test)"
      ],
      "metadata": {
        "colab": {
          "base_uri": "https://localhost:8080/"
        },
        "id": "fvJSxzKKnICU",
        "outputId": "6e8faddc-4a12-4557-f701-70c7f5df1e02"
      },
      "execution_count": 43,
      "outputs": [
        {
          "output_type": "execute_result",
          "data": {
            "text/plain": [
              "1.7357651391990743"
            ]
          },
          "metadata": {},
          "execution_count": 43
        }
      ]
    },
    {
      "cell_type": "markdown",
      "source": [
        "## 미니배치 경사하강법"
      ],
      "metadata": {
        "id": "RFivXNyInKw6"
      }
    },
    {
      "cell_type": "markdown",
      "source": [
        "### 다시 한번 훈련, 테스트 데이터를 나눠볼게요(x = Age열, y = Fare열)"
      ],
      "metadata": {
        "id": "PxbjveUvnMvM"
      }
    },
    {
      "cell_type": "code",
      "source": [
        "from sklearn.model_selection import train_test_split\n",
        "x_train, x_test, y_train, y_test = train_test_split(features_con_std['Age'], features_con_std['Fare'], test_size = 0.1)"
      ],
      "metadata": {
        "id": "Hz2O8_5JnQGT"
      },
      "execution_count": 44,
      "outputs": []
    },
    {
      "cell_type": "markdown",
      "source": [
        "### 이번엔 4개의 훈련, 테스트 데이터 모두 np.array를 통해 넘파이 배열로 전환해주세요"
      ],
      "metadata": {
        "id": "XPuN4JY8nZEn"
      }
    },
    {
      "cell_type": "code",
      "source": [
        "x_train = np.array(x_train)\n",
        "y_train = np.array(y_train)\n",
        "x_test = np.array(x_test)\n",
        "y_test = np.array(y_test)"
      ],
      "metadata": {
        "id": "9uzHpUEXnaBx"
      },
      "execution_count": 45,
      "outputs": []
    },
    {
      "cell_type": "markdown",
      "source": [
        "#### 혹시 모르니 중간에 x_train, y_train, x_test, y_test의 shape을 확인해주고 갑시다. train은 640, test는 72가 나오면 맞습니다"
      ],
      "metadata": {
        "id": "UkqZPXPPnf1u"
      }
    },
    {
      "cell_type": "code",
      "source": [
        "print(x_train.shape)\n",
        "print(y_train.shape)\n",
        "print(x_test.shape)\n",
        "print(y_test.shape)"
      ],
      "metadata": {
        "colab": {
          "base_uri": "https://localhost:8080/"
        },
        "id": "eutie-6yndjz",
        "outputId": "f6571a32-75dd-4aba-da0c-b7df123cb6f2"
      },
      "execution_count": 46,
      "outputs": [
        {
          "output_type": "stream",
          "name": "stdout",
          "text": [
            "(640,)\n",
            "(640,)\n",
            "(72,)\n",
            "(72,)\n"
          ]
        }
      ]
    },
    {
      "cell_type": "markdown",
      "source": [
        "#### 미니배치 경사하강법 코드는 아래와 같습니다. \n"
      ],
      "metadata": {
        "id": "aCulsqO3nl_w"
      }
    },
    {
      "cell_type": "code",
      "source": [
        "num_epoch=10\n",
        "learning_rate=0.1\n",
        "w = np.random.uniform(low=0, high=1.0)\n",
        "b = np.random.uniform(low=0, high=1.0)\n",
        "ww = []\n",
        "err = []\n",
        "\n",
        "for epoch in range(num_epoch):\n",
        "    print(\"epoch: \", epoch)\n",
        "    print(\"-\"*50)\n",
        "    batch_size = 60\n",
        "    batch_number = 100/10\n",
        "    start = 0\n",
        "    end = 60\n",
        "    for iteration in range(int(batch_number)):\n",
        "    \n",
        "        #매 iteration마다 batch_size=60에 해당하는 데이터 셋을 가져옴\n",
        "        x_batch = x_train[start: end]\n",
        "        y_batch = y_train[start: end]\n",
        "        \n",
        "        start += 10\n",
        "        end += 10\n",
        "\n",
        "        # 선택한 batch의 예측값\n",
        "        predict_batch = w*x_batch + b\n",
        "\n",
        "        # 가중치 업데이트\n",
        "        w = w - 2*learning_rate*((predict_batch - y_batch)*x_batch).mean()\n",
        "        b = b - 2*learning_rate * (predict_batch - y_batch).mean()\n",
        "\n",
        "        #error값은 전체 데이터셋의 오류값을 계산해야한다.\n",
        "        predict = w*x + b\n",
        "        error = ((y - predict)**2).mean()\n",
        "\n",
        "        print(\"iteration \", iteration, \"w =\", w, \"b= \",b, 'error= ', error)\n",
        "        ww.append(w)\n",
        "        err.append(error)\n",
        "\n",
        "    if error < 0.000001:\n",
        "            break\n",
        "print(\"최종: \",\"w= \", w, \"b= \", b, \"error= \", error)"
      ],
      "metadata": {
        "colab": {
          "base_uri": "https://localhost:8080/"
        },
        "id": "VOXNv7N1nn00",
        "outputId": "1605d42f-88b9-4226-ec07-3ed5facbe798"
      },
      "execution_count": 56,
      "outputs": [
        {
          "output_type": "stream",
          "name": "stdout",
          "text": [
            "epoch:  0\n",
            "--------------------------------------------------\n",
            "iteration  0 w = 0.22453737120866954 b=  0.7151147033307553 error=  1.4433064070866364\n",
            "iteration  1 w = 0.17889179382627501 b=  0.5730007215660133 error=  1.2492632164851951\n",
            "iteration  2 w = 0.14057809018713321 b=  0.48352315194600504 error=  1.1490988076259607\n",
            "iteration  3 w = 0.1204279004507708 b=  0.3936712801928909 error=  1.0679447062119762\n",
            "iteration  4 w = 0.1101276906811237 b=  0.33231238710244704 error=  1.0223118767622084\n",
            "iteration  5 w = 0.11611398528651126 b=  0.30062321942114567 error=  1.001981648652526\n",
            "iteration  6 w = 0.12448285158688677 b=  0.28091304030264935 error=  0.9905850562361241\n",
            "iteration  7 w = 0.13990717863748897 b=  0.28961571610724063 error=  0.9966324471865748\n",
            "iteration  8 w = 0.16488891135702147 b=  0.2989060090035372 error=  1.0048183322356674\n",
            "iteration  9 w = 0.1907012790581295 b=  0.30922804847484775 error=  1.0152484268784228\n",
            "epoch:  1\n",
            "--------------------------------------------------\n",
            "iteration  0 w = 0.1341114422533265 b=  0.2416784346290671 error=  0.9701230650330601\n",
            "iteration  1 w = 0.09859440054441207 b=  0.1937933034118631 error=  0.9475426547256319\n",
            "iteration  2 w = 0.06392899710673533 b=  0.17881686128084745 error=  0.9431626949707443\n",
            "iteration  3 w = 0.04401516380615472 b=  0.14688910596596794 error=  0.9342416885052494\n",
            "iteration  4 w = 0.03752422914032925 b=  0.13236245407306999 error=  0.9307834061013646\n",
            "iteration  5 w = 0.04833102183431999 b=  0.13841530666899038 error=  0.9312265953173238\n",
            "iteration  6 w = 0.06169971312559195 b=  0.1485721713545211 error=  0.933026869016271\n",
            "iteration  7 w = 0.08199163926696054 b=  0.18109828431670444 error=  0.942979473114514\n",
            "iteration  8 w = 0.11284059467207494 b=  0.20982899380940517 error=  0.9543602691205809\n",
            "iteration  9 w = 0.14467697505712337 b=  0.2366094652977119 error=  0.9684567435790108\n",
            "epoch:  2\n",
            "--------------------------------------------------\n",
            "iteration  0 w = 0.09674730769659795 b=  0.18434598614439188 error=  0.943858220394671\n",
            "iteration  1 w = 0.06611644786067719 b=  0.14773793171153388 error=  0.9324348146452668\n",
            "iteration  2 w = 0.034718153170210216 b=  0.14143042896981248 error=  0.9337612513054523\n",
            "iteration  3 w = 0.017993708677139845 b=  0.11583013235481213 error=  0.9293664277410748\n",
            "iteration  4 w = 0.014550094650567143 b=  0.10665569084482686 error=  0.927792409279563\n",
            "iteration  5 w = 0.028045318191791468 b=  0.11713856525358254 error=  0.9280930704336008\n",
            "iteration  6 w = 0.04394602195376342 b=  0.1307802847623951 error=  0.9295572777913872\n",
            "iteration  7 w = 0.06644136149464308 b=  0.1661169016721161 error=  0.938427395808462\n",
            "iteration  8 w = 0.09941879134922246 b=  0.1972362552034719 error=  0.9489309080666123\n",
            "iteration  9 w = 0.13307915754574431 b=  0.22618534958676847 error=  0.9626058882659475\n",
            "epoch:  3\n",
            "--------------------------------------------------\n",
            "iteration  0 w = 0.08720133668557084 b=  0.17619881783877997 error=  0.9409890780343743\n",
            "iteration  1 w = 0.057851775391210024 b=  0.1411718049339429 error=  0.9311057636852629\n",
            "iteration  2 w = 0.0273708885147804 b=  0.13603957033578093 error=  0.9332390601219807\n",
            "iteration  3 w = 0.011606610779808336 b=  0.11122823473883978 error=  0.9293791365485555\n",
            "iteration  4 w = 0.00901079438718251 b=  0.10276318342424162 error=  0.9279295265416199\n",
            "iteration  5 w = 0.02322561461911976 b=  0.11385305013267424 error=  0.92802849448919\n",
            "iteration  6 w = 0.039795117143772096 b=  0.12796881024168963 error=  0.9292912243210936\n",
            "iteration  7 w = 0.06286242575572293 b=  0.16369286539377725 error=  0.9378606550806481\n",
            "iteration  8 w = 0.096369741243164 b=  0.1951571780271298 error=  0.9481074416957236\n",
            "iteration  9 w = 0.13046484313248174 b=  0.224442594926393 error=  0.9616346813314929\n",
            "epoch:  4\n",
            "--------------------------------------------------\n",
            "iteration  0 w = 0.08503948276892118 b=  0.1748479216750088 error=  0.9405625675790859\n",
            "iteration  1 w = 0.05598259933922128 b=  0.1400801287487695 error=  0.930951731582144\n",
            "iteration  2 w = 0.02571576354061996 b=  0.13513502835484323 error=  0.9332324953387463\n",
            "iteration  3 w = 0.010179980539701764 b=  0.11043945039536635 error=  0.9294551600589575\n",
            "iteration  4 w = 0.007781427691046335 b=  0.10208502910715857 error=  0.9280129886741563\n",
            "iteration  5 w = 0.02216170252889462 b=  0.11327246272338043 error=  0.9280582560749677\n",
            "iteration  6 w = 0.03888433184112279 b=  0.127463930707481 error=  0.9292697185829113\n",
            "iteration  7 w = 0.062081859463215955 b=  0.1632505949801542 error=  0.9377714385808845\n",
            "iteration  8 w = 0.09570811965323539 b=  0.19477286079797893 error=  0.9479593025747566\n",
            "iteration  9 w = 0.12989929829076452 b=  0.22411789176053445 error=  0.9614513278348495\n",
            "epoch:  5\n",
            "--------------------------------------------------\n",
            "iteration  0 w = 0.08457095062576708 b=  0.17459752770549192 error=  0.9404872268178393\n",
            "iteration  1 w = 0.055577713244573744 b=  0.13987743840673156 error=  0.9309295227341738\n",
            "iteration  2 w = 0.025357807360641617 b=  0.13496611756089827 error=  0.9332396022928469\n",
            "iteration  3 w = 0.009872492847221479 b=  0.11029023151501477 error=  0.9294771255438203\n",
            "iteration  4 w = 0.007517143859215907 b=  0.10195549655381542 error=  0.9280349927999986\n",
            "iteration  5 w = 0.021933490661308088 b=  0.11316065385935614 error=  0.9280680839567971\n",
            "iteration  6 w = 0.038689449521251876 b=  0.12736581565213656 error=  0.9292680633559126\n",
            "iteration  7 w = 0.06191525799672819 b=  0.16316389352770105 error=  0.9377552225262964\n",
            "iteration  8 w = 0.0955672060427483 b=  0.19469698962600593 error=  0.9479303129558702\n",
            "iteration  9 w = 0.12977900326306463 b=  0.2240535210118092 error=  0.9614146034397848\n",
            "epoch:  6\n",
            "--------------------------------------------------\n",
            "iteration  0 w = 0.08447121303648672 b=  0.17454802386019436 error=  0.9404726391307788\n",
            "iteration  1 w = 0.05549154340030299 b=  0.139837329722977 error=  0.9309257378806752\n",
            "iteration  2 w = 0.02528167593004843 b=  0.1349325922324567 error=  0.933241835322973\n",
            "iteration  3 w = 0.0098071896805732 b=  0.11026041448733848 error=  0.9294822601869812\n",
            "iteration  4 w = 0.007461078068770856 b=  0.1019294857279715 error=  0.9280400031933806\n",
            "iteration  5 w = 0.021885122730223087 b=  0.11313810927581405 error=  0.928070460424862\n",
            "iteration  6 w = 0.03864818933354029 b=  0.1273459428700999 error=  0.9292679668159058\n",
            "iteration  7 w = 0.061880023300134854 b=  0.16314625721868564 error=  0.9377520400715735\n",
            "iteration  8 w = 0.09553743145724733 b=  0.1946815037708196 error=  0.9479244137870342\n",
            "iteration  9 w = 0.12975359953803758 b=  0.22404035606336795 error=  0.9614070505396171\n",
            "epoch:  7\n",
            "--------------------------------------------------\n",
            "iteration  0 w = 0.08445014349790764 b=  0.17453791272820013 error=  0.9404696862843235\n",
            "iteration  1 w = 0.0554733418009145 b=  0.1398291340079314 error=  0.930925021797081\n",
            "iteration  2 w = 0.025265599352204633 b=  0.1349257318320575 error=  0.9332423708077696\n",
            "iteration  3 w = 0.009793408317995753 b=  0.11025429334396311 error=  0.9294833852845894\n",
            "iteration  4 w = 0.007449251791351844 b=  0.10192413356419358 error=  0.9280410903317529\n",
            "iteration  5 w = 0.021874924369069185 b=  0.11313346137666602 error=  0.9280709875953275\n",
            "iteration  6 w = 0.038639493649166065 b=  0.12734183719569098 error=  0.9292679691684775\n",
            "iteration  7 w = 0.061872600980530726 b=  0.16314260637388023 error=  0.9377513919275591\n",
            "iteration  8 w = 0.09553116184321098 b=  0.1946782930652658 error=  0.9479231920796052\n",
            "iteration  9 w = 0.12974825160031936 b=  0.22403762404148558 error=  0.9614054789114055\n",
            "epoch:  8\n",
            "--------------------------------------------------\n",
            "iteration  0 w = 0.08444570733056658 b=  0.17453581570224108 error=  0.9404690762530347\n",
            "iteration  1 w = 0.055469509636419556 b=  0.13982743389855615 error=  0.9309248785877775\n",
            "iteration  2 w = 0.02526221501397774 b=  0.13492430777653783 error=  0.9332424893292017\n",
            "iteration  3 w = 0.009790507947035941 b=  0.11025302088168969 error=  0.929483625823298\n",
            "iteration  4 w = 0.007446763400785686 b=  0.10192301978445788 error=  0.9280413218180381\n",
            "iteration  5 w = 0.021872778894907137 b=  0.11313249330671343 error=  0.928071100866562\n",
            "iteration  6 w = 0.038637664669268074 b=  0.12734098125013216 error=  0.9292679717289991\n",
            "iteration  7 w = 0.06187104015039563 b=  0.16314184457174458 error=  0.9377512576624631\n",
            "iteration  8 w = 0.09552984364575354 b=  0.1946776226335791 error=  0.9479229370881163\n",
            "iteration  9 w = 0.12974712730751653 b=  0.22403705332892007 error=  0.9614051501958809\n",
            "epoch:  9\n",
            "--------------------------------------------------\n",
            "iteration  0 w = 0.0844447746582736 b=  0.1745353777567209 error=  0.9404689490696351\n",
            "iteration  1 w = 0.05546870396628244 b=  0.1398270788140718 error=  0.9309248491715859\n",
            "iteration  2 w = 0.02526150353349134 b=  0.1349240102603828 error=  0.9332425147764625\n",
            "iteration  3 w = 0.009789898282896538 b=  0.11025275486272733 error=  0.929483676728761\n",
            "iteration  4 w = 0.0074462403838748345 b=  0.10192278682983982 error=  0.9280413707232334\n",
            "iteration  5 w = 0.021872327988509757 b=  0.11313229074924008 error=  0.9280711248894207\n",
            "iteration  6 w = 0.03863728031342002 b=  0.12734080207778525 error=  0.9292679724566846\n",
            "iteration  7 w = 0.06187071217519055 b=  0.16314168504289578 error=  0.9377512296363637\n",
            "iteration  8 w = 0.09552956667603658 b=  0.19467748219475534 error=  0.9479228836837835\n",
            "iteration  9 w = 0.12974689109072296 b=  0.22403693375688055 error=  0.9614050812872842\n",
            "최종:  w=  0.12974689109072296 b=  0.22403693375688055 error=  0.9614050812872842\n"
          ]
        }
      ]
    },
    {
      "cell_type": "markdown",
      "source": [
        "### 위에서 얻은 최종 w와 b값을 통해 y_pred를 넘파이 배열로 만들어 볼게요"
      ],
      "metadata": {
        "id": "sNncgUC7ooTU"
      }
    },
    {
      "cell_type": "code",
      "source": [
        "yy = w * x_test + b\n",
        "y_pred = np.array(yy)"
      ],
      "metadata": {
        "id": "5qu_LV3On3sF"
      },
      "execution_count": 57,
      "outputs": []
    },
    {
      "cell_type": "markdown",
      "source": [
        "### y_test와 y_pred를 이용해 mse를 구해봅시다"
      ],
      "metadata": {
        "id": "FiT0Am4QoqNY"
      }
    },
    {
      "cell_type": "code",
      "source": [
        "mean_squared_error(y_pred,y_test)"
      ],
      "metadata": {
        "colab": {
          "base_uri": "https://localhost:8080/"
        },
        "id": "r330X_70n5qK",
        "outputId": "0e33fd57-fb92-48b7-fe88-bc9fdcf6d4f9"
      },
      "execution_count": 58,
      "outputs": [
        {
          "output_type": "execute_result",
          "data": {
            "text/plain": [
              "0.7042685693806066"
            ]
          },
          "metadata": {},
          "execution_count": 58
        }
      ]
    },
    {
      "cell_type": "markdown",
      "source": [
        "#### w값에 따른 오차를 그래프를 통해 시각화 해보세요"
      ],
      "metadata": {
        "id": "IEv3F36Kosbs"
      }
    },
    {
      "cell_type": "code",
      "source": [
        "plt.plot(ww,err)\n",
        "plt.xlabel('w')\n",
        "plt.ylabel('error')"
      ],
      "metadata": {
        "colab": {
          "base_uri": "https://localhost:8080/",
          "height": 297
        },
        "id": "w_ymE9KSn7fk",
        "outputId": "8bd301e9-3bac-4d2c-bd24-c84b690d5a30"
      },
      "execution_count": 59,
      "outputs": [
        {
          "output_type": "execute_result",
          "data": {
            "text/plain": [
              "Text(0, 0.5, 'error')"
            ]
          },
          "metadata": {},
          "execution_count": 59
        },
        {
          "output_type": "display_data",
          "data": {
            "text/plain": [
              "<Figure size 432x288 with 1 Axes>"
            ],
            "image/png": "[encoded data removed]"
          },
          "metadata": {
            "needs_background": "light"
          }
        }
      ]
    },
    {
      "cell_type": "markdown",
      "source": [
        "#### 경사하강법을 통해 구한 식을 plt.plot을 통한 직선, Width와 Weight의 분포는 plt.scatter로 같이 시각화 해봅시다"
      ],
      "metadata": {
        "id": "jAqXBAkcoujD"
      }
    },
    {
      "cell_type": "code",
      "source": [
        "plt.scatter(features_con_std['Age'],features_con_std['Fare'],s = 4)\n",
        "plt.plot(features_con_std['Age'],w*np.array(features_con_std['Age']) + b,c = 'red')\n",
        "plt.xlabel('Age')\n",
        "plt.ylabel('Fare');"
      ],
      "metadata": {
        "colab": {
          "base_uri": "https://localhost:8080/",
          "height": 279
        },
        "id": "5e0iBrJMoAYW",
        "outputId": "79fb9821-f5be-42f4-bc82-370bba3d11c0"
      },
      "execution_count": 60,
      "outputs": [
        {
          "output_type": "display_data",
          "data": {
            "text/plain": [
              "<Figure size 432x288 with 1 Axes>"
            ],
            "image/png": "[encoded data removed]"
          },
          "metadata": {
            "needs_background": "light"
          }
        }
      ]
    },
    {
      "cell_type": "markdown",
      "source": [
        "# 분류\n",
        "## SGDclassifier"
      ],
      "metadata": {
        "id": "viGZhp3uqbNb"
      }
    },
    {
      "cell_type": "markdown",
      "source": [
        "#### SGD classifier에 넣을 데이터는 target, features_con_std입니다"
      ],
      "metadata": {
        "id": "VP1i4W3wqfhm"
      }
    },
    {
      "cell_type": "markdown",
      "source": [
        "#### features_con_std, 그리고 target를 훈련, 테스트 데이터로 분할합시다(test_size = 0.3)"
      ],
      "metadata": {
        "id": "hy4ZuqcRq423"
      }
    },
    {
      "cell_type": "code",
      "source": [
        "from sklearn.model_selection import train_test_split\n",
        "x_train, x_test, y_train, y_test = train_test_split(features_con_std, target, test_size = 0.3)"
      ],
      "metadata": {
        "id": "v-nXgSSWq2bM"
      },
      "execution_count": 77,
      "outputs": []
    },
    {
      "cell_type": "markdown",
      "source": [
        "#### 훈련 데이터 셋을 SGDClassifier로 학습 시키고 훈련데이터로 점수를 확인해봅시다\n",
        "#### SGDClassifier의 파라미터에 loss = 'log', max_iter = 100으로 지정해볼게요"
      ],
      "metadata": {
        "id": "pdOCVoX0rGQ2"
      }
    },
    {
      "cell_type": "code",
      "source": [
        "from sklearn.linear_model import SGDClassifier\n",
        "\n",
        "sc = SGDClassifier(loss = 'log', max_iter = 10)\n",
        "sc.fit(x_train, y_train)\n",
        "\n",
        "print(sc.score(x_train, y_train))"
      ],
      "metadata": {
        "colab": {
          "base_uri": "https://localhost:8080/"
        },
        "id": "OiZVZOnnrHb-",
        "outputId": "dbd75845-efab-4d69-a42a-04e50a3e0914"
      },
      "execution_count": 78,
      "outputs": [
        {
          "output_type": "stream",
          "name": "stdout",
          "text": [
            "0.40963855421686746\n"
          ]
        },
        {
          "output_type": "stream",
          "name": "stderr",
          "text": [
            "/usr/local/lib/python3.7/dist-packages/sklearn/linear_model/_stochastic_gradient.py:700: ConvergenceWarning: Maximum number of iteration reached before convergence. Consider increasing max_iter to improve the fit.\n",
            "  ConvergenceWarning,\n"
          ]
        }
      ]
    },
    {
      "cell_type": "code",
      "source": [
        "sc.score(x_test, y_test)"
      ],
      "metadata": {
        "colab": {
          "base_uri": "https://localhost:8080/"
        },
        "id": "zo1TJAburLks",
        "outputId": "d3b6f6b8-a007-4a59-cb65-fdd6fbf30d5d"
      },
      "execution_count": 79,
      "outputs": [
        {
          "output_type": "execute_result",
          "data": {
            "text/plain": [
              "0.397196261682243"
            ]
          },
          "metadata": {},
          "execution_count": 79
        }
      ]
    },
    {
      "cell_type": "markdown",
      "source": [
        "## Cross-entropy"
      ],
      "metadata": {
        "id": "fzz_NJiDrSNy"
      }
    },
    {
      "cell_type": "markdown",
      "source": [
        "#### logistic 회귀 모델의 성능을 cross-entropy를 통해 평가해보겠습니다."
      ],
      "metadata": {
        "id": "XE0kPDcVrbrR"
      }
    },
    {
      "cell_type": "markdown",
      "source": [
        "#### 우선 lg라는 logisticRegression 객체를 만듭시다"
      ],
      "metadata": {
        "id": "cCj_zqjuuTsC"
      }
    },
    {
      "cell_type": "code",
      "source": [
        "from sklearn.linear_model import LogisticRegression\n",
        "lg = LogisticRegression()"
      ],
      "metadata": {
        "id": "oVusyV2ar9T8"
      },
      "execution_count": 119,
      "outputs": []
    },
    {
      "cell_type": "markdown",
      "source": [
        "#### features_con_std와 target을 이용해 훈련, 테스트 데이터 셋을 나눠 줍시다\n",
        "#### 그리고 모델에 fit시킵시다"
      ],
      "metadata": {
        "id": "bWskQjoBuH-M"
      }
    },
    {
      "cell_type": "code",
      "source": [
        "from sklearn.model_selection import train_test_split\n",
        "x_train, x_test, y_train, y_test = train_test_split(features_con_std, target, test_size = 0.3)\n",
        "lg.fit(x_train, y_train)"
      ],
      "metadata": {
        "colab": {
          "base_uri": "https://localhost:8080/"
        },
        "id": "8rCBmViEr4lg",
        "outputId": "ef8f9cd8-9997-4b37-f8e7-fc3453e8ff86"
      },
      "execution_count": 120,
      "outputs": [
        {
          "output_type": "execute_result",
          "data": {
            "text/plain": [
              "LogisticRegression()"
            ]
          },
          "metadata": {},
          "execution_count": 120
        }
      ]
    },
    {
      "cell_type": "markdown",
      "source": [
        "#### 시그모이드 함수(sigmoid(x))를 선언해주세요"
      ],
      "metadata": {
        "id": "btWiD6zTuZNE"
      }
    },
    {
      "cell_type": "code",
      "source": [
        "def sigmoid(x):\n",
        "    return 1 / (1 +np.exp(-x))"
      ],
      "metadata": {
        "id": "yYLgty7ysJi8"
      },
      "execution_count": 109,
      "outputs": []
    },
    {
      "cell_type": "markdown",
      "source": [
        "#### 다 구현하였다면 아래의 코드를 실행하여 예측치(확률)을 구합시다"
      ],
      "metadata": {
        "id": "KedhhXNeudds"
      }
    },
    {
      "cell_type": "code",
      "source": [
        "pred = []\n",
        "for i in (np.array(x_test).dot(lg.coef_.T)+ lg.intercept_[0]).reshape(-1):\n",
        "  pred.append(sigmoid(i))\n",
        "pred = np.array(pred)"
      ],
      "metadata": {
        "id": "0Y9BFTuqsK7R"
      },
      "execution_count": 121,
      "outputs": []
    },
    {
      "cell_type": "markdown",
      "source": [
        "#### 아래의 cross_entropy 함수에 예측치와 실제값을 넣어줍시다.\n",
        "#### 단, 실제값(y_test)는 np.array로 변환해야 코드가 실행됩니다"
      ],
      "metadata": {
        "id": "nzWXT9AJuoQI"
      }
    },
    {
      "cell_type": "code",
      "source": [
        "def cross_entropy(pred, target):\n",
        "    # 교차 엔트로피 합\n",
        "    delta = 1e-7        # log 0을 계산할 수 없으므로, 아주 작은 값을 넣음\n",
        "    return -np.sum(target * np.log(pred + delta))\n",
        "\n",
        "cross_entropy(pred, np.array(y_test))"
      ],
      "metadata": {
        "colab": {
          "base_uri": "https://localhost:8080/"
        },
        "id": "Ic1P1AzosMoK",
        "outputId": "5590044c-b430-4278-9e21-86216bb4e10f"
      },
      "execution_count": 122,
      "outputs": [
        {
          "output_type": "execute_result",
          "data": {
            "text/plain": [
              "68.63598771398172"
            ]
          },
          "metadata": {},
          "execution_count": 122
        }
      ]
    },
    {
      "cell_type": "markdown",
      "source": [
        "#### 위에서 구한 pred는 로지스틱을 통해 산출한 확률이었습니다"
      ],
      "metadata": {
        "id": "2mBpMno1xybR"
      }
    },
    {
      "cell_type": "markdown",
      "source": [
        "#### pred 배열을 전부 np.round로 반올림하고 int자료형으로 전환해 분류형으로 만들어주세요"
      ],
      "metadata": {
        "id": "0azBxVq-u4ji"
      }
    },
    {
      "cell_type": "code",
      "source": [
        "pred_int = np.round(pred).astype('int')"
      ],
      "metadata": {
        "colab": {
          "base_uri": "https://localhost:8080/"
        },
        "id": "6XkAsuddtuLD",
        "outputId": "94ee6dfe-3555-4724-bb14-2440e6b58da4"
      },
      "execution_count": 112,
      "outputs": [
        {
          "output_type": "execute_result",
          "data": {
            "text/plain": [
              "array([0, 0, 0, 0, 1, 0, 1, 0, 0, 0, 0, 0, 0, 0, 0, 1, 1, 0, 0, 0, 0, 0,\n",
              "       0, 0, 0, 0, 0, 0, 0, 0, 1, 0, 0, 0, 1, 0, 0, 0, 0, 0, 0, 0, 0, 0,\n",
              "       1, 0, 1, 0, 0, 0, 0, 0, 0, 0, 0, 0, 0, 0, 0, 1, 0, 0, 0, 0, 0, 0,\n",
              "       0, 1, 1, 1, 0, 1, 0, 1, 0, 0, 0, 0, 0, 0, 0, 0, 0, 0, 0, 0, 0, 0,\n",
              "       0, 1, 0, 0, 0, 0, 0, 0, 0, 0, 1, 0, 1, 0, 0, 0, 0, 0, 0, 0, 0, 1,\n",
              "       0, 0, 0, 0, 0, 1, 0, 1, 0, 1, 0, 0, 0, 0, 1, 0, 0, 1, 0, 1, 0, 0,\n",
              "       0, 0, 0, 1, 0, 0, 0, 0, 0, 0, 0, 1, 1, 0, 1, 0, 0, 0, 0, 0, 1, 1,\n",
              "       0, 1, 0, 0, 0, 0, 0, 0, 0, 0, 0, 0, 0, 1, 0, 0, 0, 0, 1, 0, 0, 1,\n",
              "       0, 0, 1, 0, 1, 0, 0, 0, 0, 0, 0, 0, 0, 0, 0, 0, 0, 0, 1, 1, 1, 0,\n",
              "       0, 1, 0, 0, 0, 0, 0, 0, 0, 0, 0, 0, 0, 0, 1, 0])"
            ]
          },
          "metadata": {},
          "execution_count": 112
        }
      ]
    },
    {
      "cell_type": "code",
      "source": [
        "from sklearn.metrics import accuracy_score\n",
        "accuracy_score(pred_int,np.array(y_test))"
      ],
      "metadata": {
        "colab": {
          "base_uri": "https://localhost:8080/"
        },
        "id": "UxjVH2-UtigD",
        "outputId": "567e5b76-4139-4a09-c5f6-8fea0537921a"
      },
      "execution_count": 123,
      "outputs": [
        {
          "output_type": "execute_result",
          "data": {
            "text/plain": [
              "0.6728971962616822"
            ]
          },
          "metadata": {},
          "execution_count": 123
        }
      ]
    },
    {
      "cell_type": "markdown",
      "source": [
        "#### 성능이 너무 떨어지죠...? 이번엔 실습에서 제외하였던 변수들을 나머지 모두 사용하볼게요"
      ],
      "metadata": {
        "id": "TGWrhLCdsVsZ"
      }
    },
    {
      "cell_type": "markdown",
      "source": [
        "#### 아까 따로 분리해둔 카테고리 변수를 더미변수로써 사용할 겁니다\n",
        "#### 그전에 카테고리 변수들의 자료형을 features_cat.info()를 통해 확인해줍시다"
      ],
      "metadata": {
        "id": "fhKLGzYrvEre"
      }
    },
    {
      "cell_type": "code",
      "source": [
        "features_cat.info()"
      ],
      "metadata": {
        "colab": {
          "base_uri": "https://localhost:8080/"
        },
        "id": "iwL3qItpvNP5",
        "outputId": "93ee1352-8532-4559-99ad-ab18abebc953"
      },
      "execution_count": 130,
      "outputs": [
        {
          "output_type": "stream",
          "name": "stdout",
          "text": [
            "<class 'pandas.core.frame.DataFrame'>\n",
            "RangeIndex: 712 entries, 0 to 711\n",
            "Data columns (total 3 columns):\n",
            " #   Column    Non-Null Count  Dtype \n",
            "---  ------    --------------  ----- \n",
            " 0   Pclass    712 non-null    object\n",
            " 1   Sex       712 non-null    object\n",
            " 2   Embarked  712 non-null    object\n",
            "dtypes: object(3)\n",
            "memory usage: 16.8+ KB\n"
          ]
        }
      ]
    },
    {
      "cell_type": "markdown",
      "source": [
        "#### 싹다 object 자료형으로 전환해주세요"
      ],
      "metadata": {
        "id": "H17xRbuEvNl-"
      }
    },
    {
      "cell_type": "code",
      "source": [
        "for i in features_cat.columns:\n",
        "  features_cat[i] = features_cat[i].astype('object')"
      ],
      "metadata": {
        "id": "cHNSbyRYsfH4"
      },
      "execution_count": 89,
      "outputs": []
    },
    {
      "cell_type": "markdown",
      "source": [
        "#### pd.get_dummies를 통해 더미변수화 해주시되, drop_first=True를 꼭 추가해주세요"
      ],
      "metadata": {
        "id": "w6upowMevRzA"
      }
    },
    {
      "cell_type": "code",
      "source": [
        "features_cat_dum = pd.get_dummies(features_cat, drop_first = True)"
      ],
      "metadata": {
        "id": "7y0B2ZOVspqO"
      },
      "execution_count": 91,
      "outputs": []
    },
    {
      "cell_type": "markdown",
      "source": [
        "#### 더미화된 데이터프레임, 그리고 아까 사용한 features_con_std 데이터프레임을\n",
        "#### pd.concat을 활용해서 양옆으로 결합해주세요\n",
        "#### 이 데이터 프레임은 features_com이란 변수에 저장해줍시다"
      ],
      "metadata": {
        "id": "7PF3G5EGvo9a"
      }
    },
    {
      "cell_type": "code",
      "source": [
        "features_com = pd.concat([features_cat_dum,features_con_std],axis=1)"
      ],
      "metadata": {
        "id": "EcCg7Ysqs1hp"
      },
      "execution_count": 92,
      "outputs": []
    },
    {
      "cell_type": "markdown",
      "source": [
        "#### features_com, target으로 훈련, 테스트 데이터를 나눕시다\n",
        "#### 그리고 훈련데이터를 아까 선언한 lg에 fit해주세요"
      ],
      "metadata": {
        "id": "g9EaqV5rv9GS"
      }
    },
    {
      "cell_type": "code",
      "source": [
        "from sklearn.model_selection import train_test_split\n",
        "x_train, x_test, y_train, y_test = train_test_split(features_com, target, test_size = 0.3)\n",
        "lg.fit(x_train, y_train)"
      ],
      "metadata": {
        "colab": {
          "base_uri": "https://localhost:8080/"
        },
        "id": "W80JnVbRs8sm",
        "outputId": "3587efe9-a1a0-4526-90a6-dfa16fb631db"
      },
      "execution_count": 124,
      "outputs": [
        {
          "output_type": "execute_result",
          "data": {
            "text/plain": [
              "LogisticRegression()"
            ]
          },
          "metadata": {},
          "execution_count": 124
        }
      ]
    },
    {
      "cell_type": "markdown",
      "source": [
        "#### 위에서 구현한 로지스틱 회귀 코드를 그대로 가져왔습니다. 똑같이 실행해볼까요?"
      ],
      "metadata": {
        "id": "PvVKTSnhwy44"
      }
    },
    {
      "cell_type": "code",
      "source": [
        "pred = []\n",
        "for i in (np.array(x_test).dot(lg.coef_.T)+ lg.intercept_[0]).reshape(-1):\n",
        "  pred.append(sigmoid(i))\n",
        "pred = np.array(pred)"
      ],
      "metadata": {
        "id": "OiVucQ_dtCRu"
      },
      "execution_count": 125,
      "outputs": []
    },
    {
      "cell_type": "markdown",
      "source": [
        "#### cross-entropy와 정확도를 봅시다"
      ],
      "metadata": {
        "id": "oQQEbbMTw8f_"
      }
    },
    {
      "cell_type": "code",
      "source": [
        "cross_entropy(pred, np.array(y_test))"
      ],
      "metadata": {
        "colab": {
          "base_uri": "https://localhost:8080/"
        },
        "id": "JTguJQiLtDzq",
        "outputId": "9c9a638b-c0a4-4822-94a0-4933837aa511"
      },
      "execution_count": 126,
      "outputs": [
        {
          "output_type": "execute_result",
          "data": {
            "text/plain": [
              "46.926110280282145"
            ]
          },
          "metadata": {},
          "execution_count": 126
        }
      ]
    },
    {
      "cell_type": "code",
      "source": [
        "accuracy_score(np.round(pred).astype('int'),np.array(y_test))"
      ],
      "metadata": {
        "colab": {
          "base_uri": "https://localhost:8080/"
        },
        "id": "Rmr_yfOLwTRh",
        "outputId": "ab31b50f-2b49-497f-8867-7be0f9cb7cc4"
      },
      "execution_count": 127,
      "outputs": [
        {
          "output_type": "execute_result",
          "data": {
            "text/plain": [
              "0.822429906542056"
            ]
          },
          "metadata": {},
          "execution_count": 127
        }
      ]
    },
    {
      "cell_type": "markdown",
      "source": [
        "#### 훨씬 좋아졌네요~!!"
      ],
      "metadata": {
        "id": "tPRh1PjGxEjm"
      }
    },
    {
      "cell_type": "markdown",
      "source": [
        "#### 로지스틱도 경사하강법으로 계수랑 절편 찾는 거 구현하고 싶었는데 능력부족으로 하지 못했습니다 ㅠㅠ"
      ],
      "metadata": {
        "id": "bA2jIU6HxO9B"
      }
    },
    {
      "cell_type": "markdown",
      "source": [
        "https://tobigs.gitbook.io/tobigs/data-analysis/undefined-1/python-1\n",
        "\n",
        "혹시라도 관심있으신 분들은 이 링크 참조해주시면 될 거 같아요!!\n",
        "\n",
        "고생 많으셨습니다."
      ],
      "metadata": {
        "id": "7O4Ae_iTxVB7"
      }
    }
  ]
}